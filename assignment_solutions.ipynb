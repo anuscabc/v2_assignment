{
 "cells": [
  {
   "cell_type": "markdown",
   "metadata": {},
   "source": []
  },
  {
   "cell_type": "markdown",
   "metadata": {},
   "source": [
    "# Demand Estimation Exercise\n",
    "### Part 0 : Getting started\n",
    "\n",
    "In this assignment, you will be doing guided demand estimation for heterogeneous product models. The techniques you will use appear often in empirical research and policy scenarios. Imagine you are a practitioner trying to estimate how responsive consumers are to changes in _chocolate_ prices (elasticities of demand with respect to prices). Each firm sells a slightly different chocolate variety so you cannot assume that demand is homogenous. The most common model accounting for heterogeneous products in demand estimation was proposed by Berry (1994). This model was extensively discussed in the lecture. For the assignment, you will obtain estimates for demand elasticities using two estimation measures. Demand elasticities can only be obtained once we know the parameters defining the demand function. The purpose is that you understand how model misspecification leads to biased elasticity estimates and how such biases might impact policy and \n",
    "competition authorities decisions. You will use simulated data for which we know the data generation process (DGP) and the true value of the coefficients. A detailed description of the model is provided below. \n",
    "\n",
    "\n",
    "**(a) Model description**\n",
    "\n",
    "Consider a market with $N$ consumers, $J$ firms, across $T$ time periods (you can also see the time periods as geographically separated markets). This is an important assumption for heterogeneous product models, consumers can only activate within one market (Berry & Haile, 2020)). In this simplified model we assume firms are going to sell just one product, therefore firms and products can be used interchangeably. Consumers have heterogeneous preferences over prices. The indirect utility of the consumers is given by: \n",
    "\n",
    "$$u_{ijt} = \\beta x_j + \\alpha_{it}p_{jt} + \\xi_{jt} + \\varepsilon_{ijt}$$\n",
    "\n",
    "\n",
    "Where: \n",
    "- $x_j$ is a time-invariant product characteristic \n",
    "-  $p_{jt}$ is the price of the product sold by firm $j$ in period $t$ \n",
    "- $\\xi_{jt}$ are product-market specific fixed effects which are correlated with $p_{jt}$\n",
    "- $\\beta$ is the coefficient of the product characteristic and it is constant across consumers \n",
    "- $\\alpha_{it}$ is the consumer specific price coefficient defined as $\\alpha_{it} =  \\mu_{\\alpha} + \\sigma_{\\alpha} \\nu_{it}^{p}$, where $\\nu_{it}^{p}$ are i.i.d. standard normal random variables \n",
    "- $\\varepsilon_{ijt}$ is the error term following a type-I generalized extreme value distribution.\n",
    "\n",
    "\n",
    "Following from standard theory we can thereafter rewrite indirect utility as: \n",
    "\n",
    "$$u_{i j t}= \\delta_{jt} + \\sigma_{\\alpha} \\nu_{it}^{p}p_{jt} + \\varepsilon_{ijt},$$ \n",
    "\n",
    "where $ \\delta_{jt} = \\beta x_j + \\mu_{\\alpha} p_{jt} + \\xi_{jt}$. \n",
    "\n",
    "Each consumer purchases one unit of the good that gives them the highest utility. Each market has the same number of consumers across time, $N$. By assuming that the error term $\\varepsilon_{ijt}$ follows from the type-I extreme value distribution, the probability $f_{ijt}$ that consumer $i$ buys product $j$ in market $t$ is given by the multinomial logit function: \n",
    "\n",
    "\n",
    "$$f_{ijt} = \\frac{\\exp \\left(\\beta x_j+\\alpha_{it} p_{j t}+ \\xi_{jt}\\right)}{1+\\sum_{k=1}^J \\exp \\left(\\beta x_k + \\alpha_{it} p_{k t} +\\xi_{kt}\\right)}.$$\n",
    "\n",
    "\n",
    "\n",
    "Aggregating over the individual purchasing probabilities we get the market shares: \n",
    "\n",
    "$$\n",
    "    s_{jt}= \\int_N f_{ijt} \\text{d} \\nu.\n",
    "$$\n",
    "\n",
    "\n",
    "The model is a simplified and adapted version of the theory from the paper of Berry (1994). For additional information, clarification and theory please check the reference material. \n",
    "\n",
    "The assignment makes use of simulated data. The model has been calibrated to the following coefficients. These are the coefficients that you will try to estimate in the assignment. Ultimately, you will use the coefficients to retrieve own-price elasticities of demand: \n",
    "\n",
    "\n",
    "\n",
    "| Coefficient    |   True Value   |\n",
    "|----------------|------|\n",
    "| $\\mu_{\\alpha}$    | -1.7 |\n",
    "| $\\beta$        | -1   |\n",
    "| $\\sigma_{\\alpha}$ | 0.5  |\n",
    "\n"
   ]
  },
  {
   "cell_type": "code",
   "execution_count": 1,
   "metadata": {},
   "outputs": [],
   "source": [
    "# Import the following modules\n",
    "\n",
    "import numpy as np \n",
    "import pandas as pd \n",
    "import statsmodels.api as sm\n",
    "from scipy.stats import norm\n",
    "from scipy import optimize\n",
    "import matplotlib.pyplot as plt"
   ]
  },
  {
   "cell_type": "markdown",
   "metadata": {},
   "source": [
    "### PART 1: Data exploration (10 points)\n"
   ]
  },
  {
   "cell_type": "markdown",
   "metadata": {},
   "source": [
    "**Exercise 1**\n",
    "\n",
    "Look into the data characterizing your market. Print the data. Is it realistic that an econometrician has all the information that you have in your dataset (max 100 words)?"
   ]
  },
  {
   "cell_type": "code",
   "execution_count": 2,
   "metadata": {},
   "outputs": [
    {
     "name": "stdout",
     "output_type": "stream",
     "text": [
      "     market_ids  firm_ids    shares    prices      cost        xi     char1\n",
      "0             1         1  0.000043  4.914348  3.262528 -0.042173  4.616823\n",
      "1             1         2  0.000051  4.634007  3.331514 -0.135383  4.497339\n",
      "2             1         3  0.000026  5.536855  3.358621  0.027024  4.888996\n",
      "3             1         4  0.000038  4.896287  3.311746 -0.032851  4.744040\n",
      "4             1         5  0.000022  6.333961  3.352858  0.219944  4.990127\n",
      "..          ...       ...       ...       ...       ...       ...       ...\n",
      "995         100         6  0.000048  4.293916  3.295705 -0.192426  4.682268\n",
      "996         100         7  0.000030  6.300923  3.364446  0.177320  4.420019\n",
      "997         100         8  0.000036  6.510156  3.351038  0.253008  4.217225\n",
      "998         100         9  0.000017  7.528117  3.327199  0.394304  4.728908\n",
      "999         100        10  0.000063  3.579614  3.364513 -0.438902  4.737151\n",
      "\n",
      "[1000 rows x 7 columns]\n"
     ]
    }
   ],
   "source": [
    "# 1. Load the data using pandas \n",
    "\n",
    "df = pd.read_csv(\"simulation_data.csv\")\n",
    "# 2. Print the data\n",
    "\n",
    "# Your code here \n",
    "print(df)\n"
   ]
  },
  {
   "cell_type": "markdown",
   "metadata": {},
   "source": [
    "\n",
    "<span style=\"color:red\"> *Your description here (double click to open markdown cell):  </span>."
   ]
  },
  {
   "cell_type": "markdown",
   "metadata": {},
   "source": [
    "**Exercise 2**\n",
    "\n",
    " a) Create a histogram with: \n",
    "\n",
    "1. The distribution of prices \n",
    "2. The distribution of market shares \n",
    "\n",
    "Describe what you see in each histogram. \n",
    "\n",
    "\n",
    "b) Create a summary statistics table with the data. Describe what you see. \n",
    "\n",
    "\n"
   ]
  },
  {
   "cell_type": "code",
   "execution_count": 3,
   "metadata": {},
   "outputs": [
    {
     "data": {
      "image/png": "[encoded data removed]",
      "text/plain": [
       "<Figure size 640x480 with 1 Axes>"
      ]
     },
     "metadata": {},
     "output_type": "display_data"
    }
   ],
   "source": [
    "# Create the price histogram\n",
    "# Your code here\n",
    "plt.hist(df[\"prices\"], bins=50, edgecolor='black')\n",
    "\n",
    "# Set labels and title\n",
    "plt.xlabel('Value')\n",
    "plt.ylabel('Frequency')\n",
    "plt.title(' Prices Histogram')\n",
    "\n",
    "# Display the plot\n",
    "plt.show()"
   ]
  },
  {
   "cell_type": "markdown",
   "metadata": {},
   "source": [
    "<span style=\"color:red\">*Your description here (double click to open markdown cell): </span>."
   ]
  },
  {
   "cell_type": "code",
   "execution_count": 4,
   "metadata": {},
   "outputs": [
    {
     "data": {
      "image/png": "[encoded data removed]",
      "text/plain": [
       "<Figure size 640x480 with 1 Axes>"
      ]
     },
     "metadata": {},
     "output_type": "display_data"
    }
   ],
   "source": [
    "# Create a  shares histogram\n",
    "# Your code here\n",
    "plt.hist(df[\"shares\"], bins=50, edgecolor='black')\n",
    "\n",
    "# Set labels and title\n",
    "plt.xlabel('Value')\n",
    "plt.ylabel('Frequency')\n",
    "plt.title('Market Shares Histogram')\n",
    "\n",
    "# Display the plot\n",
    "plt.show()"
   ]
  },
  {
   "cell_type": "markdown",
   "metadata": {},
   "source": [
    "<span style=\"color:red\">*Your description here (double click to open markdown cell): </span>.\n"
   ]
  },
  {
   "cell_type": "code",
   "execution_count": 5,
   "metadata": {},
   "outputs": [],
   "source": [
    "# Your code here"
   ]
  },
  {
   "cell_type": "markdown",
   "metadata": {},
   "source": [
    "<span style=\"color:red\">*Your description here (double click to open markdown cell): </span>.\n"
   ]
  },
  {
   "cell_type": "markdown",
   "metadata": {},
   "source": [
    "### Part 2: Simple Logit Estimation (40 points)"
   ]
  },
  {
   "cell_type": "markdown",
   "metadata": {},
   "source": [
    "**Exercise 1**\n",
    "\n",
    "Estimate the simple logit model disregarding consumer heterogeneity:\n",
    "\n",
    "$$ ln(s_j) - ln(s_0) =   \\beta x_j + \\alpha p_{jt} + \\xi_{jt} $$\n",
    "\n",
    "\n",
    "To estimate the model you need to follow these steps: \n",
    "\n",
    "1. Calculate the outside good share $s_0$\n",
    "2. Create the dependent variable $\\ln(s_{jt}) - \\ln(s_{0t})$\n",
    "3. Perform the regression and report the estimated coefficients\n"
   ]
  },
  {
   "cell_type": "code",
   "execution_count": 6,
   "metadata": {},
   "outputs": [
    {
     "name": "stdout",
     "output_type": "stream",
     "text": [
      "                                 OLS Regression Results                                \n",
      "=======================================================================================\n",
      "Dep. Variable:                 shares   R-squared (uncentered):                   0.999\n",
      "Model:                            OLS   Adj. R-squared (uncentered):              0.999\n",
      "Method:                 Least Squares   F-statistic:                          5.894e+05\n",
      "Date:                Fri, 15 Dec 2023   Prob (F-statistic):                        0.00\n",
      "Time:                        11:28:02   Log-Likelihood:                         -2.3955\n",
      "No. Observations:                1000   AIC:                                      10.79\n",
      "Df Residuals:                     997   BIC:                                      25.51\n",
      "Df Model:                           3                                                  \n",
      "Covariance Type:            nonrobust                                                  \n",
      "==============================================================================\n",
      "                 coef    std err          t      P>|t|      [0.025      0.975]\n",
      "------------------------------------------------------------------------------\n",
      "prices        -0.6477      0.024    -26.838      0.000      -0.695      -0.600\n",
      "char1         -1.4479      0.028    -52.134      0.000      -1.502      -1.393\n",
      "xi             2.0370      0.124     16.413      0.000       1.793       2.280\n",
      "==============================================================================\n",
      "Omnibus:                      392.052   Durbin-Watson:                   1.380\n",
      "Prob(Omnibus):                  0.000   Jarque-Bera (JB):             2856.526\n",
      "Skew:                           1.616   Prob(JB):                         0.00\n",
      "Kurtosis:                      10.623   Cond. No.                         120.\n",
      "==============================================================================\n",
      "\n",
      "Notes:\n",
      "[1] R² is computed without centering (uncentered) since the model does not contain a constant.\n",
      "[2] Standard Errors assume that the covariance matrix of the errors is correctly specified.\n"
     ]
    }
   ],
   "source": [
    "# Your code here \n",
    "df_group_marked_id = df.groupby('market_ids').sum()\n",
    "outside_good_share = np.repeat((1 - np.array(df_group_marked_id['shares'])), 10)\n",
    "y = np.log(df['shares']) - np.log(outside_good_share)\n",
    "x = df[['prices','char1', 'xi']]\n",
    "\n",
    "\n",
    "#  Use stats model for the regression\n",
    "mod = sm.OLS(y, x).fit()\n",
    "print(mod.summary()) \n"
   ]
  },
  {
   "cell_type": "markdown",
   "metadata": {},
   "source": [
    "**Exercise 2**\n",
    "\n",
    "Compare the estimates with the true estimates. What is wrong here? (100w)\n"
   ]
  },
  {
   "cell_type": "markdown",
   "metadata": {},
   "source": [
    "<span style=\"color:red\">*Your description here (double click to open markdown cell): </span>\n"
   ]
  },
  {
   "cell_type": "markdown",
   "metadata": {},
   "source": [
    "**Exercise 3** \n",
    "\n",
    "One of the most important concerns regarding heterogeneous product demand estimation is price endogeneity. Econometricians do not observe product-specific demand shocks that might affect the estimation. Imagine that you are buying chocolate in the supermarket. One chocolate brand, Tim Choconotlonely, advertised last month that their cocoa beans are ethically sourced and their suppliers receive fair compensation for their work. People liked the advertising campaign so much that Tim Choconotlonely increased its prices. The details of the campaign are not known to the econometrician and cannot be included in the estimation.\n",
    "\n",
    "Keeping this in mind, estimate the simple model disregarding consumer heterogeneity and product fixed effects $\\xi_{jt}$: \n",
    "\n",
    "$$ ln(s_{jt}) - ln(s_0) =   \\beta x_j + \\alpha p_{jt} . $$ "
   ]
  },
  {
   "cell_type": "code",
   "execution_count": 7,
   "metadata": {},
   "outputs": [
    {
     "name": "stdout",
     "output_type": "stream",
     "text": [
      "                                 OLS Regression Results                                \n",
      "=======================================================================================\n",
      "Dep. Variable:                 shares   R-squared (uncentered):                   0.999\n",
      "Model:                            OLS   Adj. R-squared (uncentered):              0.999\n",
      "Method:                 Least Squares   F-statistic:                          6.967e+05\n",
      "Date:                Fri, 15 Dec 2023   Prob (F-statistic):                        0.00\n",
      "Time:                        11:28:02   Log-Likelihood:                         -121.99\n",
      "No. Observations:                1000   AIC:                                      248.0\n",
      "Df Residuals:                     998   BIC:                                      257.8\n",
      "Df Model:                           2                                                  \n",
      "Covariance Type:            nonrobust                                                  \n",
      "==============================================================================\n",
      "                 coef    std err          t      P>|t|      [0.025      0.975]\n",
      "------------------------------------------------------------------------------\n",
      "prices        -0.2708      0.008    -32.389      0.000      -0.287      -0.254\n",
      "char1         -1.8808      0.010   -192.018      0.000      -1.900      -1.862\n",
      "==============================================================================\n",
      "Omnibus:                      150.612   Durbin-Watson:                   1.327\n",
      "Prob(Omnibus):                  0.000   Jarque-Bera (JB):              544.461\n",
      "Skew:                           0.692   Prob(JB):                    5.91e-119\n",
      "Kurtosis:                       6.339   Cond. No.                         10.6\n",
      "==============================================================================\n",
      "\n",
      "Notes:\n",
      "[1] R² is computed without centering (uncentered) since the model does not contain a constant.\n",
      "[2] Standard Errors assume that the covariance matrix of the errors is correctly specified.\n"
     ]
    }
   ],
   "source": [
    "# Your code here\n",
    "\n",
    "x_2 = df[['prices','char1']]\n",
    "#  Use stats model for the regression\n",
    "mod_2 = sm.OLS(y, x_2).fit()\n",
    "print(mod_2.summary()) "
   ]
  },
  {
   "cell_type": "markdown",
   "metadata": {},
   "source": [
    "<span style=\"color:red\">*Your explanation here here (double click to open markdown cell): </span>.\n"
   ]
  },
  {
   "cell_type": "markdown",
   "metadata": {},
   "source": [
    "**Exercise 4**\n",
    "\n",
    "One way to address price endogeneity is by using instruments. In practice, it is common to employ both demand and supply-side instruments in heterogeneous product demand estimation (for additional information on how to construct them, see Reynaert & Verboven (2014)). For this assignment, you will use supply-side instruments: marginal costs (cost in the dataframe).\n",
    "\n",
    "Utilize the marginal cost as an instrument for price and report the estimated coefficients. "
   ]
  },
  {
   "cell_type": "code",
   "execution_count": 8,
   "metadata": {},
   "outputs": [
    {
     "name": "stdout",
     "output_type": "stream",
     "text": [
      "                                 OLS Regression Results                                \n",
      "=======================================================================================\n",
      "Dep. Variable:                 shares   R-squared (uncentered):                   0.999\n",
      "Model:                            OLS   Adj. R-squared (uncentered):              0.999\n",
      "Method:                 Least Squares   F-statistic:                          6.237e+05\n",
      "Date:                Fri, 15 Dec 2023   Prob (F-statistic):                        0.00\n",
      "Time:                        11:28:02   Log-Likelihood:                         -177.24\n",
      "No. Observations:                1000   AIC:                                      358.5\n",
      "Df Residuals:                     998   BIC:                                      368.3\n",
      "Df Model:                           2                                                  \n",
      "Covariance Type:            nonrobust                                                  \n",
      "===================================================================================\n",
      "                      coef    std err          t      P>|t|      [0.025      0.975]\n",
      "-----------------------------------------------------------------------------------\n",
      "char1              -1.1193      0.037    -30.097      0.000      -1.192      -1.046\n",
      "predicted_price    -0.9328      0.032    -28.895      0.000      -0.996      -0.869\n",
      "==============================================================================\n",
      "Omnibus:                        7.008   Durbin-Watson:                   1.598\n",
      "Prob(Omnibus):                  0.030   Jarque-Bera (JB):                9.426\n",
      "Skew:                           0.006   Prob(JB):                      0.00898\n",
      "Kurtosis:                       3.475   Cond. No.                         38.2\n",
      "==============================================================================\n",
      "\n",
      "Notes:\n",
      "[1] R² is computed without centering (uncentered) since the model does not contain a constant.\n",
      "[2] Standard Errors assume that the covariance matrix of the errors is correctly specified.\n"
     ]
    }
   ],
   "source": [
    "# Your code here\n",
    "#  Use stats model for the regression\n",
    "x_3= df[['cost','char1']]\n",
    "mod_3 = sm.OLS(df[\"prices\"],x_3 ).fit()\n",
    "price_pred = mod_3.predict(x_3)\n",
    "df[\"predicted_price\"] = price_pred\n",
    "\n",
    "\n",
    "# # Use the estimates for the second stage of the regression \n",
    "x_4 =df[['char1','predicted_price']]\n",
    "mod_4 = sm.OLS(y, x_4).fit()\n",
    "print(mod_4.summary()) \n",
    "\n"
   ]
  },
  {
   "cell_type": "markdown",
   "metadata": {},
   "source": [
    "**Exercise 5** \n",
    "\n",
    "How did the estimates change when you instrumented prices using costs? Are the observed estimates correct? Why are costs a good instrument for prices in these models?"
   ]
  },
  {
   "cell_type": "markdown",
   "metadata": {},
   "source": [
    "<span style=\"color:red\">*Your explanation here here (double click to open markdown cell): </span>."
   ]
  },
  {
   "cell_type": "markdown",
   "metadata": {},
   "source": [
    "### Part 3 - Guided Random Coefficients Estimation (30 points)\n",
    "\n",
    "In this part of the exercise you will estimate demand whilst accounting for the heterogeneity in consumer preferences over price. Helper functions have been written for you. \n",
    "\n",
    "In random coefficient estimation, the econometrician has to explicitly model the functional form of the market share variable. To estimate the demand coefficients you minimize the distance between the true market shares (observed in the data) and the market shares generated by your structural model.\n",
    "\n",
    "The coefficients on price are different for each consumer and across time periods. In each time period, each consumer is hit with an independent preference shock over price $\\nu_{it}^{p}$. In this assignment, these shocks are i.i.d. standard normal random variables. The econometrician does not know the realized value of the shocks or their underlying distribution. However,  the hsockes can be approximated by Monte Carlo simulaton. \n",
    "\n",
    "\n",
    "\n"
   ]
  },
  {
   "cell_type": "code",
   "execution_count": 9,
   "metadata": {},
   "outputs": [],
   "source": [
    "# The number of firms \n",
    "n_firms = 10\n",
    "\n",
    "# The number of consumers \n",
    "n_cons = 10000\n",
    "\n",
    "# The number of time periods\n",
    "T = 100"
   ]
  },
  {
   "cell_type": "markdown",
   "metadata": {},
   "source": [
    "**Step 1**\n",
    "Run the function that simulates the random coefficients on price "
   ]
  },
  {
   "cell_type": "code",
   "execution_count": 10,
   "metadata": {},
   "outputs": [],
   "source": [
    "def gen_price_random_coeff(alpha_sd, v_p, df): \n",
    "        \n",
    "        \"\"\"\n",
    "        Function writing the random coefficient of the utility \n",
    "\n",
    "        Inputs: \n",
    "\n",
    "        alpha_sd: the standard deviation of the price coefficients, \\sigma_{\\alpha} in model\n",
    "        v_p: random shocks, $\\nu_{it}^{p}$ in model \n",
    "        df (pandas.core.frame.DataFrame): dataframe \n",
    "\n",
    "        Outputs: \n",
    "\n",
    "        \\sigma_{\\alpha} \\nu_{it}^{p}p_{jt} in the model \n",
    "\n",
    "        \"\"\"\n",
    "        random_coefficient_prices = np.zeros((n_firms*n_cons*T, 1))\n",
    "        alpha_i = np.zeros((n_cons*T, 1))\n",
    "        for t in range(T):\n",
    "            price_r = (np.array(df['prices'][t*n_firms : (t + 1)*n_firms])).reshape(1, n_firms)\n",
    "            period_v_p = v_p[t*n_cons : (t + 1)*n_cons]\n",
    "            alpha_i_per_period = np.reshape(alpha_sd*period_v_p, \n",
    "                                             (n_cons, 1))\n",
    "            c_times_f = n_cons*n_firms\n",
    "            alpha_i[t*n_cons: (t + 1)*n_cons] = alpha_i_per_period \n",
    "            reshaped =  np.reshape(np.ravel((alpha_i_per_period*price_r).T), (c_times_f, 1))\n",
    "            random_coefficient_prices[t*c_times_f : (t + 1)*c_times_f] = reshaped\n",
    "        return random_coefficient_prices"
   ]
  },
  {
   "cell_type": "markdown",
   "metadata": {},
   "source": [
    "**Step 2**\n",
    "\n",
    "Run the function that calculates estimated mean utilities "
   ]
  },
  {
   "cell_type": "code",
   "execution_count": 11,
   "metadata": {},
   "outputs": [],
   "source": [
    "def gen_estimated_utilities(alpha_mean, beta, df): \n",
    "    \"\"\"\n",
    "\n",
    "        Function retriving mean utilities \n",
    "\n",
    "        Inputs: \n",
    "\n",
    "        alpha_mean: the mean value of the price coefficients, \\mu_{\\alpha} in model\n",
    "        beta: characteristic coefficient \n",
    "        df: (pandas.core.frame.DataFrame) dataframe \n",
    "\n",
    "        Outputs: \n",
    "\n",
    "        \\delta_{jt} in model\n",
    "\n",
    "     \"\"\"\n",
    "\n",
    "    estimated_mean_utlities = np.zeros((n_firms*T, 1))\n",
    "    for t in range(T):\n",
    "        price_r = np.array(df['prices'][t*n_firms : (t + 1)*n_firms]).reshape(n_firms, 1)\n",
    "        product_chars_period = np.array(df['char1'][t*n_firms : (t + 1)*n_firms]).reshape(n_firms, 1)\n",
    "        xi_per = np.array(df['xi'][t*n_firms : (t + 1)*n_firms]).reshape(n_firms, 1)\n",
    "        mean_indirect_utilities_period = beta*product_chars_period + alpha_mean*price_r + xi_per\n",
    "        reshaped = np.reshape(mean_indirect_utilities_period, (n_firms, 1))\n",
    "        estimated_mean_utlities[t*n_firms:(t + 1)*n_firms] = reshaped\n",
    "    return estimated_mean_utlities\n"
   ]
  },
  {
   "cell_type": "markdown",
   "metadata": {},
   "source": [
    "**Step 3** \n",
    "\n",
    "Run the function that calculates estimates market shares"
   ]
  },
  {
   "cell_type": "code",
   "execution_count": 12,
   "metadata": {},
   "outputs": [],
   "source": [
    "def gen_estimated_market_share(theta, v_p, df):\n",
    "\n",
    "    \"\"\"\n",
    "        Function for retriving estimated market shares\n",
    "\n",
    "        Inputs: \n",
    "\n",
    "        theta: list with [standard deviation price coefficient, mean price coefficient, characteristic coefficient]\n",
    "        v_p: random shocks, $\\nu_{it}^{p}$ in model \n",
    "        df: (pandas.core.frame.DataFrame) dataframe \n",
    "\n",
    "        Outputs: \n",
    "\n",
    "        s_{jt} in the model\n",
    "     \"\"\"\n",
    "    \n",
    "\n",
    "    alpha_sd = theta[0]\n",
    "    alpha_mean = theta[1]\n",
    "    beta = theta[2]\n",
    "\n",
    "    estimated_market_shares = np.zeros((n_firms*T, 1))\n",
    "    random_coeff_price = gen_price_random_coeff(alpha_sd, v_p, df)\n",
    "    mean_utilities = gen_estimated_utilities(alpha_mean, beta, df)\n",
    "    \n",
    "    for t in range(T):\n",
    "        c_times_f = n_cons*n_firms\n",
    "        coeff_per_T = random_coeff_price[t*c_times_f : (t + 1) * c_times_f]\n",
    "        repeat_u = np.repeat(mean_utilities[t*n_firms : (t + 1)*n_firms]\n",
    "                             , n_cons, axis=0)                \n",
    "        u = repeat_u + coeff_per_T \n",
    "        u_r = np.reshape(u, (n_firms, n_cons))\n",
    "        sum_u = np.sum(np.exp(u_r), axis=0)\n",
    "        all_probs = np.exp(u_r)/(1 + sum_u)\n",
    "        market_shares = np.sum(all_probs, axis=1)/n_cons\n",
    "        reshaped = np.reshape(market_shares, (n_firms, 1))\n",
    "        estimated_market_shares[t*n_firms:(t + 1)*n_firms] = reshaped\n",
    "\n",
    "    return estimated_market_shares"
   ]
  },
  {
   "cell_type": "markdown",
   "metadata": {},
   "source": [
    "**Exercise 2** \n",
    "\n",
    "Write the ojective function of the optimization. The objective function should minimize the distance between the true share vector and the estimated share vector. "
   ]
  },
  {
   "cell_type": "code",
   "execution_count": 13,
   "metadata": {},
   "outputs": [],
   "source": [
    "# Your code here\n",
    "def f(theta, v_p, df):\n",
    "    true_shares = np.array(df['shares'])\n",
    "    estimated_market_shares = gen_estimated_market_share(theta, v_p, df)\n",
    "    A = np.log(true_shares)\n",
    "    B = np.log(estimated_market_shares)\n",
    "    val = np.square(np.subtract(A, B)).mean()\n",
    "    return val"
   ]
  },
  {
   "cell_type": "markdown",
   "metadata": {},
   "source": [
    "**Exercise 3** \n",
    "\n",
    "Optimize your function f using scipy.optimize.minimize. \n",
    "\n",
    "theta_0 represent the starting value vector from your approximation. You can build it using the estimates from part 2. "
   ]
  },
  {
   "cell_type": "code",
   "execution_count": 14,
   "metadata": {},
   "outputs": [
    {
     "name": "stdout",
     "output_type": "stream",
     "text": [
      "[[ 0.49955069 -1.52471705 -1.19608748]\n",
      " [ 0.53945713 -1.71417806 -1.10078024]\n",
      " [ 0.52674564 -1.65135768 -1.13448259]\n",
      " [ 0.57427031 -1.83229205 -1.06019717]\n",
      " [ 0.57379906 -1.8477929  -1.04485077]]\n"
     ]
    }
   ],
   "source": [
    "theta_0= [0.1,  1 ,  1 ]\n",
    "\n",
    "\n",
    "N_simulation = 5\n",
    "\n",
    "results = np.zeros((N_simulation, 3))\n",
    "\n",
    "for n in range(N_simulation):\n",
    "    v_p_monte = np.random.normal(0, 1, (n_cons*T, 1))\n",
    "    res = optimize.minimize(f, theta_0, args=(v_p_monte, df), bounds=((0., 1.), (-3., -1.), (-2., -0.5)))\n",
    "    results[n,:] = res.x\n",
    "\n",
    "\n",
    "\n",
    "print(results)\n"
   ]
  },
  {
   "cell_type": "markdown",
   "metadata": {},
   "source": [
    "**Exercise 4**\n",
    "\n",
    "\n",
    "Calculate the mean value of the coefficients over all the Monte Carlo simulations. How do these results compare to your results in Part 2?"
   ]
  },
  {
   "cell_type": "code",
   "execution_count": 15,
   "metadata": {},
   "outputs": [
    {
     "name": "stdout",
     "output_type": "stream",
     "text": [
      "[ 0.54276457 -1.71406755 -1.10727965]\n"
     ]
    }
   ],
   "source": [
    "# Your code here \n",
    "print(results.mean(axis=0))\n"
   ]
  },
  {
   "cell_type": "markdown",
   "metadata": {},
   "source": [
    "<span style=\"color:red\">*Your explanation here (double click to open markdown cell): </span>."
   ]
  },
  {
   "cell_type": "markdown",
   "metadata": {},
   "source": [
    "### Part 4: Calculate price elasticies (20 points)\n",
    "\n",
    "Calculate average own-price elasticities using the parameters estimated with the simple logit and the random coefficients estimates and discuss your results (max 150w). "
   ]
  },
  {
   "cell_type": "code",
   "execution_count": 16,
   "metadata": {},
   "outputs": [],
   "source": [
    "# Your code here for estimates from the simple logit estimation\n"
   ]
  },
  {
   "cell_type": "code",
   "execution_count": 17,
   "metadata": {},
   "outputs": [],
   "source": [
    "# Your code here for estimates from the random coefficients estimation "
   ]
  },
  {
   "cell_type": "markdown",
   "metadata": {},
   "source": [
    "<span style=\"color:red\">*Your explanation here (double click to open markdown cell): </span>"
   ]
  },
  {
   "cell_type": "markdown",
   "metadata": {},
   "source": [
    "### Part 5. Bonus Question (not mandatory)\n",
    "\n",
    "\n",
    "Estimate the model in the more realistic case where you do not know the product-specific fixed effects $\\xi_{jt}$. Use the costs in the dataframe as instruments.\n",
    "\n",
    "In the _outer loop_, the GMM estimation procedure relies on the properties of the price instruments to retrieve the unbiased price coefficients. Again, use marginal costs as the instruments. \n",
    "\n",
    "Utilize the functions built for you in the guided Monte Carlo Estimation. Refer to the description offered by (Nevo, 2000).\n",
    "\n",
    "\n"
   ]
  },
  {
   "cell_type": "markdown",
   "metadata": {},
   "source": [
    "### References\n",
    "\n",
    "\n",
    "Berry, S. T. (1994). Estimating discrete-choice models of product differentiation. The RAND Journal of Economics, 242-262.\n",
    "\n",
    "\n",
    "Berry, S. T., & Haile, P. A. (2020). Nonparametric identification of differentiated products demand using micro data (No. w27704). National Bureau of Economic Research.\n",
    "\n",
    "\n",
    "Nevo, A. (2000). A practitioner's guide to estimation of random‐coefficients logit models of demand. Journal of economics & management strategy, 9(4), 513-548.\n",
    "Chicago\t\n",
    "\n",
    "\n",
    "Reynaert, M., & Verboven, F. (2014). Improving the performance of random coefficients demand models: The role of optimal instruments. Journal of Econometrics, 179(1), 83-98.\n"
   ]
  },
  {
   "cell_type": "markdown",
   "metadata": {},
   "source": [
    "<sub><sup> This assignment was developed by Ana Popovici, 11/2023</sup></sub>"
   ]
  }
 ],
 "metadata": {
  "kernelspec": {
   "display_name": "Python 3",
   "language": "python",
   "name": "python3"
  },
  "language_info": {
   "codemirror_mode": {
    "name": "ipython",
    "version": 3
   },
   "file_extension": ".py",
   "mimetype": "text/x-python",
   "name": "python",
   "nbconvert_exporter": "python",
   "pygments_lexer": "ipython3",
   "version": "3.9.6"
  },
  "orig_nbformat": 4
 },
 "nbformat": 4,
 "nbformat_minor": 2
}
