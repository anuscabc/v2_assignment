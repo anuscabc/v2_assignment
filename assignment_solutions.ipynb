{
 "cells": [
  {
   "cell_type": "markdown",
   "metadata": {},
   "source": []
  },
  {
   "cell_type": "markdown",
   "metadata": {},
   "source": [
    "# Demand Estimation Exercise\n",
    "### Part 0 : Getting started\n",
    "\n",
    "In this assignment you will be doing guided demand estimation for heterogeneous product models. The techniques presented in this assignment are commonly used in research and for policy decisions. In this assignment we will focus on obtaining post-estimation elasticities of demand from two different models. Demand elasticites can only be obtained once we know the parameters defining the demand function. The purpose is that you understand how model misspecification leads to biased elasticities estimates and how such biases might impact policy and theoretical results. For the assignment you will use simulated data for which we exactly know the data generation process. A detailed description is provided below. \n",
    "\n",
    "\n",
    "**(a) Model description**\n",
    "\n",
    "Consider a market with $N$ consumers, $J$ firms, across $T$ time periods (You can also see the time periods as geographically separated markets. This is an important assumption for heterogeneous product models, consumers can only activate within one market (Berry, 2021)). In this simplified model we assume firms are going to sell just one products, as such firms and product can be used interchangeably. The consumers have heterogeneous preferences over prices. The indirect utility of the consumers is going to be given by: \n",
    "\n",
    "$$u_{ijt} = \\beta x_j + \\alpha_{it}p_{jt} + \\xi_{jt} + \\varepsilon_{ijt}$$\n",
    "\n",
    "\n",
    "\n",
    "Where: \n",
    "- $x_j$ is a  time invariant product characteristic \n",
    "-  $p_{jt}$ is the price of the product sold by firm $j$ in period $t$ \n",
    "- $\\xi_{jt}$ are product-market specific fixed effects which are correlated with $p_{jt}$\n",
    "- $\\beta$ is the coefficient of the product characteristic and it is constant across consumers \n",
    "- $\\alpha_{it}$ is the consumer specific price coefficient defined as $\\alpha_{it} =  \\mu_{\\alpha} + \\sigma_{\\alpha} \\nu_{it}^{p}$, where $\\nu_{it}^{p}$ are i.i.d. standard normal random variables. \n",
    "-$\\varepsilon_{ijt}$ is the error term following a Type 1 extreme value distribution \n",
    "\n",
    "Following from standard theory (ref slides) we know we can thereafter rewrite indirect utility as: \n",
    "\n",
    "\n",
    "$$u_{i j t}= \\delta_{jt} + \\sigma_{\\alpha} \\nu_{it}^{p}p_{jt} + \\varepsilon_{ijt},$$ \n",
    "\n",
    "Where $ \\delta_{jt} = \\beta x_j + \\mu_{\\alpha} p_{jt} + \\xi_{jt}$\n",
    "\n",
    "Consumers purchase one unit of the good that gives them the highest utility. Each market has the same number of consumers across time, $N$. By assuming that the error term $\\varepsilon_{ijt}$ follows from the type-I extreme value distribution, the probability $f_{ijt}$ that consumer $i$ buys product $j$ in market $t$ is given by the multinomial logit function: \n",
    "\n",
    "\n",
    "$$f_{ijt} = \\frac{\\exp \\left(\\beta x_j+\\alpha_{it} p_{j t}+ \\xi_{jt}\\right)}{1+\\sum_{k=1}^J \\exp \\left(\\beta x_k + \\alpha_{it} p_{k t} +\\xi_{kt}\\right)}.$$\n",
    "\n",
    "\n",
    "\n",
    "Aggregating over the individual purchasing probabilities we get the market shares: \n",
    "\n",
    "$$\n",
    "    s_{jt}= \\int_N f_{ijt} \\text{d} \\nu.\n",
    "$$\n",
    "\n",
    "\n",
    "The model is a simplified and adapted version of the theory from the paper of \\cite{berry1994estimating}. For additional information, clarification and theory please check the reference material. \n",
    "\n",
    "The assignment makes use of simulated data. The model has been calibrated to the following coefficients. These are the coefficients that you will try to estimate in the assignment. Ultimately, you will use the coefficients to retrive own-price elasticities of demand: \n",
    "\n",
    "\n",
    "| Coefficient    |   True Value   |\n",
    "|----------------|------|\n",
    "| $\\mu_{\\alpha}$    | -1.7 |\n",
    "| $\\beta$        | -1   |\n",
    "| $\\sigma_{\\alpha}$ | 0.5  |\n"
   ]
  },
  {
   "cell_type": "markdown",
   "metadata": {},
   "source": [
    "**(b) Load the neccesaty requirements**\n",
    "\n"
   ]
  },
  {
   "cell_type": "code",
   "execution_count": 33,
   "metadata": {},
   "outputs": [],
   "source": [
    "import numpy as np \n",
    "import pandas as pd \n",
    "import statsmodels.api as sm\n",
    "from scipy.stats import norm\n",
    "from scipy import optimize\n",
    "import matplotlib.pyplot as plt"
   ]
  },
  {
   "cell_type": "markdown",
   "metadata": {},
   "source": [
    "### PART 1: Data exploration (10 points)\n"
   ]
  },
  {
   "cell_type": "markdown",
   "metadata": {},
   "source": [
    "**Exercise 1**\n",
    "\n",
    " Look into the data characterizing you market. Print the data. Is it realistic that an econometrician has all the information that you have in your dataset (max 100x)?  "
   ]
  },
  {
   "cell_type": "code",
   "execution_count": 34,
   "metadata": {},
   "outputs": [
    {
     "name": "stdout",
     "output_type": "stream",
     "text": [
      "     market_ids  firm_ids    shares    prices      cost        xi     char1\n",
      "0             1         1  0.000043  4.914348  3.262528 -0.042173  4.616823\n",
      "1             1         2  0.000051  4.634007  3.331514 -0.135383  4.497339\n",
      "2             1         3  0.000026  5.536855  3.358621  0.027024  4.888996\n",
      "3             1         4  0.000038  4.896287  3.311746 -0.032851  4.744040\n",
      "4             1         5  0.000022  6.333961  3.352858  0.219944  4.990127\n",
      "..          ...       ...       ...       ...       ...       ...       ...\n",
      "995         100         6  0.000048  4.293916  3.295705 -0.192426  4.682268\n",
      "996         100         7  0.000030  6.300923  3.364446  0.177320  4.420019\n",
      "997         100         8  0.000036  6.510156  3.351038  0.253008  4.217225\n",
      "998         100         9  0.000017  7.528117  3.327199  0.394304  4.728908\n",
      "999         100        10  0.000063  3.579614  3.364513 -0.438902  4.737151\n",
      "\n",
      "[1000 rows x 7 columns]\n"
     ]
    }
   ],
   "source": [
    "# 1. Load the data using pandas \n",
    "# Your code here \n",
    "df = pd.read_csv(\"simulation_data.csv\")\n",
    "# 2. Print the data\n",
    "# Your code here \n",
    "print(df)\n"
   ]
  },
  {
   "cell_type": "markdown",
   "metadata": {},
   "source": [
    "*Your description here (double click to open markdown cell): "
   ]
  },
  {
   "cell_type": "markdown",
   "metadata": {},
   "source": [
    "**Exercise 2**\n",
    "\n",
    " Create a histogram with: \n",
    "\n",
    "1. The distribution of prices \n",
    "2. The distribution of market shares \n",
    "\n",
    "You should use the columns from the generated dataframe. "
   ]
  },
  {
   "cell_type": "code",
   "execution_count": 35,
   "metadata": {},
   "outputs": [
    {
     "data": {
      "image/png": "[encoded data removed]",
      "text/plain": [
       "<Figure size 640x480 with 1 Axes>"
      ]
     },
     "metadata": {},
     "output_type": "display_data"
    }
   ],
   "source": [
    "# Create the price histogram\n",
    "# Your code here\n",
    "plt.hist(df[\"prices\"], bins=50, edgecolor='black')\n",
    "\n",
    "# Set labels and title\n",
    "plt.xlabel('Value')\n",
    "plt.ylabel('Frequency')\n",
    "plt.title(' Prices Histogram')\n",
    "\n",
    "# Display the plot\n",
    "plt.show()"
   ]
  },
  {
   "cell_type": "markdown",
   "metadata": {},
   "source": [
    "*Your description here (double click to open markdown cell): "
   ]
  },
  {
   "cell_type": "code",
   "execution_count": 36,
   "metadata": {},
   "outputs": [
    {
     "data": {
      "image/png": "[encoded data removed]",
      "text/plain": [
       "<Figure size 640x480 with 1 Axes>"
      ]
     },
     "metadata": {},
     "output_type": "display_data"
    }
   ],
   "source": [
    "# Create a  shares histogram\n",
    "# Your code here\n",
    "plt.hist(df[\"shares\"], bins=50, edgecolor='black')\n",
    "\n",
    "# Set labels and title\n",
    "plt.xlabel('Value')\n",
    "plt.ylabel('Frequency')\n",
    "plt.title('Market Shares Histogram')\n",
    "\n",
    "# Display the plot\n",
    "plt.show()"
   ]
  },
  {
   "cell_type": "markdown",
   "metadata": {},
   "source": [
    "*Your description here (double click to open markdown cell): "
   ]
  },
  {
   "cell_type": "markdown",
   "metadata": {},
   "source": [
    "### Part 2: Simple Logit Estimation (20 points)"
   ]
  },
  {
   "cell_type": "markdown",
   "metadata": {},
   "source": [
    "**Exercise 1**\n",
    "\n",
    "Estimate the simple logit model disregarding consumer heterogeneity\n",
    "Trying to estimate with the logit function: \n",
    "$$ ln(s_j) - ln(s_0) =   \\beta x_j + \\alpha p_{jt} + \\xi_{jt} $$\n",
    "\n",
    "\n",
    "1. Calculate the outside good share $s_0$\n",
    "2.  Create the dependent variable $\\ln(s_{jt}) - \\ln(s_{0t})$\n",
    "3. Perform the regression and report the estimated coefficients\n"
   ]
  },
  {
   "cell_type": "code",
   "execution_count": 37,
   "metadata": {},
   "outputs": [
    {
     "name": "stdout",
     "output_type": "stream",
     "text": [
      "                                 OLS Regression Results                                \n",
      "=======================================================================================\n",
      "Dep. Variable:                 shares   R-squared (uncentered):                   0.999\n",
      "Model:                            OLS   Adj. R-squared (uncentered):              0.999\n",
      "Method:                 Least Squares   F-statistic:                          5.894e+05\n",
      "Date:                Mon, 30 Oct 2023   Prob (F-statistic):                        0.00\n",
      "Time:                        17:17:51   Log-Likelihood:                         -2.3955\n",
      "No. Observations:                1000   AIC:                                      10.79\n",
      "Df Residuals:                     997   BIC:                                      25.51\n",
      "Df Model:                           3                                                  \n",
      "Covariance Type:            nonrobust                                                  \n",
      "==============================================================================\n",
      "                 coef    std err          t      P>|t|      [0.025      0.975]\n",
      "------------------------------------------------------------------------------\n",
      "prices        -0.6477      0.024    -26.838      0.000      -0.695      -0.600\n",
      "char1         -1.4479      0.028    -52.134      0.000      -1.502      -1.393\n",
      "xi             2.0370      0.124     16.413      0.000       1.793       2.280\n",
      "==============================================================================\n",
      "Omnibus:                      392.052   Durbin-Watson:                   1.380\n",
      "Prob(Omnibus):                  0.000   Jarque-Bera (JB):             2856.526\n",
      "Skew:                           1.616   Prob(JB):                         0.00\n",
      "Kurtosis:                      10.623   Cond. No.                         120.\n",
      "==============================================================================\n",
      "\n",
      "Notes:\n",
      "[1] R² is computed without centering (uncentered) since the model does not contain a constant.\n",
      "[2] Standard Errors assume that the covariance matrix of the errors is correctly specified.\n"
     ]
    }
   ],
   "source": [
    "# Your code here \n",
    "df_group_marked_id = df.groupby('market_ids').sum()\n",
    "outside_good_share = np.repeat((1 - np.array(df_group_marked_id['shares'])), 10)\n",
    "y = np.log(df['shares']) - np.log(outside_good_share)\n",
    "x = df[['prices','char1', 'xi']]\n",
    "\n",
    "\n",
    "#  Use stats model for the regression\n",
    "mod = sm.OLS(y, x).fit()\n",
    "print(mod.summary()) \n"
   ]
  },
  {
   "cell_type": "markdown",
   "metadata": {},
   "source": [
    "**Exercise 2**\n",
    "\n",
    "Compare the estimates with the true estimates. What is wrong here? (100w)\n"
   ]
  },
  {
   "cell_type": "markdown",
   "metadata": {},
   "source": [
    "Your explanation here (double click to open markdown cell):"
   ]
  },
  {
   "cell_type": "code",
   "execution_count": 38,
   "metadata": {},
   "outputs": [
    {
     "name": "stderr",
     "output_type": "stream",
     "text": [
      "/var/folders/v2/756s2x392yg86b682tz_zrl80000gn/T/ipykernel_11232/3885381087.py:9: FutureWarning: Series.__getitem__ treating keys as positions is deprecated. In a future version, integer keys will always be treated as labels (consistent with DataFrame behavior). To access a value by position, use `ser.iloc[pos]`\n",
      "  mu = mod.params[i]\n",
      "/var/folders/v2/756s2x392yg86b682tz_zrl80000gn/T/ipykernel_11232/3885381087.py:10: FutureWarning: Series.__getitem__ treating keys as positions is deprecated. In a future version, integer keys will always be treated as labels (consistent with DataFrame behavior). To access a value by position, use `ser.iloc[pos]`\n",
      "  sigma = mod.bse[i]\n"
     ]
    },
    {
     "data": {
      "image/png": "[encoded data removed]",
      "text/plain": [
       "<Figure size 800x200 with 2 Axes>"
      ]
     },
     "metadata": {},
     "output_type": "display_data"
    }
   ],
   "source": [
    "# Run the following visualization to put your results in perspective\n",
    "\n",
    "fig, axes = plt.subplots(1, 2, figsize=(8, 2))\n",
    "\n",
    "for i,ax in enumerate(axes.flatten()):\n",
    "    ax.axvline(np.vstack((-1., -1.))[i], label=\"true\", color=\"blue\")\n",
    "\n",
    "    # Plot (distribution of) estimated coefficient\n",
    "    mu = mod.params[i]\n",
    "    sigma = mod.bse[i]\n",
    "    x1 = np.linspace(mu - 4*sigma, mu + 4*sigma, 1000)\n",
    "    x2 = np.linspace(mu - 1.96*sigma, mu + 1.96*sigma, 1000)\n",
    "    \n",
    "    ax.axvline(mu, label=\"estimated\", color=\"red\")\n",
    "    ax.plot(x1, norm.pdf(x1, mu, sigma), color=\"red\")\n",
    "    ax.fill_between(x2, norm.pdf(x2, mu, sigma), color=\"red\", alpha=0.4)\n",
    "    \n",
    "    if i == 0:\n",
    "        ax.set_title(r\"$\\mu_\\alpha$\")\n",
    "    elif i == 1:\n",
    "        ax.set_title(r\"$\\beta$\")\n",
    "\n",
    "\n",
    "plt.tight_layout()\n",
    "plt.show()"
   ]
  },
  {
   "cell_type": "markdown",
   "metadata": {},
   "source": [
    "**Exercise 3**\n",
    "\n",
    "Describe what you see in the figures? How were the figures generated? (50w)"
   ]
  },
  {
   "cell_type": "markdown",
   "metadata": {},
   "source": [
    "Your description here (double click on the text to open the cell):"
   ]
  },
  {
   "cell_type": "markdown",
   "metadata": {},
   "source": [
    "### Part 3 - Guided Random Coefficients Estimation (40 points)\n",
    "\n",
    "In this part of the exercise you are going to estimate a random coefficients model. Helper functions have been written for you. \n",
    "\n",
    "**Exercise 1**\n",
    "\n",
    "Set the global variables characterizing the market. You should retrive this vairbales from the dataframe. Think about whether the dataframe tells you how many consumers are in the market. "
   ]
  },
  {
   "cell_type": "code",
   "execution_count": 39,
   "metadata": {},
   "outputs": [],
   "source": [
    "# Your code here \n",
    "\n",
    "# The number of firms \n",
    "n_firms = 10\n",
    "\n",
    "# The number of consumers \n",
    "n_cons = 10000\n",
    "\n",
    "# The number of time periods\n",
    "T = 100"
   ]
  },
  {
   "cell_type": "markdown",
   "metadata": {},
   "source": [
    "**Step 1**\n",
    "\n",
    "Run the function that calcualtes simulated the random coefficients on price \n",
    "\n",
    "\n",
    "(Go a bit more on detail description on Monte Carlo simlation in price)"
   ]
  },
  {
   "cell_type": "code",
   "execution_count": 40,
   "metadata": {},
   "outputs": [],
   "source": [
    "def gen_price_random_coeff(alpha_sd, v_p, df): \n",
    "        \n",
    "        \"\"\"\n",
    "        TODO Add docstring\n",
    "        \"\"\"\n",
    "\n",
    "        random_coefficient_prices = np.zeros((n_firms*n_cons*T, 1))\n",
    "        alpha_i = np.zeros((n_cons*T, 1))\n",
    "        for t in range(T):\n",
    "            price_r = (np.array(df['prices'][t*n_firms : (t + 1)*n_firms])).reshape(1, n_firms)\n",
    "            period_v_p = v_p[t*n_cons : (t + 1)*n_cons]\n",
    "            alpha_i_per_period = np.reshape(alpha_sd*period_v_p, \n",
    "                                             (n_cons, 1))\n",
    "            c_times_f = n_cons*n_firms\n",
    "            alpha_i[t*n_cons: (t + 1)*n_cons] = alpha_i_per_period \n",
    "            reshaped =  np.reshape(np.ravel((alpha_i_per_period*price_r).T), (c_times_f, 1))\n",
    "            random_coefficient_prices[t*c_times_f : (t + 1)*c_times_f] = reshaped\n",
    "        return random_coefficient_prices"
   ]
  },
  {
   "cell_type": "markdown",
   "metadata": {},
   "source": [
    "**Step 2**\n",
    "\n",
    "Run the function that calculates estimated mean utilities "
   ]
  },
  {
   "cell_type": "code",
   "execution_count": 41,
   "metadata": {},
   "outputs": [],
   "source": [
    "def gen_estimated_utilities(alpha_mean, beta, df): \n",
    "    \"\"\"\n",
    "    TODO Add dosctring\n",
    "    \"\"\"\n",
    "    estimated_mean_utlities = np.zeros((n_firms*T, 1))\n",
    "    for t in range(T):\n",
    "        price_r = np.array(df['prices'][t*n_firms : (t + 1)*n_firms]).reshape(n_firms, 1)\n",
    "        product_chars_period = np.array(df['char1'][t*n_firms : (t + 1)*n_firms]).reshape(n_firms, 1)\n",
    "        xi_per = np.array(df['xi'][t*n_firms : (t + 1)*n_firms]).reshape(n_firms, 1)\n",
    "        mean_indirect_utilities_period = beta*product_chars_period + alpha_mean*price_r + xi_per\n",
    "        reshaped = np.reshape(mean_indirect_utilities_period, (n_firms, 1))\n",
    "        estimated_mean_utlities[t*n_firms:(t + 1)*n_firms] = reshaped\n",
    "    return estimated_mean_utlities\n"
   ]
  },
  {
   "cell_type": "markdown",
   "metadata": {},
   "source": [
    "**Step 3** \n",
    "\n",
    "Run the function that calculates estimates market shares"
   ]
  },
  {
   "cell_type": "code",
   "execution_count": 42,
   "metadata": {},
   "outputs": [],
   "source": [
    "def gen_estimated_market_share(theta, v_p, df):\n",
    "\n",
    "    \"\"\"\n",
    "    TODO\n",
    "    \"\"\"\n",
    "\n",
    "\n",
    "    alpha_sd = theta[0]\n",
    "    alpha_mean = theta[1]\n",
    "    beta = theta[2]\n",
    "\n",
    "    estimated_market_shares = np.zeros((n_firms*T, 1))\n",
    "    random_coeff_price = gen_price_random_coeff(alpha_sd, v_p, df)\n",
    "    mean_utilities = gen_estimated_utilities(alpha_mean, beta, df)\n",
    "    \n",
    "    for t in range(T):\n",
    "        c_times_f = n_cons*n_firms\n",
    "        coeff_per_T = random_coeff_price[t*c_times_f : (t + 1) * c_times_f]\n",
    "        repeat_u = np.repeat(mean_utilities[t*n_firms : (t + 1)*n_firms]\n",
    "                             , n_cons, axis=0)                \n",
    "        u = repeat_u + coeff_per_T \n",
    "        u_r = np.reshape(u, (n_firms, n_cons))\n",
    "        sum_u = np.sum(np.exp(u_r), axis=0)\n",
    "        all_probs = np.exp(u_r)/(1 + sum_u)\n",
    "        market_shares = np.sum(all_probs, axis=1)/n_cons\n",
    "        reshaped = np.reshape(market_shares, (n_firms, 1))\n",
    "        estimated_market_shares[t*n_firms:(t + 1)*n_firms] = reshaped\n",
    "\n",
    "    return estimated_market_shares"
   ]
  },
  {
   "cell_type": "markdown",
   "metadata": {},
   "source": [
    "**Exercise 2** \n",
    "\n",
    "Write the ojective function of the optimization. The objective function should minimize the distance between the true share vector and the estimated share vector. "
   ]
  },
  {
   "cell_type": "code",
   "execution_count": 43,
   "metadata": {},
   "outputs": [],
   "source": [
    "# Your code here\n",
    "\n",
    "def f(theta, v_p, df):\n",
    "    true_shares = np.array(df['shares'])\n",
    "    estimated_market_shares = gen_estimated_market_share(theta, v_p, df)\n",
    "    # val = np.linalg.norm(np.log(true_shares) -  np.log(estimated_market_shares))\n",
    "    A = np.log(true_shares)\n",
    "    B = np.log(estimated_market_shares)\n",
    "    val = np.square(np.subtract(A, B)).mean()\n",
    "    return val"
   ]
  },
  {
   "cell_type": "markdown",
   "metadata": {},
   "source": [
    "**Exercise 3** \n",
    "\n",
    "Optimize your function f using scipy.optimize.minimize. \n",
    "\n",
    "\n",
    "TODO: Describe why they need to do the optimization multiple times\n",
    "\n",
    "Again here more detail into the Monte Carlo simulation and approximation of the shocks"
   ]
  },
  {
   "cell_type": "code",
   "execution_count": 44,
   "metadata": {},
   "outputs": [
    {
     "name": "stdout",
     "output_type": "stream",
     "text": [
      "[[ 0.58017921 -1.90123498 -1.0111024 ]\n",
      " [ 0.5724882  -1.84234464 -1.04922976]\n",
      " [ 0.56642489 -1.80608692 -1.07203947]\n",
      " [ 0.51915748 -1.62659334 -1.13919083]\n",
      " [ 0.57999214 -1.86945233 -1.0381225 ]]\n"
     ]
    }
   ],
   "source": [
    "theta_0= [0.5, -0.6477, -1.4479]\n",
    "\n",
    "\n",
    "N_simulation = 5\n",
    "\n",
    "results = np.zeros((N_simulation, 3))\n",
    "\n",
    "for n in range(N_simulation):\n",
    "    v_p_monte = np.random.normal(0, 1, (n_cons*T, 1))\n",
    "    res = optimize.minimize(f, theta_0, args=(v_p_monte, df), bounds=((0., 1.), (-3., -1.), (-2., -0.5)))\n",
    "    results[n,:] = res.x\n",
    "\n",
    "\n",
    "\n",
    "print(results)\n"
   ]
  },
  {
   "cell_type": "markdown",
   "metadata": {},
   "source": [
    "**Exercise 4**\n",
    "\n",
    "\n",
    "Calculate the mean value of the coefficients over all the Monte Carlo simulations. How do these results compare to your results in Part 2?"
   ]
  },
  {
   "cell_type": "code",
   "execution_count": 45,
   "metadata": {},
   "outputs": [
    {
     "name": "stdout",
     "output_type": "stream",
     "text": [
      "[ 0.56364838 -1.80914244 -1.06193699]\n"
     ]
    }
   ],
   "source": [
    "# Your code here \n",
    "print(results.mean(axis=0))\n"
   ]
  },
  {
   "cell_type": "markdown",
   "metadata": {},
   "source": [
    "Your discussion here (max 150w)"
   ]
  },
  {
   "cell_type": "markdown",
   "metadata": {},
   "source": [
    "### Part 4: Calculate price elasticies (30 points)\n",
    "Calculate average own-price elasticities with simple logit and the random coefficients estimates and discuss your results (max 150w). \n",
    "\n",
    "Use the following formula: \n",
    "\n",
    "\n",
    "\n",
    "\n",
    "\n"
   ]
  },
  {
   "cell_type": "code",
   "execution_count": null,
   "metadata": {},
   "outputs": [],
   "source": [
    "# Your code here for estimates from the simple logit estimation\n"
   ]
  },
  {
   "cell_type": "code",
   "execution_count": null,
   "metadata": {},
   "outputs": [],
   "source": [
    "# Your code here for estimates from the random coefficients estimation "
   ]
  },
  {
   "cell_type": "markdown",
   "metadata": {},
   "source": [
    "Your discussion here (max 150w)"
   ]
  },
  {
   "cell_type": "markdown",
   "metadata": {},
   "source": [
    "### Part 5. Bonus Question (not mandatory)\n",
    "\n",
    "Estimate the model in the more realistic case where you do not know the product-specific fixed efffects $\\xi$. For this you can use the costs in the dataframe as instruments. \n",
    "\n",
    "In the _outer loop_, the GMM estimation procedure relies on the properties of the price instruments in order to retrieve the unbiased price coefficients. For this estimation, you have to use supply side instruments.\n",
    "\n",
    "Make use of the functions build for you in the guided Monte Carlo Estimation. Make use of the description offered by (Nevo, 2000)\n",
    "\n"
   ]
  },
  {
   "cell_type": "markdown",
   "metadata": {},
   "source": [
    "### References\n",
    "\n",
    "\n",
    "Berry, S. T., & Haile, P. A. (2020). Nonparametric identification of differentiated products demand using micro data (No. w27704). National Bureau of Economic Research.\n",
    "\n",
    "\n",
    "Nevo, A. (2000). A practitioner's guide to estimation of random‐coefficients logit models of demand. Journal of economics & management strategy, 9(4), 513-548.\n",
    "Chicago\t\n",
    "\n"
   ]
  }
 ],
 "metadata": {
  "kernelspec": {
   "display_name": "Python 3",
   "language": "python",
   "name": "python3"
  },
  "language_info": {
   "codemirror_mode": {
    "name": "ipython",
    "version": 3
   },
   "file_extension": ".py",
   "mimetype": "text/x-python",
   "name": "python",
   "nbconvert_exporter": "python",
   "pygments_lexer": "ipython3",
   "version": "3.9.6"
  },
  "orig_nbformat": 4
 },
 "nbformat": 4,
 "nbformat_minor": 2
}
