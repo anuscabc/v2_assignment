{
 "cells": [
  {
   "cell_type": "markdown",
   "metadata": {},
   "source": []
  },
  {
   "cell_type": "markdown",
   "metadata": {},
   "source": [
    "# Demand Estimation Exercise\n",
    "\n",
    "In this assignment, you will learn how to simulate market data and estimate simple random coefficient demand models. The assignment should serve as an introduction to the structural estimation in heterogenous products demand models.\n",
    "\n",
    "Let's first define the model.\n",
    "\n",
    "todo: Here you need to insert all the model definiton and reference to the slides\n",
    "\n",
    "\n",
    "$$ u_{ijt} = \\beta_{it}^{'} x_j + \\alpha_{it}p_{jt} + \\xi_{jt} + \\varepsilon_{ijt}$$\n",
    "\n",
    "Where: \n",
    "\n",
    "$$ \\alpha_{it} =  \\mu_{\\alpha} + \\sigma_{\\alpha} \\nu_{it}^{\\alpha} $$ \n",
    "$$ \\beta_{it} =  \\mu_{\\beta} + \\sigma_{\\beta} \\nu_{it}^{\\beta} $$ \n",
    "\n",
    "And $\\nu_{it}^{\\alpha}$ and $\\nu_{it}^{\\beta}$ are standard normally distributed. \n",
    "\n",
    "TO DO: Define all the other parameters and how they are constructed in the simulation for the students \n",
    "\n",
    "\n",
    "decision to make: \n",
    "                - should they work only in pandas or in numpy?\n",
    "\n",
    "                  - should they simulate data themselves? or just import my module?\n",
    "\n",
    "                  - should they write the GMM estimator themselves or just apply pyBLP more times until convergence? \n",
    "                   \n",
    "                  - maybe it is enough for them to write the strucural function parameters? \n",
    "\n",
    "                 \n"
   ]
  },
  {
   "cell_type": "markdown",
   "metadata": {},
   "source": [
    "### Step 1: Simulate Data\n",
    "\n"
   ]
  },
  {
   "cell_type": "code",
   "execution_count": 1,
   "metadata": {},
   "outputs": [],
   "source": [
    "import numpy as np \n",
    "import pandas as pd \n",
    "import statsmodels.api as sm\n",
    "from scipy.stats import norm\n",
    "from scipy import optimize\n",
    "import matplotlib.pyplot as plt"
   ]
  },
  {
   "cell_type": "markdown",
   "metadata": {},
   "source": [
    "The first step is to initialize the model class\n",
    "\n",
    "To do this you need to import the \"simulation\" module that was especially constructed for this course. Make sure the assignment notebook and the simulate are in the same folder if you have not prespecified a different path for the module.  (FIND A WAY FOR THE STUDENTS TO NOT RUN IT LOCAL, BUT ON THE GIT SERVER SUCH THAT THEY DO NOT NEED TO HAVE ANYTHING INSTALLED)\n",
    "\n",
    "Lets start by setting the parameters defining the market. These include the number of firms `n_firms`, number of consumers `n_cons`, number of product charactistics `n_char` and the number of time periods (or separated markets) `T`. The larger numbers you choose the longer the opimization will take. "
   ]
  },
  {
   "cell_type": "markdown",
   "metadata": {},
   "source": [
    "We have now created an _object_, which contains all the data and functions used to generate the data. The `market.py` file contains the Python code used to define this object. The simulation code makes use of the Object-Oriented Programming (OOP) paradigm. You do not need to change this code, but you can give it a look and try to understand the simulation process. \n",
    "\n",
    "We can now print the object, which will give us a summary of the main parameters of our simulation:"
   ]
  },
  {
   "cell_type": "markdown",
   "metadata": {},
   "source": [
    "In this exercise we are going to try and estimate the parameters underlying the indirect mean utility of the consumers for buying a certain product (again reference to the slide and certain). You can easily retrive the true parameters by running the code below.\n",
    "THESE ARE THE PARAMETERS WE ARE GOING TO TRY AND ESTIMATE"
   ]
  },
  {
   "cell_type": "markdown",
   "metadata": {},
   "source": [
    "### PART 1. Data exploration\n"
   ]
  },
  {
   "cell_type": "markdown",
   "metadata": {},
   "source": []
  },
  {
   "cell_type": "markdown",
   "metadata": {},
   "source": [
    "Exercise 1: Look into the data characterizing you market. Print the dataframe object. Describe what you see. Is it all realistic? Which values are you likely to not have as an econometrician working on real datasets?"
   ]
  },
  {
   "cell_type": "code",
   "execution_count": 2,
   "metadata": {},
   "outputs": [
    {
     "name": "stdout",
     "output_type": "stream",
     "text": [
      "     market_ids  firm_ids    shares    prices      cost        xi     char1\n",
      "0             1         1  0.000043  4.914348  3.262528 -0.042173  4.616823\n",
      "1             1         2  0.000051  4.634007  3.331514 -0.135383  4.497339\n",
      "2             1         3  0.000026  5.536855  3.358621  0.027024  4.888996\n",
      "3             1         4  0.000038  4.896287  3.311746 -0.032851  4.744040\n",
      "4             1         5  0.000022  6.333961  3.352858  0.219944  4.990127\n",
      "..          ...       ...       ...       ...       ...       ...       ...\n",
      "995         100         6  0.000048  4.293916  3.295705 -0.192426  4.682268\n",
      "996         100         7  0.000030  6.300923  3.364446  0.177320  4.420019\n",
      "997         100         8  0.000036  6.510156  3.351038  0.253008  4.217225\n",
      "998         100         9  0.000017  7.528117  3.327199  0.394304  4.728908\n",
      "999         100        10  0.000063  3.579614  3.364513 -0.438902  4.737151\n",
      "\n",
      "[1000 rows x 7 columns]\n"
     ]
    }
   ],
   "source": [
    "df = pd.read_csv(\"simulation_data.csv\")\n",
    "print(df)"
   ]
  },
  {
   "cell_type": "markdown",
   "metadata": {},
   "source": [
    "Exercise 2: Create a histogram with: \n",
    "\n",
    "1. The distribution of prices \n",
    "2. The distribution of market shares \n",
    "\n",
    "You should use the columns from the generated dataframe. "
   ]
  },
  {
   "cell_type": "code",
   "execution_count": 3,
   "metadata": {},
   "outputs": [
    {
     "data": {
      "image/png": "[encoded data removed]",
      "text/plain": [
       "<Figure size 640x480 with 1 Axes>"
      ]
     },
     "metadata": {},
     "output_type": "display_data"
    }
   ],
   "source": [
    "# Create a histogram\n",
    "plt.hist(df[\"prices\"], bins=50, edgecolor='black')\n",
    "\n",
    "# Set labels and title\n",
    "plt.xlabel('Value')\n",
    "plt.ylabel('Frequency')\n",
    "plt.title(' Prices Histogram')\n",
    "\n",
    "# Display the plot\n",
    "plt.show()"
   ]
  },
  {
   "cell_type": "code",
   "execution_count": 4,
   "metadata": {},
   "outputs": [
    {
     "data": {
      "image/png": "[encoded data removed]",
      "text/plain": [
       "<Figure size 640x480 with 1 Axes>"
      ]
     },
     "metadata": {},
     "output_type": "display_data"
    }
   ],
   "source": [
    "# Create a histogram\n",
    "plt.hist(df[\"shares\"], bins=50, edgecolor='black')\n",
    "\n",
    "# Set labels and title\n",
    "plt.xlabel('Value')\n",
    "plt.ylabel('Frequency')\n",
    "plt.title('Market Shares Histogram')\n",
    "\n",
    "# Display the plot\n",
    "plt.show()"
   ]
  },
  {
   "cell_type": "markdown",
   "metadata": {},
   "source": [
    "### Part 2: Simple Logit Estimation"
   ]
  },
  {
   "cell_type": "markdown",
   "metadata": {},
   "source": [
    "Exercise 1: Estimate the simple logit model disregarding consumer heterogeneity\n",
    "\n",
    "Trying to estimate with the logit function: \n",
    "\n",
    "$$ ln(s_j) - ln(s_0) =   \\beta^{'} x_j + \\alpha p_{jt}  $$\n",
    "\n",
    "Check if this estimation leads to the correct coefficients and what we can do to improve it. "
   ]
  },
  {
   "cell_type": "code",
   "execution_count": 5,
   "metadata": {},
   "outputs": [],
   "source": [
    "df_group_marked_id = df.groupby('market_ids').sum()\n",
    "outside_good_share = np.repeat((1 - np.array(df_group_marked_id['shares'])), 10)\n",
    "y = np.log(df['shares']) - np.log(outside_good_share)\n"
   ]
  },
  {
   "cell_type": "code",
   "execution_count": 6,
   "metadata": {},
   "outputs": [
    {
     "name": "stdout",
     "output_type": "stream",
     "text": [
      "                                 OLS Regression Results                                \n",
      "=======================================================================================\n",
      "Dep. Variable:                 shares   R-squared (uncentered):                   0.999\n",
      "Model:                            OLS   Adj. R-squared (uncentered):              0.999\n",
      "Method:                 Least Squares   F-statistic:                          5.894e+05\n",
      "Date:                Mon, 30 Oct 2023   Prob (F-statistic):                        0.00\n",
      "Time:                        14:00:45   Log-Likelihood:                         -2.3955\n",
      "No. Observations:                1000   AIC:                                      10.79\n",
      "Df Residuals:                     997   BIC:                                      25.51\n",
      "Df Model:                           3                                                  \n",
      "Covariance Type:            nonrobust                                                  \n",
      "==============================================================================\n",
      "                 coef    std err          t      P>|t|      [0.025      0.975]\n",
      "------------------------------------------------------------------------------\n",
      "prices        -0.6477      0.024    -26.838      0.000      -0.695      -0.600\n",
      "char1         -1.4479      0.028    -52.134      0.000      -1.502      -1.393\n",
      "xi             2.0370      0.124     16.413      0.000       1.793       2.280\n",
      "==============================================================================\n",
      "Omnibus:                      392.052   Durbin-Watson:                   1.380\n",
      "Prob(Omnibus):                  0.000   Jarque-Bera (JB):             2856.526\n",
      "Skew:                           1.616   Prob(JB):                         0.00\n",
      "Kurtosis:                      10.623   Cond. No.                         120.\n",
      "==============================================================================\n",
      "\n",
      "Notes:\n",
      "[1] R² is computed without centering (uncentered) since the model does not contain a constant.\n",
      "[2] Standard Errors assume that the covariance matrix of the errors is correctly specified.\n"
     ]
    }
   ],
   "source": [
    "x = df[['prices','char1', 'xi']]\n",
    "# with sklearn\n",
    "mod = sm.OLS(y, x).fit()\n",
    "print(mod.summary()) "
   ]
  },
  {
   "cell_type": "markdown",
   "metadata": {},
   "source": [
    "Exercise 2: Compare the estimates with the true estimates? What is wrong here? \n"
   ]
  },
  {
   "cell_type": "code",
   "execution_count": 7,
   "metadata": {},
   "outputs": [
    {
     "name": "stderr",
     "output_type": "stream",
     "text": [
      "/var/folders/v2/756s2x392yg86b682tz_zrl80000gn/T/ipykernel_11232/3160197288.py:10: FutureWarning: Series.__getitem__ treating keys as positions is deprecated. In a future version, integer keys will always be treated as labels (consistent with DataFrame behavior). To access a value by position, use `ser.iloc[pos]`\n",
      "  mu = mod.params[i]\n",
      "/var/folders/v2/756s2x392yg86b682tz_zrl80000gn/T/ipykernel_11232/3160197288.py:11: FutureWarning: Series.__getitem__ treating keys as positions is deprecated. In a future version, integer keys will always be treated as labels (consistent with DataFrame behavior). To access a value by position, use `ser.iloc[pos]`\n",
      "  sigma = mod.bse[i]\n"
     ]
    },
    {
     "data": {
      "image/png": "[encoded data removed]",
      "text/plain": [
       "<Figure size 800x200 with 2 Axes>"
      ]
     },
     "metadata": {},
     "output_type": "display_data"
    }
   ],
   "source": [
    "# Additional visualization students do not need to do this but it is good for \n",
    "# visualization\n",
    "\n",
    "fig, axes = plt.subplots(1, 2, figsize=(8, 2))\n",
    "\n",
    "for i,ax in enumerate(axes.flatten()):\n",
    "    ax.axvline(np.vstack((-1., -1.))[i], label=\"true\", color=\"blue\")\n",
    "\n",
    "    # Plot (distribution of) estimated coefficient\n",
    "    mu = mod.params[i]\n",
    "    sigma = mod.bse[i]\n",
    "    x1 = np.linspace(mu - 4*sigma, mu + 4*sigma, 1000)\n",
    "    x2 = np.linspace(mu - 1.96*sigma, mu + 1.96*sigma, 1000)\n",
    "    \n",
    "    ax.axvline(mu, label=\"estimated\", color=\"red\")\n",
    "    ax.plot(x1, norm.pdf(x1, mu, sigma), color=\"red\")\n",
    "    ax.fill_between(x2, norm.pdf(x2, mu, sigma), color=\"red\", alpha=0.4)\n",
    "    \n",
    "    ax.set_title(f\"$coef{i+1}$\")\n",
    "\n",
    "plt.tight_layout()\n",
    "plt.show()"
   ]
  },
  {
   "cell_type": "markdown",
   "metadata": {},
   "source": [
    "### Part 3 - GMM algorithm for accounting for unobserved product characteristics "
   ]
  },
  {
   "cell_type": "markdown",
   "metadata": {},
   "source": [
    "Guided Monte Carlo Estimation \n",
    "\n",
    "\n",
    "All the funcitons are written for you, you only need to compare the estimates in\n",
    "the end and calculate and compare elasticities "
   ]
  },
  {
   "cell_type": "code",
   "execution_count": 8,
   "metadata": {},
   "outputs": [],
   "source": [
    "# Global estimation variables \n",
    "n_firms = 10\n",
    "n_cons = 10000\n",
    "T = 100"
   ]
  },
  {
   "cell_type": "code",
   "execution_count": 9,
   "metadata": {},
   "outputs": [],
   "source": [
    "def gen_price_random_coeff(alpha_sd, v_p, df): \n",
    "        \"\"\"\n",
    "        TODO\n",
    "        \"\"\"\n",
    "        random_coefficient_prices = np.zeros((n_firms*n_cons*T, 1))\n",
    "        alpha_i = np.zeros((n_cons*T, 1))\n",
    "        for t in range(T):\n",
    "            price_r = (np.array(df['prices'][t*n_firms : (t + 1)*n_firms])).reshape(1, n_firms)\n",
    "            period_v_p = v_p[t*n_cons : (t + 1)*n_cons]\n",
    "            alpha_i_per_period = np.reshape(alpha_sd*period_v_p, \n",
    "                                             (n_cons, 1))\n",
    "            c_times_f = n_cons*n_firms\n",
    "            alpha_i[t*n_cons: (t + 1)*n_cons] = alpha_i_per_period \n",
    "            reshaped =  np.reshape(np.ravel((alpha_i_per_period*price_r).T), (c_times_f, 1))\n",
    "            random_coefficient_prices[t*c_times_f : (t + 1)*c_times_f] = reshaped\n",
    "        return random_coefficient_prices"
   ]
  },
  {
   "cell_type": "code",
   "execution_count": 10,
   "metadata": {},
   "outputs": [],
   "source": [
    "def gen_estimated_utilities(alpha_mean, beta, df): \n",
    "    \"\"\"\n",
    "    TODO\n",
    "    \"\"\"\n",
    "    estimated_mean_utlities = np.zeros((n_firms*T, 1))\n",
    "    for t in range(T):\n",
    "        price_r = np.array(df['prices'][t*n_firms : (t + 1)*n_firms]).reshape(n_firms, 1)\n",
    "        product_chars_period = np.array(df['char1'][t*n_firms : (t + 1)*n_firms]).reshape(n_firms, 1)\n",
    "        xi_per = np.array(df['xi'][t*n_firms : (t + 1)*n_firms]).reshape(n_firms, 1)\n",
    "        mean_indirect_utilities_period = beta*product_chars_period + alpha_mean*price_r + xi_per\n",
    "        reshaped = np.reshape(mean_indirect_utilities_period, (n_firms, 1))\n",
    "        estimated_mean_utlities[t*n_firms:(t + 1)*n_firms] = reshaped\n",
    "    return estimated_mean_utlities\n"
   ]
  },
  {
   "cell_type": "code",
   "execution_count": 11,
   "metadata": {},
   "outputs": [],
   "source": [
    "def gen_estimated_market_share(theta, v_p, df):\n",
    "\n",
    "    # Unpack theta\n",
    "    # print(theta)\n",
    "\n",
    "    alpha_sd = theta[0]\n",
    "    alpha_mean = theta[1]\n",
    "    beta = theta[2]\n",
    "\n",
    "    estimated_market_shares = np.zeros((n_firms*T, 1))\n",
    "    random_coeff_price = gen_price_random_coeff(alpha_sd, v_p, df)\n",
    "    mean_utilities = gen_estimated_utilities(alpha_mean, beta, df)\n",
    "    \n",
    "    for t in range(T):\n",
    "        c_times_f = n_cons*n_firms\n",
    "        coeff_per_T = random_coeff_price[t*c_times_f : (t + 1) * c_times_f]\n",
    "        repeat_u = np.repeat(mean_utilities[t*n_firms : (t + 1)*n_firms]\n",
    "                             , n_cons, axis=0)                \n",
    "        u = repeat_u + coeff_per_T \n",
    "        u_r = np.reshape(u, (n_firms, n_cons))\n",
    "        sum_u = np.sum(np.exp(u_r), axis=0)\n",
    "        all_probs = np.exp(u_r)/(1 + sum_u)\n",
    "        market_shares = np.sum(all_probs, axis=1)/n_cons\n",
    "        reshaped = np.reshape(market_shares, (n_firms, 1))\n",
    "        estimated_market_shares[t*n_firms:(t + 1)*n_firms] = reshaped\n",
    "\n",
    "    return estimated_market_shares"
   ]
  },
  {
   "cell_type": "code",
   "execution_count": 12,
   "metadata": {},
   "outputs": [],
   "source": [
    "def f(theta, v_p, df):\n",
    "    true_shares = np.array(df['shares'])\n",
    "    estimated_market_shares = gen_estimated_market_share(theta, v_p, df)\n",
    "    # val = np.linalg.norm(np.log(true_shares) -  np.log(estimated_market_shares))\n",
    "    A = np.log(true_shares)\n",
    "    B = np.log(estimated_market_shares)\n",
    "    val = np.square(np.subtract(A, B)).mean()\n",
    "    return val"
   ]
  },
  {
   "cell_type": "code",
   "execution_count": 13,
   "metadata": {},
   "outputs": [
    {
     "name": "stdout",
     "output_type": "stream",
     "text": [
      "[[0. 0. 0.]\n",
      " [0. 0. 0.]\n",
      " [0. 0. 0.]\n",
      " [0. 0. 0.]\n",
      " [0. 0. 0.]]\n"
     ]
    }
   ],
   "source": [
    "theta_0= [0.5, -0.6477, -1.4479]\n",
    "\n",
    "\n",
    "N_simulation = 5\n",
    "\n",
    "results = np.zeros((N_simulation, 3))\n",
    "print(results)\n",
    "\n",
    "for n in range(N_simulation):\n",
    "    v_p_monte = np.random.normal(0, 1, (n_cons*T, 1))\n",
    "    res = optimize.minimize(f, theta_0, args=(v_p_monte, df), bounds=((0., 1.), (-3., -1.), (-2., -0.5)))\n",
    "    results[n,:] = res.x\n",
    "\n",
    "\n",
    "\n",
    "print(results)\n"
   ]
  },
  {
   "cell_type": "code",
   "execution_count": null,
   "metadata": {},
   "outputs": [
    {
     "name": "stdout",
     "output_type": "stream",
     "text": [
      "[ 0.53290352 -1.68113824 -1.11865267]\n"
     ]
    }
   ],
   "source": [
    "print(results.mean(axis=0))\n",
    "print\n"
   ]
  },
  {
   "cell_type": "markdown",
   "metadata": {},
   "source": [
    "### Calculate price elasticities with simple logit and the random coefficients estimates and discuss your results (max 150w)\n",
    "\n",
    "\n"
   ]
  },
  {
   "cell_type": "markdown",
   "metadata": {},
   "source": [
    "### Part 4. Bonus Question (not mandatory)\n",
    "\n",
    "Estimate the model in the more realistic case where you do not know the product-specific fixed efffects $\\xi$. For this you can use the costs in the dataframe as instruments. Recall that the GMM estimation can be calculated as: \n",
    "\n",
    "In the _outer loop_, the GMM estimation procedure relies on the properties of the price instruments in order to retrieve the unbiased price coefficients. For this estimation, I will use supply side instruments. Thus, the GMM estimator can be defined as: \n",
    "\n",
    "$$ \\min_{(\\mu_p, \\sigma_p, \\mathbf{\\beta})} q(\\mu_p, \\sigma_p, \\boldsymbol{\\beta}) = g_s(\\mu_p, \\sigma_p, \\boldsymbol{\\beta})'W g_s(\\mu_p, \\sigma_p, \\boldsymbol{\\beta}) $$\n",
    "\n",
    "Where $g_s(\\mu, \\sigma, \\boldsymbol{\\beta})$ is given as:\n",
    "\n",
    "\n",
    "$$ g_s(\\mu_p, \\sigma_p, \\boldsymbol{\\beta}) = \\left[ \\frac{1}{N}\\sum_{j,t} \\kappa_{jt}Z^s_{jt} \\right]$$\n",
    "    \n",
    "Here, $Z^s_{jt}$ represents cost levels and $\\kappa_{jt}$ represents the error in the functional form of the marginal cost imposed by the model \n",
    "\n",
    "\n",
    "Make use of the functions build for you in the guided Monte Carlo Estimation. \n",
    "\n"
   ]
  },
  {
   "cell_type": "markdown",
   "metadata": {},
   "source": []
  },
  {
   "cell_type": "code",
   "execution_count": null,
   "metadata": {},
   "outputs": [],
   "source": [
    "###"
   ]
  }
 ],
 "metadata": {
  "kernelspec": {
   "display_name": "Python 3",
   "language": "python",
   "name": "python3"
  },
  "language_info": {
   "codemirror_mode": {
    "name": "ipython",
    "version": 3
   },
   "file_extension": ".py",
   "mimetype": "text/x-python",
   "name": "python",
   "nbconvert_exporter": "python",
   "pygments_lexer": "ipython3",
   "version": "3.9.6"
  },
  "orig_nbformat": 4
 },
 "nbformat": 4,
 "nbformat_minor": 2
}
