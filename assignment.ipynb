{
 "cells": [
  {
   "cell_type": "markdown",
   "metadata": {},
   "source": []
  },
  {
   "cell_type": "code",
   "execution_count": null,
   "metadata": {},
   "outputs": [],
   "source": []
  },
  {
   "cell_type": "markdown",
   "metadata": {},
   "source": [
    "# Demand Estimation Exercise\n",
    "\n",
    "In this assignment, you will learn how to simulate market data and estimate simple random coefficient demand models. The assignment should serve as an introduction to the structural estimation in heterogenous products demand models.\n",
    "\n",
    "Let's first define the model.\n",
    "\n",
    "todo: Here you need to insert all the model definiton and reference to the slides\n",
    "\n",
    "\n",
    "$$ u_{ijt} = \\beta_{it}^{'} x_j + \\alpha_{it}p_{jt} + \\xi_{jt} + \\varepsilon_{ijt}$$\n",
    "\n",
    "Where: \n",
    "\n",
    "$$ \\alpha_{it} =  \\mu_{\\alpha} + \\sigma_{\\alpha} \\nu_{it}^{\\alpha} $$ \n",
    "$$ \\beta_{it} =  \\mu_{\\beta} + \\sigma_{\\beta} \\nu_{it}^{\\beta} $$ \n",
    "\n",
    "And $\\nu_{it}^{\\alpha}$ and $\\nu_{it}^{\\beta}$ are standard normally distributed. \n",
    "\n",
    "TO DO: Define all the other parameters and how they are constructed in the simulation for the students \n",
    "\n",
    "\n",
    "decision to make: \n",
    "                - should they work only in pandas or in numpy?\n",
    "\n",
    "                  - should they simulate data themselves? or just import my module?\n",
    "\n",
    "                  - should they write the GMM estimator themselves or just apply pyBLP more times until convergence? \n",
    "                   \n",
    "                  - maybe it is enough for them to write the strucural function parameters? \n",
    "\n",
    "                 \n"
   ]
  },
  {
   "cell_type": "markdown",
   "metadata": {},
   "source": [
    "### Step 1: Simulate Data\n",
    "\n"
   ]
  },
  {
   "cell_type": "code",
   "execution_count": 1,
   "metadata": {},
   "outputs": [],
   "source": [
    "import market\n",
    "import numpy as np \n",
    "import pandas as pd \n",
    "import statsmodels.api as sm\n",
    "import scipy.stats as stats\n",
    "import matplotlib.pyplot as plt\n",
    "import pyblp"
   ]
  },
  {
   "cell_type": "markdown",
   "metadata": {},
   "source": [
    "The first step is to initialize the model class\n",
    "\n",
    "To do this you need to import the \"simulation\" module that was especially constructed for this course. Make sure the assignment notebook and the simulate are in the same folder if you have not prespecified a different path for the module.  (FIND A WAY FOR THE STUDENTS TO NOT RUN IT LOCAL, BUT ON THE GIT SERVER SUCH THAT THEY DO NOT NEED TO HAVE ANYTHING INSTALLED)\n",
    "\n",
    "Lets start by setting the parameters defining the market. These include the number of firms `n_firms`, number of consumers `n_cons`, number of product charactistics `n_char` and the number of time periods (or separated markets) `T`. The larger numbers you choose the longer the opimization will take. "
   ]
  },
  {
   "cell_type": "code",
   "execution_count": 2,
   "metadata": {},
   "outputs": [],
   "source": [
    "# Set the number of firms and consumers, the number of characteristics and the\n",
    "# number of time steps.\n",
    "n_firms = 10\n",
    "n_cons = 100\n",
    "n_char = 2\n",
    "T = 100\n",
    "\n",
    "# Initialize the market object\n",
    "market_object = market.MarketData(n_firms, n_cons, n_char, T)"
   ]
  },
  {
   "cell_type": "markdown",
   "metadata": {},
   "source": [
    "We have now created an _object_, which contains all the data and functions used to generate the data. The `market.py` file contains the Python code used to define this object. The simulation code makes use of the Object-Oriented Programming (OOP) paradigm. You do not need to change this code, but you can give it a look and try to understand the simulation process. \n",
    "\n",
    "We can now print the object, which will give us a summary of the main parameters of our simulation:"
   ]
  },
  {
   "cell_type": "code",
   "execution_count": 3,
   "metadata": {},
   "outputs": [
    {
     "name": "stdout",
     "output_type": "stream",
     "text": [
      "Market with 10 firms and 100 consumers over 100 time periods. \n",
      " Firms sell differentiated product which have 2 product characteristics\n"
     ]
    }
   ],
   "source": [
    "print(market_object)"
   ]
  },
  {
   "cell_type": "markdown",
   "metadata": {},
   "source": [
    "In this exercise we are going to try and estimate the parameters underlying the indirect mean utility of the consumers for buying a certain product (again reference to the slide and certain). You can easily retrive the true parameters by running the code below.\n",
    "THESE ARE THE PARAMETERS WE ARE GOING TO TRY AND ESTIMATE"
   ]
  },
  {
   "cell_type": "code",
   "execution_count": 4,
   "metadata": {},
   "outputs": [
    {
     "name": "stdout",
     "output_type": "stream",
     "text": [
      "This is the mean price coefficeient -1.7\n",
      "This is the standard deviation of the price coefficient 0.2\n",
      "These are the means characteristics coefficeients \n",
      "[[-1.9833455 ]\n",
      " [-3.38661129]]\n",
      "These are standard deviations of the characteritics coefficients \n",
      " [[0.14049602]\n",
      " [0.02282706]]\n"
     ]
    }
   ],
   "source": [
    "# For the parameters underlying the distribution of the price coefficients \n",
    "print(f\"This is the mean price coefficeient {market_object.alpha_mean}\")\n",
    "print(f\"This is the standard deviation of the price coefficient {market_object.alpha_sd}\")\n",
    "\n",
    "# For the parameters underlying the distribution of the product characteristics coefficients \n",
    "print(f\"These are the means characteristics coefficeients \\n{market_object.beta_0}\")\n",
    "print(f\"These are standard deviations of the characteritics coefficients \\n {market_object.beta_sd}\")\n"
   ]
  },
  {
   "cell_type": "markdown",
   "metadata": {},
   "source": [
    "### PART 1. Data exploration\n"
   ]
  },
  {
   "cell_type": "markdown",
   "metadata": {},
   "source": [
    "Exercise 1: Look into the data characterizing you market. Print the dataframe object. Describe what you see. Is it all realistic? Which values are you likely to not have as an econometrician working on real datasets?"
   ]
  },
  {
   "cell_type": "code",
   "execution_count": 5,
   "metadata": {},
   "outputs": [
    {
     "name": "stdout",
     "output_type": "stream",
     "text": [
      "     market_ids  firm_ids        shares    prices      cost        xi  \\\n",
      "0             1         1  9.969896e-08  4.905888  3.262528 -0.042173   \n",
      "1             1         2  4.337346e-08  4.561659  3.331514 -0.135383   \n",
      "2             1         3  9.601934e-09  5.601977  3.358621  0.027024   \n",
      "3             1         4  5.677340e-07  4.626180  3.311746 -0.032851   \n",
      "4             1         5  7.667843e-09  6.069318  3.352858  0.219944   \n",
      "..          ...       ...           ...       ...       ...       ...   \n",
      "995         100         6  2.259996e-07  4.182855  3.295705 -0.192426   \n",
      "996         100         7  3.635298e-08  6.290395  3.364446  0.177320   \n",
      "997         100         8  4.005009e-08  6.224980  3.351038  0.253008   \n",
      "998         100         9  5.683426e-09  7.530053  3.327199  0.394304   \n",
      "999         100        10  1.355554e-07  3.515811  3.364513 -0.438902   \n",
      "\n",
      "        char1     char2  \n",
      "0    1.616823  1.497339  \n",
      "1    1.888996  1.744040  \n",
      "2    1.990127  1.682268  \n",
      "3    1.420019  1.217225  \n",
      "4    1.728908  1.737151  \n",
      "..        ...       ...  \n",
      "995  1.673896  1.527821  \n",
      "996  1.649450  1.216878  \n",
      "997  1.696201  1.251719  \n",
      "998  1.478058  1.435829  \n",
      "999  1.584679  1.945299  \n",
      "\n",
      "[1000 rows x 8 columns]\n"
     ]
    }
   ],
   "source": [
    "df = market_object.generate_simulated_data()\n",
    "\n",
    "# Print here the dataframe (delete answer before hand in students)\n",
    "print(df)\n",
    "\n",
    "# Describe in 100 words max what you see (as a comment in the cell or in a \n",
    "# separate markdown cell: \n",
    "# Which values are you not likely to not observe when working with real datasets?"
   ]
  },
  {
   "cell_type": "markdown",
   "metadata": {},
   "source": [
    "Exercise 2: Create a histogram with: \n",
    "\n",
    "1. The distribution of prices \n",
    "2. The distribution of market shares \n",
    "\n",
    "You should use the columns from the generated dataframe. "
   ]
  },
  {
   "cell_type": "code",
   "execution_count": 6,
   "metadata": {},
   "outputs": [
    {
     "data": {
      "image/png": "[encoded data removed]",
      "text/plain": [
       "<Figure size 640x480 with 1 Axes>"
      ]
     },
     "metadata": {},
     "output_type": "display_data"
    }
   ],
   "source": [
    "# Create a histogram\n",
    "plt.hist(df[\"prices\"], bins=50, edgecolor='black')\n",
    "\n",
    "# Set labels and title\n",
    "plt.xlabel('Value')\n",
    "plt.ylabel('Frequency')\n",
    "plt.title(' Prices Histogram')\n",
    "\n",
    "# Display the plot\n",
    "plt.show()"
   ]
  },
  {
   "cell_type": "code",
   "execution_count": 7,
   "metadata": {},
   "outputs": [
    {
     "data": {
      "image/png": "[encoded data removed]",
      "text/plain": [
       "<Figure size 640x480 with 1 Axes>"
      ]
     },
     "metadata": {},
     "output_type": "display_data"
    }
   ],
   "source": [
    "# Create a histogram\n",
    "plt.hist(df[\"shares\"], bins=50, edgecolor='black')\n",
    "\n",
    "# Set labels and title\n",
    "plt.xlabel('Value')\n",
    "plt.ylabel('Frequency')\n",
    "plt.title('Market Shares Histogram')\n",
    "\n",
    "# Display the plot\n",
    "plt.show()"
   ]
  },
  {
   "cell_type": "markdown",
   "metadata": {},
   "source": [
    "### Part 2: Simple Logit Estimation"
   ]
  },
  {
   "cell_type": "markdown",
   "metadata": {},
   "source": [
    "Exercise 1: Estimate the simple logit model disregarding consumer heterogeneity\n",
    "\n",
    "Trying to estimate with the logit function: \n",
    "\n",
    "$$ ln(s_j) - ln(s_0) =   \\beta^{'} x_j + \\alpha p_{jt}  $$\n",
    "\n",
    "Check if this estimation leads to the correct coefficients and what we can do to improve it. "
   ]
  },
  {
   "cell_type": "code",
   "execution_count": 8,
   "metadata": {},
   "outputs": [],
   "source": [
    "# Maybe let the students do this in pandas because it seems to much to ask to \n",
    "# use the attributes in 1-2 weeks? \n",
    "reshape = np.reshape(market_object.market_shares, (T, n_firms))\n",
    "sum_market_shares = np.sum(reshape, axis=1)\n",
    "repeated_sum_shares = np.reshape(np.repeat(sum_market_shares, n_firms), (n_firms*T, 1))\n",
    "y  = np.log(market_object.market_shares) - np.log(repeated_sum_shares)    "
   ]
  },
  {
   "cell_type": "code",
   "execution_count": 20,
   "metadata": {},
   "outputs": [
    {
     "name": "stdout",
     "output_type": "stream",
     "text": [
      "                                 OLS Regression Results                                \n",
      "=======================================================================================\n",
      "Dep. Variable:                      y   R-squared (uncentered):                   0.911\n",
      "Model:                            OLS   Adj. R-squared (uncentered):              0.911\n",
      "Method:                 Least Squares   F-statistic:                              3403.\n",
      "Date:                Tue, 24 Oct 2023   Prob (F-statistic):                        0.00\n",
      "Time:                        12:38:17   Log-Likelihood:                         -1504.5\n",
      "No. Observations:                1000   AIC:                                      3015.\n",
      "Df Residuals:                     997   BIC:                                      3030.\n",
      "Df Model:                           3                                                  \n",
      "Covariance Type:            nonrobust                                                  \n",
      "==============================================================================\n",
      "                 coef    std err          t      P>|t|      [0.025      0.975]\n",
      "------------------------------------------------------------------------------\n",
      "prices        -0.7504      0.030    -25.135      0.000      -0.809      -0.692\n",
      "char1          2.5668      0.171     15.005      0.000       2.231       2.902\n",
      "char2         -2.3723      0.158    -15.023      0.000      -2.682      -2.062\n",
      "==============================================================================\n",
      "Omnibus:                       22.878   Durbin-Watson:                   2.049\n",
      "Prob(Omnibus):                  0.000   Jarque-Bera (JB):               24.071\n",
      "Skew:                          -0.374   Prob(JB):                     5.93e-06\n",
      "Kurtosis:                       2.867   Cond. No.                         38.2\n",
      "==============================================================================\n",
      "\n",
      "Notes:\n",
      "[1] R² is computed without centering (uncentered) since the model does not contain a constant.\n",
      "[2] Standard Errors assume that the covariance matrix of the errors is correctly specified.\n"
     ]
    }
   ],
   "source": [
    "x = df[['prices','char1', 'char2']]\n",
    "# with sklearn\n",
    "mod = sm.OLS(y, x).fit()\n",
    "print(mod.summary()) "
   ]
  },
  {
   "cell_type": "markdown",
   "metadata": {},
   "source": [
    "Exercise 2: Compare the estimates with the true estimates? What is wrong here? \n"
   ]
  },
  {
   "cell_type": "code",
   "execution_count": 21,
   "metadata": {},
   "outputs": [
    {
     "name": "stdout",
     "output_type": "stream",
     "text": [
      "The true parameters are alpha = -1.7 and beta = \n",
      " [[-1.9833455 ]\n",
      " [-3.38661129]]  \n",
      "\n",
      "\n",
      "The estimates parameters are alpha = -0.750361885036317 and beta = \n",
      " char1    2.566763\n",
      "char2   -2.372297\n",
      "dtype: float64 \n",
      "\n",
      "\n"
     ]
    },
    {
     "name": "stderr",
     "output_type": "stream",
     "text": [
      "/var/folders/v2/756s2x392yg86b682tz_zrl80000gn/T/ipykernel_92322/1101434554.py:4: FutureWarning: Series.__getitem__ treating keys as positions is deprecated. In a future version, integer keys will always be treated as labels (consistent with DataFrame behavior). To access a value by position, use `ser.iloc[pos]`\n",
      "  print(f\"The estimates parameters are alpha = {mod.params[0]} and beta = \\n {mod.params[1:n_char+1]} \\n\\n\")\n"
     ]
    }
   ],
   "source": [
    "print(f\"The true parameters are alpha = {market_object.alpha_mean} and beta = \\n {market_object.beta_0}  \\n\\n\")\n",
    "\n",
    "\n",
    "print(f\"The estimates parameters are alpha = {mod.params[0]} and beta = \\n {mod.params[1:n_char+1]} \\n\\n\")"
   ]
  },
  {
   "cell_type": "code",
   "execution_count": 11,
   "metadata": {},
   "outputs": [
    {
     "name": "stderr",
     "output_type": "stream",
     "text": [
      "/var/folders/v2/756s2x392yg86b682tz_zrl80000gn/T/ipykernel_92322/1053170615.py:10: FutureWarning: Series.__getitem__ treating keys as positions is deprecated. In a future version, integer keys will always be treated as labels (consistent with DataFrame behavior). To access a value by position, use `ser.iloc[pos]`\n",
      "  mu = mod.params[i+1]\n",
      "/var/folders/v2/756s2x392yg86b682tz_zrl80000gn/T/ipykernel_92322/1053170615.py:11: FutureWarning: Series.__getitem__ treating keys as positions is deprecated. In a future version, integer keys will always be treated as labels (consistent with DataFrame behavior). To access a value by position, use `ser.iloc[pos]`\n",
      "  sigma = mod.bse[i+1]\n"
     ]
    },
    {
     "data": {
      "image/png": "[encoded data removed]",
      "text/plain": [
       "<Figure size 600x400 with 2 Axes>"
      ]
     },
     "metadata": {},
     "output_type": "display_data"
    }
   ],
   "source": [
    "# Additional visualization students do not need to do this but it is good for \n",
    "# visualization\n",
    "\n",
    "fig, axes = plt.subplots(2, 1, figsize=(6, 4))\n",
    "\n",
    "for i,ax in enumerate(axes.flatten()):\n",
    "    ax.axvline(market_object.beta_0[i], label=\"true\", color=\"blue\")\n",
    "\n",
    "    # Plot (distribution of) estimated coefficient\n",
    "    mu = mod.params[i+1]\n",
    "    sigma = mod.bse[i+1]\n",
    "    x1 = np.linspace(mu - 4*sigma, mu + 4*sigma, 1000)\n",
    "    x2 = np.linspace(mu - 1.96*sigma, mu + 1.96*sigma, 1000)\n",
    "    \n",
    "    ax.axvline(mu, label=\"estimated\", color=\"red\")\n",
    "    ax.plot(x1, stats.norm.pdf(x1, mu, sigma), color=\"red\")\n",
    "    ax.fill_between(x2, stats.norm.pdf(x2, mu, sigma), color=\"red\", alpha=0.4)\n",
    "    \n",
    "    ax.set_title(f\"$\\\\beta_{i+1}$\")\n",
    "\n",
    "plt.tight_layout()\n",
    "plt.show()"
   ]
  },
  {
   "cell_type": "markdown",
   "metadata": {},
   "source": [
    "### Part 3: Estimation with the PyBLP package (without supply side problem)\n"
   ]
  },
  {
   "cell_type": "code",
   "execution_count": 12,
   "metadata": {},
   "outputs": [
    {
     "data": {
      "text/plain": [
       "(prices + char1 + char2, prices + char1 + char2)"
      ]
     },
     "execution_count": 12,
     "metadata": {},
     "output_type": "execute_result"
    }
   ],
   "source": [
    "X1_formulation = pyblp.Formulation('0 + prices + char1 + char2')\n",
    "X2_formulation = pyblp.Formulation('0 + prices + char1 + char2')\n",
    "product_formulations = (X1_formulation, X2_formulation)\n",
    "product_formulations"
   ]
  },
  {
   "cell_type": "code",
   "execution_count": 13,
   "metadata": {},
   "outputs": [
    {
     "data": {
      "text/plain": [
       "Configured to construct nodes and weights with Monte Carlo simulation with options {seed: 0}."
      ]
     },
     "execution_count": 13,
     "metadata": {},
     "output_type": "execute_result"
    }
   ],
   "source": [
    "mc_integration = pyblp.Integration('monte_carlo', size=100, specification_options={'seed': 0})\n",
    "mc_integration"
   ]
  },
  {
   "cell_type": "code",
   "execution_count": 14,
   "metadata": {},
   "outputs": [
    {
     "name": "stdout",
     "output_type": "stream",
     "text": [
      "Initializing the problem ...\n",
      "Initialized the problem after 00:00:00.\n",
      "\n",
      "Dimensions:\n",
      "=======================================\n",
      " T    N     F     I     K1    K2    MD \n",
      "---  ----  ---  -----  ----  ----  ----\n",
      "100  1000  10   10000   3     3     2  \n",
      "=======================================\n",
      "\n",
      "Formulations:\n",
      "===================================================\n",
      "       Column Indices:           0       1      2  \n",
      "-----------------------------  ------  -----  -----\n",
      " X1: Linear Characteristics    prices  char1  char2\n",
      "X2: Nonlinear Characteristics  prices  char1  char2\n",
      "===================================================\n"
     ]
    }
   ],
   "source": [
    "mc_problem = pyblp.Problem(product_formulations, df, integration=mc_integration)\n"
   ]
  },
  {
   "cell_type": "code",
   "execution_count": 15,
   "metadata": {},
   "outputs": [],
   "source": [
    "bfgs = pyblp.Optimization('bfgs', {'gtol': 1e-4})\n"
   ]
  },
  {
   "cell_type": "code",
   "execution_count": 16,
   "metadata": {},
   "outputs": [
    {
     "name": "stderr",
     "output_type": "stream",
     "text": [
      "The model may be under-identified. The total number of unfixed parameters is 9, which is more than the total number of moments, 2. Consider checking whether instruments were properly specified when initializing the problem, and whether parameters were properly configured when solving the problem.\n"
     ]
    },
    {
     "name": "stdout",
     "output_type": "stream",
     "text": [
      "Solving the problem ...\n",
      "\n",
      "Nonlinear Coefficient Initial Values:\n",
      "===================================================================================================================\n",
      "Sigma:     prices          char1          char2      |  Sigma Squared:     prices          char1          char2    \n",
      "------  -------------  -------------  -------------  |  --------------  -------------  -------------  -------------\n",
      "prices  +1.000000E+00                                |      prices      +1.000000E+00  +1.000000E+00  +1.000000E+00\n",
      "char1   +1.000000E+00  +1.000000E+00                 |      char1       +1.000000E+00  +2.000000E+00  +2.000000E+00\n",
      "char2   +1.000000E+00  +1.000000E+00  +1.000000E+00  |      char2       +1.000000E+00  +2.000000E+00  +3.000000E+00\n",
      "===================================================================================================================\n",
      "Starting optimization ...\n",
      "\n",
      "\n",
      "At least one error was encountered. As long as the optimization routine does not get stuck at values of theta that give rise to errors, this is not necessarily a problem. If the errors persist or seem to be impacting the optimization results, consider setting an error punishment or following any of the other suggestions below:\n",
      "The fixed point computation of delta failed to converge. This problem can sometimes be mitigated by increasing the maximum number of fixed point iterations, increasing the fixed point tolerance, choosing more reasonable initial parameter values, setting more conservative parameter or share bounds, or using different iteration or optimization configurations.\n",
      "\n",
      "GMM   Computation  Optimization   Objective   Fixed Point  Contraction  Clipped    Objective      Objective      Gradient                                                                                             \n",
      "Step     Time       Iterations   Evaluations  Iterations   Evaluations  Shares       Value       Improvement       Norm                                                Theta                                          \n",
      "----  -----------  ------------  -----------  -----------  -----------  -------  -------------  -------------  -------------  ----------------------------------------------------------------------------------------\n",
      " 1     00:00:01         0             1          8520         25605        0     +2.894957E-21                 +2.013462E-09  +1.000000E+00, +1.000000E+00, +1.000000E+00, +1.000000E+00, +1.000000E+00, +1.000000E+00\n",
      "\n",
      "Optimization completed after 00:00:01.\n",
      "Computing the Hessian and and updating the weighting matrix ...\n",
      "\n",
      "The fixed point computation of delta failed to converge. This problem can sometimes be mitigated by increasing the maximum number of fixed point iterations, increasing the fixed point tolerance, choosing more reasonable initial parameter values, setting more conservative parameter or share bounds, or using different iteration or optimization configurations.\n",
      "\n",
      "Computed results after 00:00:10.\n",
      "\n",
      "Problem Results Summary:\n",
      "=============================================================================================\n",
      "GMM     Objective      Gradient         Hessian         Hessian     Clipped  Weighting Matrix\n",
      "Step      Value          Norm       Min Eigenvalue  Max Eigenvalue  Shares   Condition Number\n",
      "----  -------------  -------------  --------------  --------------  -------  ----------------\n",
      " 1    +2.894957E-21  +2.013462E-09  -4.172907E-01   +3.850307E-01      0      +1.990420E+02  \n",
      "=============================================================================================\n",
      "\n",
      "Starting optimization ...\n",
      "\n",
      "\n",
      "At least one error was encountered. As long as the optimization routine does not get stuck at values of theta that give rise to errors, this is not necessarily a problem. If the errors persist or seem to be impacting the optimization results, consider setting an error punishment or following any of the other suggestions below:\n",
      "The fixed point computation of delta failed to converge. This problem can sometimes be mitigated by increasing the maximum number of fixed point iterations, increasing the fixed point tolerance, choosing more reasonable initial parameter values, setting more conservative parameter or share bounds, or using different iteration or optimization configurations.\n",
      "\n",
      "GMM   Computation  Optimization   Objective   Fixed Point  Contraction  Clipped    Objective      Objective      Gradient                                                                                             \n",
      "Step     Time       Iterations   Evaluations  Iterations   Evaluations  Shares       Value       Improvement       Norm                                                Theta                                          \n",
      "----  -----------  ------------  -----------  -----------  -----------  -------  -------------  -------------  -------------  ----------------------------------------------------------------------------------------\n",
      " 2     00:00:01         0             1          8330         25116        0     +2.673106E-23                 +9.366355E-11  +1.000000E+00, +1.000000E+00, +1.000000E+00, +1.000000E+00, +1.000000E+00, +1.000000E+00\n",
      "\n",
      "Optimization completed after 00:00:01.\n",
      "Computing the Hessian and estimating standard errors ...\n",
      "\n",
      "The fixed point computation of delta failed to converge. This problem can sometimes be mitigated by increasing the maximum number of fixed point iterations, increasing the fixed point tolerance, choosing more reasonable initial parameter values, setting more conservative parameter or share bounds, or using different iteration or optimization configurations.\n",
      "\n",
      "Computed results after 00:00:12.\n",
      "\n",
      "Problem Results Summary:\n",
      "================================================================================================================\n",
      "GMM     Objective      Gradient         Hessian         Hessian     Clipped  Weighting Matrix  Covariance Matrix\n",
      "Step      Value          Norm       Min Eigenvalue  Max Eigenvalue  Shares   Condition Number  Condition Number \n",
      "----  -------------  -------------  --------------  --------------  -------  ----------------  -----------------\n",
      " 2    +2.673106E-23  +9.366355E-11  -2.091360E-02   +2.939000E-02      0      +2.145319E+02      +7.325908E+18  \n",
      "================================================================================================================\n",
      "\n",
      "Cumulative Statistics:\n",
      "===========================================================================\n",
      "Computation  Optimizer  Optimization   Objective   Fixed Point  Contraction\n",
      "   Time      Converged   Iterations   Evaluations  Iterations   Evaluations\n",
      "-----------  ---------  ------------  -----------  -----------  -----------\n",
      " 00:00:24       Yes          0             4          33700       101442   \n",
      "===========================================================================\n",
      "\n",
      "Nonlinear Coefficient Estimates (Robust SEs in Parentheses):\n",
      "===============================================================================================================================\n",
      "Sigma:      prices            char1            char2       |  Sigma Squared:      prices            char1            char2     \n",
      "------  ---------------  ---------------  ---------------  |  --------------  ---------------  ---------------  ---------------\n",
      "prices   +1.000000E+00                                     |      prices       +1.000000E+00    +1.000000E+00    +1.000000E+00 \n",
      "        (+5.499232E-02)                                    |                  (+1.099846E-01)  (+8.301494E-02)  (+1.022432E-01)\n",
      "                                                           |                                                                   \n",
      "char1    +1.000000E+00    +1.000000E+00                    |      char1        +1.000000E+00    +2.000000E+00    +2.000000E+00 \n",
      "        (+2.804716E-02)  (+8.757525E-03)                   |                  (+8.301494E-02)  (+3.905835E-02)  (+2.261020E-01)\n",
      "                                                           |                                                                   \n",
      "char2    +1.000000E+00    +1.000000E+00    +1.000000E+00   |      char2        +1.000000E+00    +2.000000E+00    +3.000000E+00 \n",
      "        (+1.563473E-01)  (+8.894293E-02)  (+6.149269E-02)  |                  (+1.022432E-01)  (+2.261020E-01)  (+6.135638E-01)\n",
      "===============================================================================================================================\n",
      "\n",
      "Beta Estimates (Robust SEs in Parentheses):\n",
      "=================================================\n",
      "    prices            char1            char2     \n",
      "---------------  ---------------  ---------------\n",
      " -4.454625E+00    -1.106577E+00    -6.701121E+00 \n",
      "(+1.174245E-02)  (+7.791518E-03)  (+7.482437E-02)\n",
      "=================================================\n"
     ]
    }
   ],
   "source": [
    "results1 = mc_problem.solve(sigma=np.ones((3, 3)), optimization=bfgs)\n",
    "\n"
   ]
  },
  {
   "cell_type": "markdown",
   "metadata": {},
   "source": [
    "### Part 4 - Here either writing linear estimation themselves or put in the supply side cost structure and disable optimal instruments"
   ]
  },
  {
   "cell_type": "code",
   "execution_count": 22,
   "metadata": {},
   "outputs": [
    {
     "name": "stdout",
     "output_type": "stream",
     "text": [
      "Initializing the problem ...\n",
      "Initialized the problem after 00:00:00.\n",
      "\n",
      "Dimensions:\n",
      "===================================================\n",
      " T    N     F     I     K1    K2    K3    MD    MS \n",
      "---  ----  ---  -----  ----  ----  ----  ----  ----\n",
      "100  1000  10   10000   3     3     2     2     2  \n",
      "===================================================\n",
      "\n",
      "Formulations:\n",
      "=====================================================\n",
      "        Column Indices:            0       1      2  \n",
      "-------------------------------  ------  -----  -----\n",
      "  X1: Linear Characteristics     prices  char1  char2\n",
      " X2: Nonlinear Characteristics   prices  char1  char2\n",
      "X3: Linear Cost Characteristics    1     cost        \n",
      "=====================================================\n",
      "Solving the problem ...\n",
      "\n",
      "Nonlinear Coefficient Initial Values:\n",
      "===================================================================================================================\n",
      "Sigma:     prices          char1          char2      |  Sigma Squared:     prices          char1          char2    \n",
      "------  -------------  -------------  -------------  |  --------------  -------------  -------------  -------------\n",
      "prices  +5.000000E-01                                |      prices      +2.500000E-01  +2.500000E-01  +2.500000E-01\n",
      "char1   +5.000000E-01  +5.000000E-01                 |      char1       +2.500000E-01  +5.000000E-01  +5.000000E-01\n",
      "char2   +5.000000E-01  +5.000000E-01  +5.000000E-01  |      char2       +2.500000E-01  +5.000000E-01  +7.500000E-01\n",
      "===================================================================================================================\n",
      "\n",
      "Beta Initial Values:\n",
      "===========================================\n",
      "   prices          char1          char2    \n",
      "-------------  -------------  -------------\n",
      "+1.000000E+00  +1.000000E+00  +1.000000E+00\n",
      "===========================================\n",
      "Starting optimization ...\n",
      "\n",
      "GMM   Computation  Optimization   Objective   Fixed Point  Contraction  Clipped    Objective      Objective      Gradient                                                                                                                                          \n",
      "Step     Time       Iterations   Evaluations  Iterations   Evaluations  Shares       Value       Improvement       Norm                                                                       Theta                                                                \n",
      "----  -----------  ------------  -----------  -----------  -----------  -------  -------------  -------------  -------------  -------------------------------------------------------------------------------------------------------------------------------------\n",
      " 1     00:00:00         0             1           142          543         0     +1.104159E+06                 +7.650485E+05  +5.000000E-01, +5.000000E-01, +5.000000E-01, +5.000000E-01, +5.000000E-01, +5.000000E-01, +1.000000E+00, +1.000000E+00, +1.000000E+00\n"
     ]
    },
    {
     "name": "stderr",
     "output_type": "stream",
     "text": [
      "The model may be under-identified. The total number of unfixed parameters is 11, which is more than the total number of moments, 4. Consider checking whether instruments were properly specified when initializing the problem, and whether parameters were properly configured when solving the problem.\n"
     ]
    },
    {
     "name": "stdout",
     "output_type": "stream",
     "text": [
      " 1     00:00:00         0             2           101          425         0     +6.061406E+05  +4.980189E+05  +2.635576E+05  -3.331992E-01, +2.405123E-01, +3.882710E-01, +2.627543E-01, +3.973113E-01, +4.555031E-01, +6.125518E-01, +8.784734E-01, +8.887946E-01\n",
      " 1     00:00:00         1             3           101          409         0     +6.817611E+04  +5.379644E+05  +8.800568E+04  -7.137597E-02, +2.898235E-01, -4.367181E-01, +3.036450E-01, -3.622721E-01, +4.748677E-02, -1.896618E+00, +9.146177E-02, +1.683967E-01\n",
      "\n",
      "At least one error was encountered. As long as the optimization routine does not get stuck at values of theta that give rise to errors, this is not necessarily a problem. If the errors persist or seem to be impacting the optimization results, consider setting an error punishment or following any of the other suggestions below:\n",
      "The fixed point computation of delta failed to converge. This problem can sometimes be mitigated by increasing the maximum number of fixed point iterations, increasing the fixed point tolerance, choosing more reasonable initial parameter values, setting more conservative parameter or share bounds, or using different iteration or optimization configurations.\n",
      "\n",
      " 1     00:00:09         2             4          90095       270438        0     +9.361922E+04                 +9.823960E+04  +4.584862E-01, +4.069911E-01, +6.149651E+00, +3.771155E-01, +5.734407E+00, +7.939624E-01, -8.595657E+00, -2.008060E+00, -1.785909E+00\n",
      " 1     00:00:00         2             5           189          597         0     +1.418337E+04  +5.399274E+04  +3.746017E+04  +1.117929E-01, +3.303273E-01, +1.840134E+00, +3.290431E-01, +1.745298E+00, +3.055371E-01, -4.212419E+00, -6.343251E-01, -5.071903E-01\n",
      "\n",
      "At least one error was encountered. As long as the optimization routine does not get stuck at values of theta that give rise to errors, this is not necessarily a problem. If the errors persist or seem to be impacting the optimization results, consider setting an error punishment or following any of the other suggestions below:\n",
      "The fixed point computation of delta failed to converge. This problem can sometimes be mitigated by increasing the maximum number of fixed point iterations, increasing the fixed point tolerance, choosing more reasonable initial parameter values, setting more conservative parameter or share bounds, or using different iteration or optimization configurations.\n",
      "\n",
      " 1     00:00:09         3             6          90102       270464        0     +1.182529E+06                 +3.589288E+05  +8.191312E-02, +1.313502E+00, +1.920998E+00, +4.732536E-01, -2.964213E-01, +1.487117E+01, -5.772005E+00, -1.063242E+00, -2.079076E+00\n",
      " 1     00:00:00         3             7           184          597         0     +1.103065E+04  +3.152728E+03  +3.211874E+04  +1.101622E-01, +3.839857E-01, +1.844547E+00, +3.369136E-01, +1.633868E+00, +1.100481E+00, -4.297536E+00, -6.577340E-01, -5.929786E-01\n",
      " 1     00:00:00         4             8           192          609         0     +1.064355E+04  +3.871002E+02  +3.361810E+04  -4.154356E-01, +2.583568E+00, +4.926004E+00, -1.823808E-01, -1.647324E+00, +1.098530E+00, -3.590840E+00, -2.577546E-01, -3.716895E+00\n",
      " 1     00:00:00         5             9           194          609         0     +1.066991E+04                 +3.430456E+04  -1.089295E+00, +4.088957E+00, +4.205795E+00, +5.800061E-01, -8.749001E-01, +1.057818E+00, -3.348535E+00, -1.195547E-01, -4.807752E+00\n",
      " 1     00:00:00         5            10           193          608         0     +1.045230E+04  +1.912503E+02  +3.362767E+04  -7.400390E-01, +3.308726E+00, +4.579073E+00, +1.848672E-01, -1.275241E+00, +1.078919E+00, -3.474120E+00, -1.911826E-01, -4.242370E+00\n",
      " 1     00:00:00         6            11           193          615         0     +1.007894E+04  +3.733589E+02  +3.297484E+04  -7.403331E-01, +3.563402E+00, +4.149292E+00, -9.438012E-02, -8.183225E-01, +1.077488E+00, -3.278038E+00, -8.338414E-02, -5.049797E+00\n",
      " 1     00:00:00         6            12           190          600         0     +8.829531E+03  +1.249405E+03  +3.075027E+04  -7.415093E-01, +4.582107E+00, +2.430167E+00, -1.211370E+00, +1.009351E+00, +1.071764E+00, -2.493712E+00, +3.478096E-01, -8.279508E+00\n",
      " 1     00:00:00         7            13           189          601         0     +6.057271E+03  +2.772261E+03  +2.515006E+04  -6.749038E-01, +1.838124E+00, +1.677298E-01, +1.544833E+00, +3.399695E+00, +1.011751E+00, -6.906840E-01, +1.340617E+00, -1.573333E+01\n",
      " 1     00:00:00         8            14           183          595         0     +1.803386E+03  +4.253884E+03  +1.399410E+04  -5.821222E-01, +2.399177E+00, +1.369453E+00, +5.567704E-01, +1.983683E+00, +8.501595E-01, -2.280428E+00, +4.864269E-01, -9.556162E+00\n",
      " 1     00:00:00         9            15           182          589         0     +6.231321E-01  +1.802763E+03  +2.479587E+02  -5.430945E-01, +2.069430E+00, +6.235850E-01, +7.405298E-01, +2.633907E+00, +7.728486E-01, -2.341661E+00, +4.751692E-01, -9.721948E+00\n",
      " 1     00:00:00         10           16           179          583         0     +2.945464E-05  +6.231027E-01  +1.837036E+00  -5.424205E-01, +2.066064E+00, +6.186360E-01, +7.411118E-01, +2.636478E+00, +7.715028E-01, -2.353039E+00, +4.693448E-01, -9.683132E+00\n",
      " 1     00:00:00         11           17           180          586         0     +5.015149E-11  +2.945459E-05  +7.374572E-04  -5.424157E-01, +2.066042E+00, +6.185933E-01, +7.411141E-01, +2.636504E+00, +7.714945E-01, -2.353048E+00, +4.693431E-01, -9.683155E+00\n",
      " 1     00:00:00         12           18           178          589         0     +5.760563E-16  +5.015092E-11  +9.483505E-07  -5.424157E-01, +2.066042E+00, +6.185933E-01, +7.411141E-01, +2.636504E+00, +7.714945E-01, -2.353049E+00, +4.693430E-01, -9.683154E+00\n",
      "\n",
      "Optimization completed after 00:00:20.\n",
      "Computing the Hessian and and updating the weighting matrix ...\n",
      "Computed results after 00:00:03.\n",
      "\n",
      "Problem Results Summary:\n",
      "=============================================================================================\n",
      "GMM     Objective      Gradient         Hessian         Hessian     Clipped  Weighting Matrix\n",
      "Step      Value          Norm       Min Eigenvalue  Max Eigenvalue  Shares   Condition Number\n",
      "----  -------------  -------------  --------------  --------------  -------  ----------------\n",
      " 1    +5.760563E-16  +9.483505E-07  -2.063776E-01   +1.575102E+05      0      +1.197202E+05  \n",
      "=============================================================================================\n",
      "\n",
      "Starting optimization ...\n",
      "\n",
      "GMM   Computation  Optimization   Objective   Fixed Point  Contraction  Clipped    Objective      Objective      Gradient                                                                                                                                          \n",
      "Step     Time       Iterations   Evaluations  Iterations   Evaluations  Shares       Value       Improvement       Norm                                                                       Theta                                                                \n",
      "----  -----------  ------------  -----------  -----------  -----------  -------  -------------  -------------  -------------  -------------------------------------------------------------------------------------------------------------------------------------\n",
      " 2     00:00:00         0             1            0           105         0     +2.249193E-16                 +3.174157E-07  -5.424157E-01, +2.066042E+00, +6.185933E-01, +7.411141E-01, +2.636504E+00, +7.714945E-01, -2.353049E+00, +4.693430E-01, -9.683154E+00\n",
      "\n",
      "Optimization completed after 00:00:00.\n",
      "Computing the Hessian and estimating standard errors ...\n",
      "Computed results after 00:00:03.\n",
      "\n",
      "Problem Results Summary:\n",
      "================================================================================================================\n",
      "GMM     Objective      Gradient         Hessian         Hessian     Clipped  Weighting Matrix  Covariance Matrix\n",
      "Step      Value          Norm       Min Eigenvalue  Max Eigenvalue  Shares   Condition Number  Condition Number \n",
      "----  -------------  -------------  --------------  --------------  -------  ----------------  -----------------\n",
      " 2    +2.249193E-16  +3.174157E-07  -1.647477E-01   +1.907662E+04      0      +4.142053E+05      +3.900304E+18  \n",
      "================================================================================================================\n",
      "\n",
      "Cumulative Statistics:\n",
      "===========================================================================\n",
      "Computation  Optimizer  Optimization   Objective   Fixed Point  Contraction\n",
      "   Time      Converged   Iterations   Evaluations  Iterations   Evaluations\n",
      "-----------  ---------  ------------  -----------  -----------  -----------\n",
      " 00:00:25       Yes          13           21         183145       550856   \n",
      "===========================================================================\n",
      "\n",
      "Nonlinear Coefficient Estimates (Robust SEs in Parentheses):\n",
      "===============================================================================================================================\n",
      "Sigma:      prices            char1            char2       |  Sigma Squared:      prices            char1            char2     \n",
      "------  ---------------  ---------------  ---------------  |  --------------  ---------------  ---------------  ---------------\n",
      "prices   -5.424157E-01                                     |      prices       +2.942148E-01    -1.120654E+00    -4.019919E-01 \n",
      "        (+1.358518E+00)                                    |                  (+1.473763E+00)  (+2.712879E+00)  (+8.500139E-01)\n",
      "                                                           |                                                                   \n",
      "char1    +2.066042E+00    +6.185933E-01                    |      char1        -1.120654E+00    +4.651188E+00    +3.162096E+00 \n",
      "        (+1.737086E-01)  (+5.992148E-01)                   |                  (+2.712879E+00)  (+1.186346E-01)  (+8.122878E-01)\n",
      "                                                           |                                                                   \n",
      "char2    +7.411141E-01    +2.636504E+00    +7.714945E-01   |      char2        -4.019919E-01    +3.162096E+00    +8.095605E+00 \n",
      "        (+2.931263E-01)  (+1.428650E-01)  (+2.199259E-01)  |                  (+8.500139E-01)  (+8.122878E-01)  (+1.352141E+00)\n",
      "===============================================================================================================================\n",
      "\n",
      "Beta Estimates (Robust SEs in Parentheses):\n",
      "=================================================\n",
      "    prices            char1            char2     \n",
      "---------------  ---------------  ---------------\n",
      " -2.353049E+00    +4.693430E-01    -9.683154E+00 \n",
      "(+7.381195E-01)  (+2.332422E-01)  (+7.882279E-02)\n",
      "=================================================\n",
      "\n",
      "Gamma Estimates (Robust SEs in Parentheses):\n",
      "================================\n",
      "       1              cost      \n",
      "---------------  ---------------\n",
      " -3.930571E+00    +2.694618E+00 \n",
      "(+1.532349E+00)  (+3.866255E-01)\n",
      "================================\n"
     ]
    }
   ],
   "source": [
    "product_data = df\n",
    "# Setting up the formulations\n",
    "product_formulations = (pyblp.Formulation('0 + prices + char1 + char2'), pyblp.Formulation('0 + prices + char1+ char2'),pyblp.Formulation('cost'))\n",
    "\n",
    "mc_integration = pyblp.Integration('monte_carlo', size=100, specification_options={'seed': 0})\n",
    "problem = pyblp.Problem(product_formulations, product_data, integration=mc_integration)\n",
    "bfgs = pyblp.Optimization('bfgs', {'gtol': 1e-6})\n",
    "estimation = problem.solve(sigma=(np.ones((3, 3))/2),beta=[1., 1., 1.], optimization=bfgs)"
   ]
  },
  {
   "cell_type": "markdown",
   "metadata": {},
   "source": [
    "### Alternative (part of the assignment): Guided Monte-Carlo Generation\n"
   ]
  },
  {
   "cell_type": "code",
   "execution_count": null,
   "metadata": {},
   "outputs": [],
   "source": []
  }
 ],
 "metadata": {
  "kernelspec": {
   "display_name": "Python 3",
   "language": "python",
   "name": "python3"
  },
  "language_info": {
   "codemirror_mode": {
    "name": "ipython",
    "version": 3
   },
   "file_extension": ".py",
   "mimetype": "text/x-python",
   "name": "python",
   "nbconvert_exporter": "python",
   "pygments_lexer": "ipython3",
   "version": "3.9.6"
  },
  "orig_nbformat": 4
 },
 "nbformat": 4,
 "nbformat_minor": 2
}
