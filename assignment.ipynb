{
 "cells": [
  {
   "cell_type": "markdown",
   "metadata": {},
   "source": []
  },
  {
   "cell_type": "markdown",
   "metadata": {},
   "source": [
    "# Demand Estimation Exercise\n",
    "### Part 0 : Getting started\n",
    "\n",
    "In this assignment you will be doing guided demand estimation for heterogeneous product models. The techniques presented in this assignment are commonly used in research and for policy decisions. In this assignment we will focus on obtaining post-estimation elasticities of demand from two different models. Demand elasticites can only be obtained once we know the parameters defining the demand function. The purpose is that you understand how model misspecification leads to biased elasticities estimates and how such biases might impact policy and theoretical results. For the assignment you will use simulated data for which we exactly know the data generation process. A detailed description is provided below. \n",
    "\n",
    "\n",
    "**(a) Model description**\n",
    "\n",
    "Consider a market with $N$ consumers, $J$ firms, across $T$ time periods (You can also see the time periods as geographically separated markets. This is an important assumption for heterogeneous product models, consumers can only activate within one market (Berry, 2021)). In this simplified model we assume firms are going to sell just one products, as such firms and product can be used interchangeably. The consumers have heterogeneous preferences over prices. The indirect utility of the consumers is going to be given by: \n",
    "\n",
    "$$u_{ijt} = \\beta x_j + \\alpha_{it}p_{jt} + \\xi_{jt} + \\varepsilon_{ijt}$$\n",
    "\n",
    "\n",
    "\n",
    "Where: \n",
    "- $x_j$ is a  time invariant product characteristic \n",
    "-  $p_{jt}$ is the price of the product sold by firm $j$ in period $t$ \n",
    "- $\\xi_{jt}$ are product-market specific fixed effects which are correlated with $p_{jt}$\n",
    "- $\\beta$ is the coefficient of the product characteristic and it is constant across consumers \n",
    "- $\\alpha_{it}$ is the consumer specific price coefficient defined as $\\alpha_{it} =  \\mu_{\\alpha} + \\sigma_{\\alpha} \\nu_{it}^{p}$, where $\\nu_{it}^{p}$ are i.i.d. standard normal random variables. \n",
    "-$\\varepsilon_{ijt}$ is the error term following a Type 1 extreme value distribution \n",
    "\n",
    "Following from standard theory (ref slides) we know we can thereafter rewrite indirect utility as: \n",
    "\n",
    "\n",
    "$$u_{i j t}= \\delta_{jt} + \\sigma_{\\alpha} \\nu_{it}^{p}p_{jt} + \\varepsilon_{ijt},$$ \n",
    "\n",
    "Where $ \\delta_{jt} = \\beta x_j + \\mu_{\\alpha} p_{jt} + \\xi_{jt}$\n",
    "\n",
    "Consumers purchase one unit of the good that gives them the highest utility. Each market has the same number of consumers across time, $N$. By assuming that the error term $\\varepsilon_{ijt}$ follows from the type-I extreme value distribution, the probability $f_{ijt}$ that consumer $i$ buys product $j$ in market $t$ is given by the multinomial logit function: \n",
    "\n",
    "\n",
    "$$f_{ijt} = \\frac{\\exp \\left(\\beta x_j+\\alpha_{it} p_{j t}+ \\xi_{jt}\\right)}{1+\\sum_{k=1}^J \\exp \\left(\\beta x_k + \\alpha_{it} p_{k t} +\\xi_{kt}\\right)}.$$\n",
    "\n",
    "\n",
    "\n",
    "Aggregating over the individual purchasing probabilities we get the market shares: \n",
    "\n",
    "$$\n",
    "    s_{jt}= \\int_N f_{ijt} \\text{d} \\nu.\n",
    "$$\n",
    "\n",
    "\n",
    "The model is a simplified and adapted version of the theory from the paper of \\cite{berry1994estimating}. For additional information, clarification and theory please check the reference material. \n",
    "\n",
    "The assignment makes use of simulated data. The model has been calibrated to the following coefficients. These are the coefficients that you will try to estimate in the assignment. Ultimately, you will use the coefficients to retrive own-price elasticities of demand: \n",
    "\n",
    "\n",
    "| Coefficient    |   True Value   |\n",
    "|----------------|------|\n",
    "| $\\mu_{\\alpha}$    | -1.7 |\n",
    "| $\\beta$        | -1   |\n",
    "| $\\sigma_{\\alpha}$ | 0.5  |\n"
   ]
  },
  {
   "cell_type": "markdown",
   "metadata": {},
   "source": [
    "**(b) Load the neccesaty requirements**\n",
    "\n"
   ]
  },
  {
   "cell_type": "code",
   "execution_count": null,
   "metadata": {},
   "outputs": [],
   "source": [
    "import numpy as np \n",
    "import pandas as pd \n",
    "import statsmodels.api as sm\n",
    "from scipy.stats import norm\n",
    "from scipy import optimize\n",
    "import matplotlib.pyplot as plt"
   ]
  },
  {
   "cell_type": "markdown",
   "metadata": {},
   "source": [
    "### PART 1: Data exploration (10 points)\n"
   ]
  },
  {
   "cell_type": "markdown",
   "metadata": {},
   "source": [
    "**Exercise 1**\n",
    "\n",
    " Look into the data characterizing you market. Print the data. Is it realistic that an econometrician has all the information that you have in your dataset (max 100x)?  "
   ]
  },
  {
   "cell_type": "code",
   "execution_count": null,
   "metadata": {},
   "outputs": [],
   "source": [
    "# 1. Load the data using pandas \n",
    "# Your code here \n",
    "\n",
    "\n",
    "# 2. Print the data\n",
    "# Your code here \n"
   ]
  },
  {
   "cell_type": "markdown",
   "metadata": {},
   "source": [
    "*Your description here (double click to open markdown cell): "
   ]
  },
  {
   "cell_type": "markdown",
   "metadata": {},
   "source": [
    "**Exercise 2**\n",
    "\n",
    " Create a histogram with: \n",
    "\n",
    "1. The distribution of prices \n",
    "2. The distribution of market shares \n",
    "\n",
    "You should use the columns from the generated dataframe. "
   ]
  },
  {
   "cell_type": "code",
   "execution_count": null,
   "metadata": {},
   "outputs": [],
   "source": [
    "# Create the price histogram\n",
    "# Your code here\n"
   ]
  },
  {
   "cell_type": "markdown",
   "metadata": {},
   "source": [
    "*Your description here (double click to open markdown cell): "
   ]
  },
  {
   "cell_type": "code",
   "execution_count": null,
   "metadata": {},
   "outputs": [],
   "source": [
    "# Create a  shares histogram\n",
    "# Your code here\n"
   ]
  },
  {
   "cell_type": "markdown",
   "metadata": {},
   "source": [
    "*Your description here (double click to open markdown cell): "
   ]
  },
  {
   "cell_type": "markdown",
   "metadata": {},
   "source": [
    "### Part 2: Simple Logit Estimation (20 points)"
   ]
  },
  {
   "cell_type": "markdown",
   "metadata": {},
   "source": [
    "**Exercise 1**\n",
    "\n",
    "Estimate the simple logit model disregarding consumer heterogeneity\n",
    "Trying to estimate with the logit function: \n",
    "$$ ln(s_j) - ln(s_0) =   \\beta x_j + \\alpha p_{jt} + \\xi_{jt} $$\n",
    "\n",
    "\n",
    "1. Calculate the outside good share $s_0$\n",
    "2.  Create the dependent variable $\\ln(s_{jt}) - \\ln(s_{0t})$\n",
    "3. Perform the regression and report the estimated coefficients\n"
   ]
  },
  {
   "cell_type": "code",
   "execution_count": null,
   "metadata": {},
   "outputs": [],
   "source": [
    "# Your code here \n",
    "\n",
    "\n",
    "\n",
    "#  Use stats model for the regression\n",
    "mod = sm.OLS(y, x).fit()\n",
    "print(mod.summary()) \n"
   ]
  },
  {
   "cell_type": "markdown",
   "metadata": {},
   "source": [
    "**Exercise 2**\n",
    "\n",
    "Compare the estimates with the true estimates. What is wrong here? (100w)\n"
   ]
  },
  {
   "cell_type": "markdown",
   "metadata": {},
   "source": [
    "Your explanation here (double click to open markdown cell):"
   ]
  },
  {
   "cell_type": "code",
   "execution_count": null,
   "metadata": {},
   "outputs": [],
   "source": [
    "# Run the following visualization to put your results in perspective\n",
    "\n",
    "fig, axes = plt.subplots(1, 2, figsize=(8, 2))\n",
    "\n",
    "for i,ax in enumerate(axes.flatten()):\n",
    "    ax.axvline(np.vstack((-1., -1.))[i], label=\"true\", color=\"blue\")\n",
    "\n",
    "    # Plot (distribution of) estimated coefficient\n",
    "    mu = mod.params[i]\n",
    "    sigma = mod.bse[i]\n",
    "    x1 = np.linspace(mu - 4*sigma, mu + 4*sigma, 1000)\n",
    "    x2 = np.linspace(mu - 1.96*sigma, mu + 1.96*sigma, 1000)\n",
    "    \n",
    "    ax.axvline(mu, label=\"estimated\", color=\"red\")\n",
    "    ax.plot(x1, norm.pdf(x1, mu, sigma), color=\"red\")\n",
    "    ax.fill_between(x2, norm.pdf(x2, mu, sigma), color=\"red\", alpha=0.4)\n",
    "    \n",
    "    if i == 0:\n",
    "        ax.set_title(r\"$\\mu_\\alpha$\")\n",
    "    elif i == 1:\n",
    "        ax.set_title(r\"$\\beta$\")\n",
    "\n",
    "\n",
    "plt.tight_layout()\n",
    "plt.show()"
   ]
  },
  {
   "cell_type": "markdown",
   "metadata": {},
   "source": [
    "**Exercise 3**\n",
    "\n",
    "Describe what you see in the figures? How were the figures generated? (50w)"
   ]
  },
  {
   "cell_type": "markdown",
   "metadata": {},
   "source": [
    "Your description here (double click on the text to open the cell):"
   ]
  },
  {
   "cell_type": "markdown",
   "metadata": {},
   "source": [
    "### Part 3 - Guided Random Coefficients Estimation (40 points)\n",
    "\n",
    "In this part of the exercise you are going to estimate a random coefficients model. Helper functions have been written for you. \n",
    "\n",
    "**Exercise 1**\n",
    "\n",
    "Set the global variables characterizing the market. You should retrive this vairbales from the dataframe. Think about whether the dataframe tells you how many consumers are in the market. "
   ]
  },
  {
   "cell_type": "code",
   "execution_count": null,
   "metadata": {},
   "outputs": [],
   "source": [
    "# Your code here \n",
    "\n",
    "# The number of firms \n",
    "n_firms = 10\n",
    "\n",
    "# The number of consumers \n",
    "n_cons = 10000\n",
    "\n",
    "# The number of time periods\n",
    "T = 100"
   ]
  },
  {
   "cell_type": "markdown",
   "metadata": {},
   "source": [
    "**Step 1**\n",
    "\n",
    "Run the function that calcualtes simulated the random coefficients on price \n",
    "\n",
    "\n",
    "(Go a bit more on detail description on Monte Carlo simlation in price)"
   ]
  },
  {
   "cell_type": "code",
   "execution_count": null,
   "metadata": {},
   "outputs": [],
   "source": [
    "def gen_price_random_coeff(alpha_sd, v_p, df): \n",
    "        \n",
    "        \"\"\"\n",
    "        TODO Add docstring\n",
    "        \"\"\"\n",
    "\n",
    "        random_coefficient_prices = np.zeros((n_firms*n_cons*T, 1))\n",
    "        alpha_i = np.zeros((n_cons*T, 1))\n",
    "        for t in range(T):\n",
    "            price_r = (np.array(df['prices'][t*n_firms : (t + 1)*n_firms])).reshape(1, n_firms)\n",
    "            period_v_p = v_p[t*n_cons : (t + 1)*n_cons]\n",
    "            alpha_i_per_period = np.reshape(alpha_sd*period_v_p, \n",
    "                                             (n_cons, 1))\n",
    "            c_times_f = n_cons*n_firms\n",
    "            alpha_i[t*n_cons: (t + 1)*n_cons] = alpha_i_per_period \n",
    "            reshaped =  np.reshape(np.ravel((alpha_i_per_period*price_r).T), (c_times_f, 1))\n",
    "            random_coefficient_prices[t*c_times_f : (t + 1)*c_times_f] = reshaped\n",
    "        return random_coefficient_prices"
   ]
  },
  {
   "cell_type": "markdown",
   "metadata": {},
   "source": [
    "**Step 2**\n",
    "\n",
    "Run the function that calculates estimated mean utilities "
   ]
  },
  {
   "cell_type": "code",
   "execution_count": null,
   "metadata": {},
   "outputs": [],
   "source": [
    "def gen_estimated_utilities(alpha_mean, beta, df): \n",
    "    \"\"\"\n",
    "    TODO Add dosctring\n",
    "    \"\"\"\n",
    "    estimated_mean_utlities = np.zeros((n_firms*T, 1))\n",
    "    for t in range(T):\n",
    "        price_r = np.array(df['prices'][t*n_firms : (t + 1)*n_firms]).reshape(n_firms, 1)\n",
    "        product_chars_period = np.array(df['char1'][t*n_firms : (t + 1)*n_firms]).reshape(n_firms, 1)\n",
    "        xi_per = np.array(df['xi'][t*n_firms : (t + 1)*n_firms]).reshape(n_firms, 1)\n",
    "        mean_indirect_utilities_period = beta*product_chars_period + alpha_mean*price_r + xi_per\n",
    "        reshaped = np.reshape(mean_indirect_utilities_period, (n_firms, 1))\n",
    "        estimated_mean_utlities[t*n_firms:(t + 1)*n_firms] = reshaped\n",
    "    return estimated_mean_utlities\n"
   ]
  },
  {
   "cell_type": "markdown",
   "metadata": {},
   "source": [
    "**Step 3** \n",
    "\n",
    "Run the function that calculates estimates market shares"
   ]
  },
  {
   "cell_type": "code",
   "execution_count": null,
   "metadata": {},
   "outputs": [],
   "source": [
    "def gen_estimated_market_share(theta, v_p, df):\n",
    "\n",
    "    \"\"\"\n",
    "    TODO\n",
    "    \"\"\"\n",
    "\n",
    "\n",
    "    alpha_sd = theta[0]\n",
    "    alpha_mean = theta[1]\n",
    "    beta = theta[2]\n",
    "\n",
    "    estimated_market_shares = np.zeros((n_firms*T, 1))\n",
    "    random_coeff_price = gen_price_random_coeff(alpha_sd, v_p, df)\n",
    "    mean_utilities = gen_estimated_utilities(alpha_mean, beta, df)\n",
    "    \n",
    "    for t in range(T):\n",
    "        c_times_f = n_cons*n_firms\n",
    "        coeff_per_T = random_coeff_price[t*c_times_f : (t + 1) * c_times_f]\n",
    "        repeat_u = np.repeat(mean_utilities[t*n_firms : (t + 1)*n_firms]\n",
    "                             , n_cons, axis=0)                \n",
    "        u = repeat_u + coeff_per_T \n",
    "        u_r = np.reshape(u, (n_firms, n_cons))\n",
    "        sum_u = np.sum(np.exp(u_r), axis=0)\n",
    "        all_probs = np.exp(u_r)/(1 + sum_u)\n",
    "        market_shares = np.sum(all_probs, axis=1)/n_cons\n",
    "        reshaped = np.reshape(market_shares, (n_firms, 1))\n",
    "        estimated_market_shares[t*n_firms:(t + 1)*n_firms] = reshaped\n",
    "\n",
    "    return estimated_market_shares"
   ]
  },
  {
   "cell_type": "markdown",
   "metadata": {},
   "source": [
    "**Exercise 2** \n",
    "\n",
    "Write the ojective function of the optimization. The objective function should minimize the distance between the true share vector and the estimated share vector. "
   ]
  },
  {
   "cell_type": "code",
   "execution_count": null,
   "metadata": {},
   "outputs": [],
   "source": [
    "# Your code here\n",
    "\n",
    "def f(theta, v_p, df):\n",
    "    true_shares = ...\n",
    "    estimated_market_shares = gen_estimated_market_share(theta, v_p, df)\n",
    "    val = ...\n",
    "    return val"
   ]
  },
  {
   "cell_type": "markdown",
   "metadata": {},
   "source": [
    "**Exercise 3** \n",
    "\n",
    "Optimize your function f using scipy.optimize.minimize. \n",
    "\n",
    "\n",
    "TODO: Describe why they need to do the optimization multiple times\n",
    "\n",
    "Again here more detail into the Monte Carlo simulation and approximation of the shocks"
   ]
  },
  {
   "cell_type": "code",
   "execution_count": null,
   "metadata": {},
   "outputs": [],
   "source": [
    "# Complete the code \n",
    "\n",
    "# Start theta_0 at your estimations from part 2 in the form of Theta_o = [alpha_sd_0, alpha_mean_0, beta_0]\n",
    "theta_0= [ ... , ... , ... ]\n",
    "\n",
    "N_simulation = 10\n",
    "\n",
    "\n",
    "\n",
    "results = np.zeros((N_simulation, 3))\n",
    "for n in range(N_simulation):\n",
    "    # Generate the Monte Carlo Shocks \n",
    "    res = optimize.minimize(... , bounds=((0., 1.), (-3., -1.), (-2., -0.5)))\n",
    "\n",
    "    results[n,:] = res.x\n",
    "\n",
    "\n",
    "print(results)\n"
   ]
  },
  {
   "cell_type": "markdown",
   "metadata": {},
   "source": [
    "**Exercise 4**\n",
    "\n",
    "\n",
    "Calculate the mean value of the coefficients over all the Monte Carlo simulations. How do these results compare to your results in Part 2?"
   ]
  },
  {
   "cell_type": "code",
   "execution_count": null,
   "metadata": {},
   "outputs": [],
   "source": [
    "# Your code here \n"
   ]
  },
  {
   "cell_type": "markdown",
   "metadata": {},
   "source": [
    "Your discussion here (max 150w)"
   ]
  },
  {
   "cell_type": "markdown",
   "metadata": {},
   "source": [
    "### Part 4: Calculate price elasticies (30 points)\n",
    "Calculate average own-price elasticities with simple logit and the random coefficients estimates and discuss your results (max 150w). \n",
    "\n",
    "Use the following formula:  (TODO)\n",
    "\n",
    "\n",
    "\n",
    "\n",
    "\n"
   ]
  },
  {
   "cell_type": "code",
   "execution_count": null,
   "metadata": {},
   "outputs": [],
   "source": [
    "# Your code here for estimates from the simple logit estimation\n"
   ]
  },
  {
   "cell_type": "code",
   "execution_count": null,
   "metadata": {},
   "outputs": [],
   "source": [
    "# Your code here for estimates from the random coefficients estimation "
   ]
  },
  {
   "cell_type": "markdown",
   "metadata": {},
   "source": [
    "Your discussion here (max 150w)"
   ]
  },
  {
   "cell_type": "markdown",
   "metadata": {},
   "source": [
    "### Part 5. Bonus Question (not mandatory)\n",
    "\n",
    "Estimate the model in the more realistic case where you do not know the product-specific fixed efffects $\\xi$. For this you can use the costs in the dataframe as instruments. \n",
    "\n",
    "In the _outer loop_, the GMM estimation procedure relies on the properties of the price instruments in order to retrieve the unbiased price coefficients. For this estimation, you have to use supply side instruments.\n",
    "\n",
    "Make use of the functions build for you in the guided Monte Carlo Estimation. Make use of the description offered by (Nevo, 2000)\n",
    "\n"
   ]
  },
  {
   "cell_type": "markdown",
   "metadata": {},
   "source": [
    "### References\n",
    "\n",
    "\n",
    "Berry, S. T., & Haile, P. A. (2020). Nonparametric identification of differentiated products demand using micro data (No. w27704). National Bureau of Economic Research.\n",
    "\n",
    "\n",
    "Nevo, A. (2000). A practitioner's guide to estimation of random‐coefficients logit models of demand. Journal of economics & management strategy, 9(4), 513-548.\n",
    "Chicago\t\n",
    "\n"
   ]
  }
 ],
 "metadata": {
  "kernelspec": {
   "display_name": "Python 3",
   "language": "python",
   "name": "python3"
  },
  "language_info": {
   "codemirror_mode": {
    "name": "ipython",
    "version": 3
   },
   "file_extension": ".py",
   "mimetype": "text/x-python",
   "name": "python",
   "nbconvert_exporter": "python",
   "pygments_lexer": "ipython3",
   "version": "3.9.6"
  },
  "orig_nbformat": 4
 },
 "nbformat": 4,
 "nbformat_minor": 2
}
