{
 "cells": [
  {
   "cell_type": "markdown",
   "metadata": {},
   "source": []
  },
  {
   "cell_type": "markdown",
   "metadata": {},
   "source": [
    "# Demand Estimation Exercise\n",
    "\n",
    "In this assignment, you will learn how to simulate market data and estimate simple random coefficient demand models. The assignment should serve as an introduction to the structural estimation in heterogenous products demand models.\n",
    "\n",
    "Let's first define the model.\n",
    "\n",
    "todo: Here you need to insert all the model definiton and reference to the slides\n",
    "\n",
    "\n",
    "$$ u_{ijt} = \\beta_{it}^{'} x_j + \\alpha_{it}p_{jt} + \\xi_{jt} + \\varepsilon_{ijt}$$\n",
    "\n",
    "Where: \n",
    "\n",
    "$$ \\alpha_{it} =  \\mu_{\\alpha} + \\sigma_{\\alpha} \\nu_{it}^{\\alpha} $$ \n",
    "$$ \\beta_{it} =  \\mu_{\\beta} + \\sigma_{\\beta} \\nu_{it}^{\\beta} $$ \n",
    "\n",
    "And $\\nu_{it}^{\\alpha}$ and $\\nu_{it}^{\\beta}$ are standard normally distributed. \n",
    "\n",
    "TO DO: Define all the other parameters and how they are constructed in the simulation for the students \n",
    "\n",
    "\n",
    "decision to make: \n",
    "                - should they work only in pandas or in numpy?\n",
    "\n",
    "                  - should they simulate data themselves? or just import my module?\n",
    "\n",
    "                  - should they write the GMM estimator themselves or just apply pyBLP more times until convergence? \n",
    "                   \n",
    "                  - maybe it is enough for them to write the strucural function parameters? \n",
    "\n",
    "                 \n"
   ]
  },
  {
   "cell_type": "markdown",
   "metadata": {},
   "source": [
    "### Step 1: Simulate Data\n",
    "\n"
   ]
  },
  {
   "cell_type": "code",
   "execution_count": 1,
   "metadata": {},
   "outputs": [],
   "source": [
    "import market\n",
    "import numpy as np \n",
    "import pandas as pd \n",
    "import statsmodels.api as sm\n",
    "from scipy.stats import norm\n",
    "from scipy import optimize\n",
    "import matplotlib.pyplot as plt\n",
    "import pyblp"
   ]
  },
  {
   "cell_type": "markdown",
   "metadata": {},
   "source": [
    "The first step is to initialize the model class\n",
    "\n",
    "To do this you need to import the \"simulation\" module that was especially constructed for this course. Make sure the assignment notebook and the simulate are in the same folder if you have not prespecified a different path for the module.  (FIND A WAY FOR THE STUDENTS TO NOT RUN IT LOCAL, BUT ON THE GIT SERVER SUCH THAT THEY DO NOT NEED TO HAVE ANYTHING INSTALLED)\n",
    "\n",
    "Lets start by setting the parameters defining the market. These include the number of firms `n_firms`, number of consumers `n_cons`, number of product charactistics `n_char` and the number of time periods (or separated markets) `T`. The larger numbers you choose the longer the opimization will take. "
   ]
  },
  {
   "cell_type": "code",
   "execution_count": 2,
   "metadata": {},
   "outputs": [],
   "source": [
    "# Set the number of firms and consumers, the number of characteristics and the\n",
    "# number of time steps.\n",
    "# This will be out global workbook variables \n",
    "n_firms = 2\n",
    "n_cons = 1000\n",
    "T = 2\n",
    "\n",
    "# Initialize the market object\n",
    "market_object = market.MarketData(n_firms, n_cons, T)"
   ]
  },
  {
   "cell_type": "markdown",
   "metadata": {},
   "source": [
    "We have now created an _object_, which contains all the data and functions used to generate the data. The `market.py` file contains the Python code used to define this object. The simulation code makes use of the Object-Oriented Programming (OOP) paradigm. You do not need to change this code, but you can give it a look and try to understand the simulation process. \n",
    "\n",
    "We can now print the object, which will give us a summary of the main parameters of our simulation:"
   ]
  },
  {
   "cell_type": "code",
   "execution_count": 3,
   "metadata": {},
   "outputs": [
    {
     "name": "stdout",
     "output_type": "stream",
     "text": [
      "Market with 2 firms and 1000 consumers over 2 time periods. \n",
      " Firms sell differentiated product which have 1 product characteristics\n"
     ]
    }
   ],
   "source": [
    "print(market_object)"
   ]
  },
  {
   "cell_type": "markdown",
   "metadata": {},
   "source": [
    "In this exercise we are going to try and estimate the parameters underlying the indirect mean utility of the consumers for buying a certain product (again reference to the slide and certain). You can easily retrive the true parameters by running the code below.\n",
    "THESE ARE THE PARAMETERS WE ARE GOING TO TRY AND ESTIMATE"
   ]
  },
  {
   "cell_type": "code",
   "execution_count": 4,
   "metadata": {},
   "outputs": [
    {
     "name": "stdout",
     "output_type": "stream",
     "text": [
      "This is the mean price coefficeient -1.7\n",
      "This is the standard deviation of the price coefficient 0.2\n",
      "These are the means characteristics coefficeients \n",
      "[[2.67272081]]\n"
     ]
    }
   ],
   "source": [
    "# For the parameters underlying the distribution of the price coefficients \n",
    "print(f\"This is the mean price coefficeient {market_object.alpha_mean}\")\n",
    "print(f\"This is the standard deviation of the price coefficient {market_object.alpha_sd}\")\n",
    "\n",
    "# For the parameters underlying the distribution of the product characteristics coefficients \n",
    "print(f\"These are the means characteristics coefficeients \\n{market_object.beta_0}\")\n"
   ]
  },
  {
   "cell_type": "markdown",
   "metadata": {},
   "source": [
    "### PART 1. Data exploration\n"
   ]
  },
  {
   "cell_type": "markdown",
   "metadata": {},
   "source": []
  },
  {
   "cell_type": "markdown",
   "metadata": {},
   "source": [
    "Exercise 1: Look into the data characterizing you market. Print the dataframe object. Describe what you see. Is it all realistic? Which values are you likely to not have as an econometrician working on real datasets?"
   ]
  },
  {
   "cell_type": "code",
   "execution_count": 5,
   "metadata": {},
   "outputs": [
    {
     "name": "stdout",
     "output_type": "stream",
     "text": [
      "   market_ids  firm_ids    shares    prices      cost        xi     char1\n",
      "0           1         1  0.814784  5.870868  3.262528  0.196264  4.816225\n",
      "1           1         2  0.117212  6.106273  3.331514  0.102844  4.274074\n",
      "2           2         1  0.731297  5.091219  3.358621  0.044236  4.816225\n",
      "3           2         2  0.252292  4.712875  3.311746 -0.214009  4.274074\n"
     ]
    }
   ],
   "source": [
    "df = market_object.generate_simulated_data()\n",
    "\n",
    "# Print here the dataframe (delete answer before hand in students)\n",
    "print(df)\n",
    "\n",
    "# Describe in 100 words max what you see (as a comment in the cell or in a \n",
    "# separate markdown cell: \n",
    "# Which values are you not likely to not observe when working with real datasets?"
   ]
  },
  {
   "cell_type": "markdown",
   "metadata": {},
   "source": [
    "Exercise 2: Create a histogram with: \n",
    "\n",
    "1. The distribution of prices \n",
    "2. The distribution of market shares \n",
    "\n",
    "You should use the columns from the generated dataframe. "
   ]
  },
  {
   "cell_type": "code",
   "execution_count": 6,
   "metadata": {},
   "outputs": [
    {
     "data": {
      "image/png": "[encoded data removed]",
      "text/plain": [
       "<Figure size 640x480 with 1 Axes>"
      ]
     },
     "metadata": {},
     "output_type": "display_data"
    }
   ],
   "source": [
    "# Create a histogram\n",
    "plt.hist(df[\"prices\"], bins=50, edgecolor='black')\n",
    "\n",
    "# Set labels and title\n",
    "plt.xlabel('Value')\n",
    "plt.ylabel('Frequency')\n",
    "plt.title(' Prices Histogram')\n",
    "\n",
    "# Display the plot\n",
    "plt.show()"
   ]
  },
  {
   "cell_type": "code",
   "execution_count": 7,
   "metadata": {},
   "outputs": [
    {
     "data": {
      "image/png": "[encoded data removed]",
      "text/plain": [
       "<Figure size 640x480 with 1 Axes>"
      ]
     },
     "metadata": {},
     "output_type": "display_data"
    }
   ],
   "source": [
    "# Create a histogram\n",
    "plt.hist(df[\"shares\"], bins=50, edgecolor='black')\n",
    "\n",
    "# Set labels and title\n",
    "plt.xlabel('Value')\n",
    "plt.ylabel('Frequency')\n",
    "plt.title('Market Shares Histogram')\n",
    "\n",
    "# Display the plot\n",
    "plt.show()"
   ]
  },
  {
   "cell_type": "markdown",
   "metadata": {},
   "source": [
    "### Part 2: Simple Logit Estimation"
   ]
  },
  {
   "cell_type": "markdown",
   "metadata": {},
   "source": [
    "Exercise 1: Estimate the simple logit model disregarding consumer heterogeneity\n",
    "\n",
    "Trying to estimate with the logit function: \n",
    "\n",
    "$$ ln(s_j) - ln(s_0) =   \\beta^{'} x_j + \\alpha p_{jt}  $$\n",
    "\n",
    "Check if this estimation leads to the correct coefficients and what we can do to improve it. "
   ]
  },
  {
   "cell_type": "code",
   "execution_count": 8,
   "metadata": {},
   "outputs": [
    {
     "name": "stdout",
     "output_type": "stream",
     "text": [
      "[[-0.02088223]\n",
      " [-0.10625608]\n",
      " [ 0.20594654]\n",
      " ...\n",
      " [-0.03293596]\n",
      " [ 0.05618741]\n",
      " [ 0.31117776]]\n"
     ]
    }
   ],
   "source": [
    "print(market_object.alpha_i)"
   ]
  },
  {
   "cell_type": "code",
   "execution_count": 9,
   "metadata": {},
   "outputs": [
    {
     "name": "stdout",
     "output_type": "stream",
     "text": [
      "[0.93199533 0.98358899]\n",
      "[[0.06800467]\n",
      " [0.06800467]\n",
      " [0.01641101]\n",
      " [0.01641101]]\n"
     ]
    }
   ],
   "source": [
    "# Maybe let the students do this in pandas because it seems to much to ask to \n",
    "# use the attributes in 1-2 weeks? \n",
    "reshape = np.reshape(market_object.market_shares, (T, n_firms))\n",
    "sum_market_shares = np.sum(reshape, axis=1)\n",
    "print(sum_market_shares)\n",
    "repeated_sum_shares = np.reshape(np.repeat(sum_market_shares, n_firms), (n_firms*T, 1))\n",
    "outside_good_share = 1-repeated_sum_shares\n",
    "print(outside_good_share)\n",
    "y  = np.log(market_object.market_shares) - np.log(outside_good_share)"
   ]
  },
  {
   "cell_type": "code",
   "execution_count": 10,
   "metadata": {},
   "outputs": [
    {
     "name": "stdout",
     "output_type": "stream",
     "text": [
      "                                 OLS Regression Results                                \n",
      "=======================================================================================\n",
      "Dep. Variable:                      y   R-squared (uncentered):                   1.000\n",
      "Model:                            OLS   Adj. R-squared (uncentered):              1.000\n",
      "Method:                 Least Squares   F-statistic:                              6008.\n",
      "Date:                Thu, 26 Oct 2023   Prob (F-statistic):                     0.00948\n",
      "Time:                        18:51:06   Log-Likelihood:                          10.007\n",
      "No. Observations:                   4   AIC:                                     -14.01\n",
      "Df Residuals:                       1   BIC:                                     -15.85\n",
      "Df Model:                           3                                                  \n",
      "Covariance Type:            nonrobust                                                  \n",
      "==============================================================================\n",
      "                 coef    std err          t      P>|t|      [0.025      0.975]\n",
      "------------------------------------------------------------------------------\n",
      "prices        -1.8140      0.035    -51.115      0.012      -2.265      -1.363\n",
      "char1          2.6919      0.042     64.027      0.010       2.158       3.226\n",
      "xi             0.9889      0.149      6.638      0.095      -0.904       2.882\n",
      "==============================================================================\n",
      "Omnibus:                          nan   Durbin-Watson:                   1.884\n",
      "Prob(Omnibus):                    nan   Jarque-Bera (JB):                0.469\n",
      "Skew:                          -0.088   Prob(JB):                        0.791\n",
      "Kurtosis:                       1.332   Cond. No.                         54.3\n",
      "==============================================================================\n",
      "\n",
      "Notes:\n",
      "[1] R² is computed without centering (uncentered) since the model does not contain a constant.\n",
      "[2] Standard Errors assume that the covariance matrix of the errors is correctly specified.\n"
     ]
    },
    {
     "name": "stderr",
     "output_type": "stream",
     "text": [
      "/Users/api970/Library/Python/3.9/lib/python/site-packages/statsmodels/stats/stattools.py:74: ValueWarning: omni_normtest is not valid with less than 8 observations; 4 samples were given.\n",
      "  warn(\"omni_normtest is not valid with less than 8 observations; %i \"\n"
     ]
    }
   ],
   "source": [
    "x = df[['prices','char1', 'xi']]\n",
    "# with sklearn\n",
    "mod = sm.OLS(y, x).fit()\n",
    "print(mod.summary()) "
   ]
  },
  {
   "cell_type": "markdown",
   "metadata": {},
   "source": [
    "Exercise 2: Compare the estimates with the true estimates? What is wrong here? \n"
   ]
  },
  {
   "cell_type": "code",
   "execution_count": 11,
   "metadata": {},
   "outputs": [
    {
     "name": "stdout",
     "output_type": "stream",
     "text": [
      "The true parameters are alpha = -1.7 and beta = \n",
      " [[2.67272081]]  \n",
      "\n",
      "\n",
      "The estimates parameters are alpha = -1.813992573512015 and beta = \n",
      " char1    2.691886\n",
      "dtype: float64 \n",
      "\n",
      "\n"
     ]
    },
    {
     "name": "stderr",
     "output_type": "stream",
     "text": [
      "/var/folders/v2/756s2x392yg86b682tz_zrl80000gn/T/ipykernel_51120/215045152.py:2: FutureWarning: Series.__getitem__ treating keys as positions is deprecated. In a future version, integer keys will always be treated as labels (consistent with DataFrame behavior). To access a value by position, use `ser.iloc[pos]`\n",
      "  print(f\"The estimates parameters are alpha = {mod.params[0]} and beta = \\n {mod.params[1:2]} \\n\\n\")\n"
     ]
    }
   ],
   "source": [
    "print(f\"The true parameters are alpha = {market_object.alpha_mean} and beta = \\n {market_object.beta_0}  \\n\\n\")\n",
    "print(f\"The estimates parameters are alpha = {mod.params[0]} and beta = \\n {mod.params[1:2]} \\n\\n\")"
   ]
  },
  {
   "cell_type": "code",
   "execution_count": 12,
   "metadata": {},
   "outputs": [
    {
     "name": "stderr",
     "output_type": "stream",
     "text": [
      "/var/folders/v2/756s2x392yg86b682tz_zrl80000gn/T/ipykernel_51120/80710868.py:10: FutureWarning: Series.__getitem__ treating keys as positions is deprecated. In a future version, integer keys will always be treated as labels (consistent with DataFrame behavior). To access a value by position, use `ser.iloc[pos]`\n",
      "  mu = mod.params[i]\n",
      "/var/folders/v2/756s2x392yg86b682tz_zrl80000gn/T/ipykernel_51120/80710868.py:11: FutureWarning: Series.__getitem__ treating keys as positions is deprecated. In a future version, integer keys will always be treated as labels (consistent with DataFrame behavior). To access a value by position, use `ser.iloc[pos]`\n",
      "  sigma = mod.bse[i]\n"
     ]
    },
    {
     "data": {
      "image/png": "[encoded data removed]",
      "text/plain": [
       "<Figure size 800x200 with 2 Axes>"
      ]
     },
     "metadata": {},
     "output_type": "display_data"
    }
   ],
   "source": [
    "# Additional visualization students do not need to do this but it is good for \n",
    "# visualization\n",
    "\n",
    "fig, axes = plt.subplots(1, 2, figsize=(8, 2))\n",
    "\n",
    "for i,ax in enumerate(axes.flatten()):\n",
    "    ax.axvline(np.vstack((market_object.alpha_mean, market_object.beta_0))[i], label=\"true\", color=\"blue\")\n",
    "\n",
    "    # Plot (distribution of) estimated coefficient\n",
    "    mu = mod.params[i]\n",
    "    sigma = mod.bse[i]\n",
    "    x1 = np.linspace(mu - 4*sigma, mu + 4*sigma, 1000)\n",
    "    x2 = np.linspace(mu - 1.96*sigma, mu + 1.96*sigma, 1000)\n",
    "    \n",
    "    ax.axvline(mu, label=\"estimated\", color=\"red\")\n",
    "    ax.plot(x1, norm.pdf(x1, mu, sigma), color=\"red\")\n",
    "    ax.fill_between(x2, norm.pdf(x2, mu, sigma), color=\"red\", alpha=0.4)\n",
    "    \n",
    "    ax.set_title(f\"$coef{i+1}$\")\n",
    "\n",
    "plt.tight_layout()\n",
    "plt.show()"
   ]
  },
  {
   "cell_type": "markdown",
   "metadata": {},
   "source": [
    "### Part 3 - GMM algorithm for accounting for unobserved product characteristics "
   ]
  },
  {
   "cell_type": "markdown",
   "metadata": {},
   "source": [
    "Guided Monte Carlo Estimation \n",
    "\n",
    "\n",
    "All the funcitons are written for you, you only need to compare the estimates in\n",
    "the end and calculate and compare elasticities "
   ]
  },
  {
   "cell_type": "code",
   "execution_count": 13,
   "metadata": {},
   "outputs": [],
   "source": [
    "def gen_price_random_coeff(alpha_sd, v_p, df): \n",
    "        \"\"\"\n",
    "        TODO\n",
    "        \"\"\"\n",
    "        random_coefficient_prices = np.zeros((n_firms*n_cons*T, 1))\n",
    "        alpha_i = np.zeros((n_cons*T, 1))\n",
    "        for t in range(0, T, 1):\n",
    "            price_r = (np.array(df['prices'][t*n_firms : (t + 1)*n_firms])).reshape(1, n_firms)\n",
    "            period_v_p = v_p[t*n_cons : (t + 1)*n_cons]\n",
    "            alpha_i_per_period = np.reshape(alpha_sd*period_v_p, \n",
    "                                             (n_cons, 1))\n",
    "            c_times_f = n_cons*n_firms\n",
    "            alpha_i[t*n_cons: (t + 1)*n_cons] = alpha_i_per_period \n",
    "            reshaped =  np.reshape(np.ravel((alpha_i_per_period*price_r).T), (c_times_f, 1))\n",
    "            random_coefficient_prices[t*c_times_f : (t + 1)*c_times_f] = reshaped\n",
    "        return random_coefficient_prices"
   ]
  },
  {
   "cell_type": "code",
   "execution_count": 14,
   "metadata": {},
   "outputs": [],
   "source": [
    "def gen_estimated_utilities(alpha_mean, beta, df): \n",
    "    \"\"\"\n",
    "    TODO\n",
    "    \"\"\"\n",
    "    estimated_mean_utlities = np.zeros((n_firms*T, 1))\n",
    "    for t in range(0, T, 1):\n",
    "        price_r = np.array(df['prices'][t*n_firms : (t + 1)*n_firms]).reshape(n_firms, 1)\n",
    "        product_chars_period = np.array(df['char1'][t*n_firms : (t + 1)*n_firms]).reshape(n_firms, 1)\n",
    "        xi_per = np.array(df['xi'][t*n_firms : (t + 1)*n_firms]).reshape(n_firms, 1)\n",
    "        mean_indirect_utilities_period = beta*product_chars_period + alpha_mean*price_r + xi_per\n",
    "        reshaped = np.reshape(mean_indirect_utilities_period, (n_firms, 1))\n",
    "        estimated_mean_utlities[t*n_firms:(t + 1)*n_firms] = reshaped\n",
    "    return estimated_mean_utlities\n"
   ]
  },
  {
   "cell_type": "code",
   "execution_count": 15,
   "metadata": {},
   "outputs": [],
   "source": [
    "def gen_estimated_market_share(theta, v_p, df):\n",
    "    \n",
    "    # Unpack theta\n",
    "    alpha_sd = theta[0]\n",
    "    alpha_mean = theta[1]\n",
    "    beta = theta[2]\n",
    "\n",
    "    estimated_market_shares = np.zeros((n_firms*T, 1))\n",
    "    random_coeff_price = gen_price_random_coeff(alpha_sd, v_p, df)\n",
    "    mean_utilities = gen_estimated_utilities(alpha_mean, beta, df)\n",
    "    \n",
    "    for t in range(0, T, 1):\n",
    "        c_times_f = n_cons*n_firms\n",
    "        coeff_per_T = random_coeff_price[t*c_times_f : (t + 1) * c_times_f]\n",
    "        repeat_u = np.repeat(mean_utilities[t*n_firms : (t + 1)*n_firms]\n",
    "                             , n_cons, axis=0)                \n",
    "        u = repeat_u + coeff_per_T \n",
    "        u_r = np.reshape(u, (n_firms, n_cons))\n",
    "        sum_u = np.sum(np.exp(u_r), axis=0)\n",
    "        all_probs = np.exp(u_r)/(1 + sum_u)\n",
    "        market_shares = np.sum(all_probs, axis=1)/n_cons\n",
    "        reshaped = np.reshape(market_shares, (n_firms, 1))\n",
    "        estimated_market_shares[t*n_firms:(t + 1)*n_firms] = reshaped\n",
    "\n",
    "    return estimated_market_shares"
   ]
  },
  {
   "cell_type": "code",
   "execution_count": 16,
   "metadata": {},
   "outputs": [
    {
     "name": "stdout",
     "output_type": "stream",
     "text": [
      "[[0.]\n",
      " [0.]\n",
      " [0.]\n",
      " [0.]]\n"
     ]
    }
   ],
   "source": [
    "true_beta = market_object.beta_0\n",
    "theta_true = (market_object.alpha_sd, market_object.alpha_mean, true_beta)\n",
    "estimated_shares = gen_estimated_market_share(theta_true, market_object.v_p, df)\n",
    "print(estimated_shares - market_object.market_shares)"
   ]
  },
  {
   "cell_type": "code",
   "execution_count": 17,
   "metadata": {},
   "outputs": [],
   "source": [
    "def f(theta, df, v_p):\n",
    "    true_shares = np.array(df['shares'])\n",
    "    estimated_market_shares = gen_estimated_market_share(theta, v_p, df)\n",
    "    mse = np.mean((true_shares -  estimated_market_shares) ** 2)\n",
    "    return mse\n",
    "\n"
   ]
  },
  {
   "cell_type": "code",
   "execution_count": 19,
   "metadata": {},
   "outputs": [
    {
     "ename": "IndexError",
     "evalue": "invalid index to scalar variable.",
     "output_type": "error",
     "traceback": [
      "\u001b[0;31m---------------------------------------------------------------------------\u001b[0m",
      "\u001b[0;31mIndexError\u001b[0m                                Traceback (most recent call last)",
      "\u001b[1;32m/Users/api970/Desktop/Extras/v2_assignment/assignment.ipynb Cell 33\u001b[0m line \u001b[0;36m7\n\u001b[1;32m      <a href='vscode-notebook-cell:/Users/api970/Desktop/Extras/v2_assignment/assignment.ipynb#X63sZmlsZQ%3D%3D?line=4'>5</a>\u001b[0m \u001b[39mfor\u001b[39;00m repeat \u001b[39min\u001b[39;00m \u001b[39mrange\u001b[39m(n_repeats):\n\u001b[1;32m      <a href='vscode-notebook-cell:/Users/api970/Desktop/Extras/v2_assignment/assignment.ipynb#X63sZmlsZQ%3D%3D?line=5'>6</a>\u001b[0m     v_p_monte \u001b[39m=\u001b[39m np\u001b[39m.\u001b[39mrandom\u001b[39m.\u001b[39mnormal(\u001b[39m0\u001b[39m, \u001b[39m1\u001b[39m,(n_cons\u001b[39m*\u001b[39mT, \u001b[39m1\u001b[39m))\n\u001b[0;32m----> <a href='vscode-notebook-cell:/Users/api970/Desktop/Extras/v2_assignment/assignment.ipynb#X63sZmlsZQ%3D%3D?line=6'>7</a>\u001b[0m     res \u001b[39m=\u001b[39m optimize\u001b[39m.\u001b[39;49mfixed_point(f, theta_0, args\u001b[39m=\u001b[39;49m(df, v_p_monte), xtol\u001b[39m=\u001b[39;49m\u001b[39m1e-08\u001b[39;49m, maxiter\u001b[39m=\u001b[39;49m\u001b[39m500\u001b[39;49m, method\u001b[39m=\u001b[39;49m\u001b[39m'\u001b[39;49m\u001b[39mdel2\u001b[39;49m\u001b[39m'\u001b[39;49m)\n\u001b[1;32m      <a href='vscode-notebook-cell:/Users/api970/Desktop/Extras/v2_assignment/assignment.ipynb#X63sZmlsZQ%3D%3D?line=7'>8</a>\u001b[0m     \u001b[39mprint\u001b[39m(res\u001b[39m.\u001b[39mx)\n\u001b[1;32m      <a href='vscode-notebook-cell:/Users/api970/Desktop/Extras/v2_assignment/assignment.ipynb#X63sZmlsZQ%3D%3D?line=8'>9</a>\u001b[0m     \u001b[39mprint\u001b[39m(theta_true)\n",
      "File \u001b[0;32m~/Library/Python/3.9/lib/python/site-packages/scipy/optimize/_minpack_py.py:1120\u001b[0m, in \u001b[0;36mfixed_point\u001b[0;34m(func, x0, args, xtol, maxiter, method)\u001b[0m\n\u001b[1;32m   1118\u001b[0m use_accel \u001b[39m=\u001b[39m {\u001b[39m'\u001b[39m\u001b[39mdel2\u001b[39m\u001b[39m'\u001b[39m: \u001b[39mTrue\u001b[39;00m, \u001b[39m'\u001b[39m\u001b[39miteration\u001b[39m\u001b[39m'\u001b[39m: \u001b[39mFalse\u001b[39;00m}[method]\n\u001b[1;32m   1119\u001b[0m x0 \u001b[39m=\u001b[39m _asarray_validated(x0, as_inexact\u001b[39m=\u001b[39m\u001b[39mTrue\u001b[39;00m)\n\u001b[0;32m-> 1120\u001b[0m \u001b[39mreturn\u001b[39;00m _fixed_point_helper(func, x0, args, xtol, maxiter, use_accel)\n",
      "File \u001b[0;32m~/Library/Python/3.9/lib/python/site-packages/scipy/optimize/_minpack_py.py:1063\u001b[0m, in \u001b[0;36m_fixed_point_helper\u001b[0;34m(func, x0, args, xtol, maxiter, use_accel)\u001b[0m\n\u001b[1;32m   1061\u001b[0m p1 \u001b[39m=\u001b[39m func(p0, \u001b[39m*\u001b[39margs)\n\u001b[1;32m   1062\u001b[0m \u001b[39mif\u001b[39;00m use_accel:\n\u001b[0;32m-> 1063\u001b[0m     p2 \u001b[39m=\u001b[39m func(p1, \u001b[39m*\u001b[39;49margs)\n\u001b[1;32m   1064\u001b[0m     d \u001b[39m=\u001b[39m p2 \u001b[39m-\u001b[39m \u001b[39m2.0\u001b[39m \u001b[39m*\u001b[39m p1 \u001b[39m+\u001b[39m p0\n\u001b[1;32m   1065\u001b[0m     p \u001b[39m=\u001b[39m _lazywhere(d \u001b[39m!=\u001b[39m \u001b[39m0\u001b[39m, (p0, p1, d), f\u001b[39m=\u001b[39m_del2, fillvalue\u001b[39m=\u001b[39mp2)\n",
      "\u001b[1;32m/Users/api970/Desktop/Extras/v2_assignment/assignment.ipynb Cell 33\u001b[0m line \u001b[0;36m3\n\u001b[1;32m      <a href='vscode-notebook-cell:/Users/api970/Desktop/Extras/v2_assignment/assignment.ipynb#X63sZmlsZQ%3D%3D?line=0'>1</a>\u001b[0m \u001b[39mdef\u001b[39;00m \u001b[39mf\u001b[39m(theta, df, v_p):\n\u001b[1;32m      <a href='vscode-notebook-cell:/Users/api970/Desktop/Extras/v2_assignment/assignment.ipynb#X63sZmlsZQ%3D%3D?line=1'>2</a>\u001b[0m     true_shares \u001b[39m=\u001b[39m np\u001b[39m.\u001b[39marray(df[\u001b[39m'\u001b[39m\u001b[39mshares\u001b[39m\u001b[39m'\u001b[39m])\n\u001b[0;32m----> <a href='vscode-notebook-cell:/Users/api970/Desktop/Extras/v2_assignment/assignment.ipynb#X63sZmlsZQ%3D%3D?line=2'>3</a>\u001b[0m     estimated_market_shares \u001b[39m=\u001b[39m gen_estimated_market_share(theta, v_p, df)\n\u001b[1;32m      <a href='vscode-notebook-cell:/Users/api970/Desktop/Extras/v2_assignment/assignment.ipynb#X63sZmlsZQ%3D%3D?line=3'>4</a>\u001b[0m     mse \u001b[39m=\u001b[39m np\u001b[39m.\u001b[39mmean((true_shares \u001b[39m-\u001b[39m  estimated_market_shares) \u001b[39m*\u001b[39m\u001b[39m*\u001b[39m \u001b[39m2\u001b[39m)\n\u001b[1;32m      <a href='vscode-notebook-cell:/Users/api970/Desktop/Extras/v2_assignment/assignment.ipynb#X63sZmlsZQ%3D%3D?line=4'>5</a>\u001b[0m     \u001b[39mreturn\u001b[39;00m mse\n",
      "\u001b[1;32m/Users/api970/Desktop/Extras/v2_assignment/assignment.ipynb Cell 33\u001b[0m line \u001b[0;36m4\n\u001b[1;32m      <a href='vscode-notebook-cell:/Users/api970/Desktop/Extras/v2_assignment/assignment.ipynb#X63sZmlsZQ%3D%3D?line=0'>1</a>\u001b[0m \u001b[39mdef\u001b[39;00m \u001b[39mgen_estimated_market_share\u001b[39m(theta, v_p, df):\n\u001b[1;32m      <a href='vscode-notebook-cell:/Users/api970/Desktop/Extras/v2_assignment/assignment.ipynb#X63sZmlsZQ%3D%3D?line=1'>2</a>\u001b[0m     \n\u001b[1;32m      <a href='vscode-notebook-cell:/Users/api970/Desktop/Extras/v2_assignment/assignment.ipynb#X63sZmlsZQ%3D%3D?line=2'>3</a>\u001b[0m     \u001b[39m# Unpack theta\u001b[39;00m\n\u001b[0;32m----> <a href='vscode-notebook-cell:/Users/api970/Desktop/Extras/v2_assignment/assignment.ipynb#X63sZmlsZQ%3D%3D?line=3'>4</a>\u001b[0m     alpha_sd \u001b[39m=\u001b[39m theta[\u001b[39m0\u001b[39;49m]\n\u001b[1;32m      <a href='vscode-notebook-cell:/Users/api970/Desktop/Extras/v2_assignment/assignment.ipynb#X63sZmlsZQ%3D%3D?line=4'>5</a>\u001b[0m     alpha_mean \u001b[39m=\u001b[39m theta[\u001b[39m1\u001b[39m]\n\u001b[1;32m      <a href='vscode-notebook-cell:/Users/api970/Desktop/Extras/v2_assignment/assignment.ipynb#X63sZmlsZQ%3D%3D?line=5'>6</a>\u001b[0m     beta \u001b[39m=\u001b[39m theta[\u001b[39m2\u001b[39m]\n",
      "\u001b[0;31mIndexError\u001b[0m: invalid index to scalar variable."
     ]
    }
   ],
   "source": [
    "theta_0 = [1., -1., 1.]\n",
    "# theta_true = [0.2, -1.7, 2.1898]\n",
    "\n",
    "n_repeats = 5\n",
    "for repeat in range(n_repeats):\n",
    "    v_p_monte = np.random.normal(0, 1,(n_cons*T, 1))\n",
    "    # res = optimize.fixed_point(f, theta_0, args=(df, v_p_monte), xtol=1e-08, maxiter=500, method='del2')\n",
    "    res = optimize\n",
    "    print(res.x)\n",
    "    print(theta_true)"
   ]
  }
 ],
 "metadata": {
  "kernelspec": {
   "display_name": "Python 3",
   "language": "python",
   "name": "python3"
  },
  "language_info": {
   "codemirror_mode": {
    "name": "ipython",
    "version": 3
   },
   "file_extension": ".py",
   "mimetype": "text/x-python",
   "name": "python",
   "nbconvert_exporter": "python",
   "pygments_lexer": "ipython3",
   "version": "3.9.6"
  },
  "orig_nbformat": 4
 },
 "nbformat": 4,
 "nbformat_minor": 2
}
