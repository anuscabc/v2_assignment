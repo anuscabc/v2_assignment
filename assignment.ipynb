{
 "cells": [
  {
   "cell_type": "markdown",
   "metadata": {},
   "source": [
    "## Demand Estimation Exercise\n",
    "\n",
    "In this assignment, you will learn how to simulate market data and estimate simple random coefficient demand models. The assignment should serve as an introduction to the structural estimation in heterogenous product demand models.\n",
    "\n",
    "Let's first define the model.\n"
   ]
  },
  {
   "cell_type": "code",
   "execution_count": 1,
   "metadata": {},
   "outputs": [],
   "source": [
    "import simulate\n",
    "import numpy as np \n",
    "import pandas as pd \n",
    "import matplotlib.pyplot as plt"
   ]
  },
  {
   "cell_type": "code",
   "execution_count": 2,
   "metadata": {},
   "outputs": [
    {
     "name": "stdout",
     "output_type": "stream",
     "text": [
      "Market with 4 firms and 10 consumers over 2 time periods. \n",
      " Firms sell differentiated product which have 3 product characteristics\n"
     ]
    }
   ],
   "source": [
    "n_firms = 4\n",
    "n_const = 10\n",
    "n_caract = 3\n",
    "T = 2\n",
    "\n",
    "\n",
    "\n",
    "market = simulate.Market_Data(n_firms, n_const, n_caract, T)\n",
    "print(market)"
   ]
  },
  {
   "cell_type": "code",
   "execution_count": 3,
   "metadata": {},
   "outputs": [
    {
     "name": "stdout",
     "output_type": "stream",
     "text": [
      "[[23.62960685]\n",
      " [20.23978503]\n",
      " [31.01203839]\n",
      " [28.79596988]\n",
      " [19.38875221]\n",
      " [19.18337078]\n",
      " [31.1564702 ]\n",
      " [28.66053526]]\n"
     ]
    }
   ],
   "source": [
    "mean_indirect_utilities = np.zeros((T*n_firms, 1))\n",
    "\n",
    "\n",
    "for t in range (0, T, 1): \n",
    "    mean_indirect_utilities[t*n_firms:n_firms+t*n_firms] = market.gen_mean_indirect_utilities(t)\n",
    "\n",
    "print(mean_indirect_utilities)\n"
   ]
  },
  {
   "cell_type": "code",
   "execution_count": 4,
   "metadata": {},
   "outputs": [
    {
     "ename": "ValueError",
     "evalue": "could not broadcast input array from shape (10,4) into shape (10,1)",
     "output_type": "error",
     "traceback": [
      "\u001b[0;31m---------------------------------------------------------------------------\u001b[0m",
      "\u001b[0;31mValueError\u001b[0m                                Traceback (most recent call last)",
      "\u001b[1;32m/Users/api970/Desktop/Extras/v2_assignment/assignment.ipynb Cell 5\u001b[0m line \u001b[0;36m4\n\u001b[1;32m      <a href='vscode-notebook-cell:/Users/api970/Desktop/Extras/v2_assignment/assignment.ipynb#W4sZmlsZQ%3D%3D?line=0'>1</a>\u001b[0m random_coeff \u001b[39m=\u001b[39m np\u001b[39m.\u001b[39mzeros((n_const\u001b[39m*\u001b[39mn_firms, \u001b[39m1\u001b[39m))\n\u001b[1;32m      <a href='vscode-notebook-cell:/Users/api970/Desktop/Extras/v2_assignment/assignment.ipynb#W4sZmlsZQ%3D%3D?line=2'>3</a>\u001b[0m \u001b[39mfor\u001b[39;00m t \u001b[39min\u001b[39;00m \u001b[39mrange\u001b[39m (\u001b[39m0\u001b[39m, T, \u001b[39m1\u001b[39m): \n\u001b[0;32m----> <a href='vscode-notebook-cell:/Users/api970/Desktop/Extras/v2_assignment/assignment.ipynb#W4sZmlsZQ%3D%3D?line=3'>4</a>\u001b[0m     random_coeff[t\u001b[39m*\u001b[39;49mn_const:n_const\u001b[39m+\u001b[39;49mt\u001b[39m*\u001b[39;49mn_const] \u001b[39m=\u001b[39m market\u001b[39m.\u001b[39mget_random_coefficients(t)\n\u001b[1;32m      <a href='vscode-notebook-cell:/Users/api970/Desktop/Extras/v2_assignment/assignment.ipynb#W4sZmlsZQ%3D%3D?line=4'>5</a>\u001b[0m \u001b[39mprint\u001b[39m(random_coeff)\n",
      "\u001b[0;31mValueError\u001b[0m: could not broadcast input array from shape (10,4) into shape (10,1)"
     ]
    }
   ],
   "source": [
    "random_coeff = np.zeros((n_const*n_firms, 1))\n",
    "\n",
    "for t in range (0, T, 1): \n",
    "    random_coeff[t*n_const:n_const+t*n_const] = market.get_random_coefficients(t)\n",
    "print(random_coeff)\n",
    "\n",
    "\n",
    "print(\"Hello world\")"
   ]
  }
 ],
 "metadata": {
  "kernelspec": {
   "display_name": "Python 3",
   "language": "python",
   "name": "python3"
  },
  "language_info": {
   "codemirror_mode": {
    "name": "ipython",
    "version": 3
   },
   "file_extension": ".py",
   "mimetype": "text/x-python",
   "name": "python",
   "nbconvert_exporter": "python",
   "pygments_lexer": "ipython3",
   "version": "3.9.6"
  },
  "orig_nbformat": 4
 },
 "nbformat": 4,
 "nbformat_minor": 2
}
