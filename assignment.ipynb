{
 "cells": [
  {
   "cell_type": "markdown",
   "metadata": {},
   "source": [
    "## Demand Estimation Exercise\n",
    "\n",
    "In this assignment, you will learn how to simulate market data and estimate simple random coefficient demand models. The assignment should serve as an introduction to the structural estimation in heterogenous product demand models.\n",
    "\n",
    "Let's first define the model.\n"
   ]
  },
  {
   "cell_type": "code",
   "execution_count": 1,
   "metadata": {},
   "outputs": [],
   "source": [
    "import simulate\n",
    "import numpy as np \n",
    "import pandas as pd \n",
    "import matplotlib.pyplot as plt"
   ]
  },
  {
   "cell_type": "code",
   "execution_count": 2,
   "metadata": {},
   "outputs": [
    {
     "name": "stdout",
     "output_type": "stream",
     "text": [
      "Market with 10 firms and 1000 consumers over 10 time periods. \n",
      " Firms sell differentiated product which have 4 product characteristics\n"
     ]
    }
   ],
   "source": [
    "n_firms = 10\n",
    "n_const = 1000\n",
    "n_caract = 4\n",
    "T = 10\n",
    "\n",
    "\n",
    "market = simulate.Market_Data(n_firms, n_const, n_caract, T)\n",
    "print(market)"
   ]
  },
  {
   "cell_type": "markdown",
   "metadata": {},
   "source": [
    "This market is characterized y the following parameters that are unknown to the econometrician:\n"
   ]
  },
  {
   "cell_type": "markdown",
   "metadata": {},
   "source": []
  },
  {
   "cell_type": "code",
   "execution_count": 3,
   "metadata": {},
   "outputs": [
    {
     "name": "stdout",
     "output_type": "stream",
     "text": [
      "    market_ids  firm_ids  market_share     price      cost        xi  \\\n",
      "0            1         1      0.000005  1.150613  0.416911 -0.340930   \n",
      "1            1         2      0.103753  2.552354  1.186894 -0.227252   \n",
      "2            1         3      0.042450  3.575963  1.779830 -0.594663   \n",
      "3            1         4      0.664267  2.376352  0.881423  0.006663   \n",
      "4            1         5      0.024970  4.921845  1.633395 -0.049778   \n",
      "..         ...       ...           ...       ...       ...       ...   \n",
      "95          10         6      0.016094  2.928746  1.001510  0.129835   \n",
      "96          10         7      0.226754  2.552623  0.962702 -0.034956   \n",
      "97          10         8      0.002245  3.117963  1.001981  0.203453   \n",
      "98          10         9      0.030695  2.033158  0.911643 -0.119997   \n",
      "99          10        10      0.389349  1.788144  0.288351  0.315233   \n",
      "\n",
      "       char1     char2     char3     char4  \n",
      "0   3.278645  1.193333  3.995015  1.002434  \n",
      "1   3.509068  3.508631  1.303348  5.749185  \n",
      "2   4.043295  4.360013  3.313868  4.521365  \n",
      "3   1.905336  4.237911  3.840544  5.770692  \n",
      "4   4.983451  3.926552  3.276775  4.692258  \n",
      "..       ...       ...       ...       ...  \n",
      "95  5.061181  5.636456  5.131878  1.149783  \n",
      "96  4.864014  3.608887  5.426937  3.292808  \n",
      "97  3.703613  5.538825  3.781550  1.935574  \n",
      "98  4.405557  1.069233  2.900458  5.043422  \n",
      "99  3.880627  1.758923  2.649274  5.758866  \n",
      "\n",
      "[100 rows x 10 columns]\n"
     ]
    }
   ],
   "source": [
    "df = market.generate_simulated_data()\n",
    "print(df)"
   ]
  },
  {
   "cell_type": "code",
   "execution_count": null,
   "metadata": {},
   "outputs": [],
   "source": []
  }
 ],
 "metadata": {
  "kernelspec": {
   "display_name": "Python 3",
   "language": "python",
   "name": "python3"
  },
  "language_info": {
   "codemirror_mode": {
    "name": "ipython",
    "version": 3
   },
   "file_extension": ".py",
   "mimetype": "text/x-python",
   "name": "python",
   "nbconvert_exporter": "python",
   "pygments_lexer": "ipython3",
   "version": "3.9.6"
  },
  "orig_nbformat": 4
 },
 "nbformat": 4,
 "nbformat_minor": 2
}
