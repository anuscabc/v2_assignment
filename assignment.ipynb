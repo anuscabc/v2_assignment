{
 "cells": [
  {
   "cell_type": "markdown",
   "metadata": {},
   "source": [
    "## Demand Estimation Exercise\n",
    "\n",
    "In this assignment, you will learn how to simulate market data and estimate simple random coefficient demand models. The assignment should serve as an introduction to the structural estimation in heterogenous product demand models.\n",
    "\n",
    "Let's first define the model.\n"
   ]
  },
  {
   "cell_type": "code",
   "execution_count": 1,
   "metadata": {},
   "outputs": [],
   "source": [
    "import simulate\n",
    "import numpy as np \n",
    "import pandas as pd \n",
    "import matplotlib.pyplot as plt"
   ]
  },
  {
   "cell_type": "code",
   "execution_count": 2,
   "metadata": {},
   "outputs": [
    {
     "name": "stdout",
     "output_type": "stream",
     "text": [
      "Market with 10 firms and 1000 consumers over 10 time periods. \n",
      " Firms sell differentiated product which have 3 product characteristics\n"
     ]
    }
   ],
   "source": [
    "market = simulate.Market_Data(10, 1000, 3, 10)\n",
    "print(market)"
   ]
  },
  {
   "cell_type": "code",
   "execution_count": 12,
   "metadata": {},
   "outputs": [
    {
     "name": "stdout",
     "output_type": "stream",
     "text": [
      "[[22.07221752]\n",
      " [24.6856799 ]\n",
      " [26.82889965]\n",
      " [24.19338441]\n",
      " [13.87667439]\n",
      " [24.43346227]\n",
      " [19.04607282]\n",
      " [ 8.4802178 ]\n",
      " [20.85818766]\n",
      " [15.30031442]\n",
      " [20.93070506]\n",
      " [25.6478484 ]\n",
      " [27.2734481 ]\n",
      " [19.49763462]\n",
      " [16.50938527]\n",
      " [26.22160245]\n",
      " [19.48007604]\n",
      " [ 6.53300002]\n",
      " [22.5106498 ]\n",
      " [16.09158132]\n",
      " [21.89287356]\n",
      " [26.09239684]\n",
      " [22.57769831]\n",
      " [22.13034551]\n",
      " [18.29752546]\n",
      " [26.65560567]\n",
      " [17.53285825]\n",
      " [ 8.18546216]\n",
      " [23.3019167 ]\n",
      " [14.12852946]\n",
      " [22.337422  ]\n",
      " [21.39664705]\n",
      " [25.21040919]\n",
      " [23.91848569]\n",
      " [18.73152868]\n",
      " [24.70838788]\n",
      " [19.18532039]\n",
      " [ 8.97672905]\n",
      " [21.33886484]\n",
      " [13.71598249]\n",
      " [ 0.        ]\n",
      " [ 0.        ]\n",
      " [ 0.        ]\n",
      " [ 0.        ]\n",
      " [ 0.        ]\n",
      " [ 0.        ]\n",
      " [ 0.        ]\n",
      " [ 0.        ]\n",
      " [ 0.        ]\n",
      " [ 0.        ]\n",
      " [ 0.        ]\n",
      " [ 0.        ]\n",
      " [ 0.        ]\n",
      " [ 0.        ]\n",
      " [ 0.        ]\n",
      " [ 0.        ]\n",
      " [ 0.        ]\n",
      " [ 0.        ]\n",
      " [ 0.        ]\n",
      " [ 0.        ]\n",
      " [ 0.        ]\n",
      " [ 0.        ]\n",
      " [ 0.        ]\n",
      " [ 0.        ]\n",
      " [ 0.        ]\n",
      " [ 0.        ]\n",
      " [ 0.        ]\n",
      " [ 0.        ]\n",
      " [ 0.        ]\n",
      " [ 0.        ]\n",
      " [ 0.        ]\n",
      " [ 0.        ]\n",
      " [ 0.        ]\n",
      " [ 0.        ]\n",
      " [ 0.        ]\n",
      " [ 0.        ]\n",
      " [ 0.        ]\n",
      " [ 0.        ]\n",
      " [ 0.        ]\n",
      " [ 0.        ]\n",
      " [ 0.        ]\n",
      " [ 0.        ]\n",
      " [ 0.        ]\n",
      " [ 0.        ]\n",
      " [ 0.        ]\n",
      " [ 0.        ]\n",
      " [ 0.        ]\n",
      " [ 0.        ]\n",
      " [ 0.        ]\n",
      " [ 0.        ]\n",
      " [ 0.        ]\n",
      " [ 0.        ]\n",
      " [ 0.        ]\n",
      " [ 0.        ]\n",
      " [ 0.        ]\n",
      " [ 0.        ]\n",
      " [ 0.        ]\n",
      " [ 0.        ]\n",
      " [ 0.        ]\n",
      " [ 0.        ]]\n"
     ]
    }
   ],
   "source": [
    "mean_indirect_utilities = np.zeros((10*10, 1))\n",
    "\n",
    "\n",
    "for t in range (0, 4, 1): \n",
    "    mean_indirect_utilities[t*10:10+t*10] = market.gen_mean_indirect_utilities(t)\n",
    "\n",
    "\n",
    "print(mean_indirect_utilities)\n"
   ]
  }
 ],
 "metadata": {
  "kernelspec": {
   "display_name": "Python 3",
   "language": "python",
   "name": "python3"
  },
  "language_info": {
   "codemirror_mode": {
    "name": "ipython",
    "version": 3
   },
   "file_extension": ".py",
   "mimetype": "text/x-python",
   "name": "python",
   "nbconvert_exporter": "python",
   "pygments_lexer": "ipython3",
   "version": "3.9.6"
  },
  "orig_nbformat": 4
 },
 "nbformat": 4,
 "nbformat_minor": 2
}
