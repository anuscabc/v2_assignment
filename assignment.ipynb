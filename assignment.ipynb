{
 "cells": [
  {
   "cell_type": "markdown",
   "metadata": {},
   "source": [
    "## Demand Estimation Exercise\n",
    "\n",
    "In this assignment, you will learn how to simulate market data and estimate simple random coefficient demand models. The assignment should serve as an introduction to the structural estimation in heterogenous product demand models.\n",
    "\n",
    "Let's first define the model.\n"
   ]
  },
  {
   "cell_type": "code",
   "execution_count": 1,
   "metadata": {},
   "outputs": [],
   "source": [
    "import simulate\n",
    "import numpy as np \n",
    "import pandas as pd \n",
    "import matplotlib.pyplot as plt"
   ]
  },
  {
   "cell_type": "code",
   "execution_count": 2,
   "metadata": {},
   "outputs": [
    {
     "name": "stdout",
     "output_type": "stream",
     "text": [
      "Market with 10 firms and 1000 consumers over 100 time periods. \n",
      " Firms sell differentiated product which have 4 product characteristics\n"
     ]
    }
   ],
   "source": [
    "n_firms = 10\n",
    "n_const = 1000\n",
    "n_caract = 4\n",
    "T = 100\n",
    "\n",
    "\n",
    "market = simulate.Market_Data(n_firms, n_const, n_caract, T)\n",
    "print(market)"
   ]
  },
  {
   "cell_type": "markdown",
   "metadata": {},
   "source": [
    "This market is characterized by the following parameters that are unknown to the econometrician:\n",
    "\n",
    "$\\alpha_{\\mu} =  0.5$\n",
    "$\\alpha_{\\sigma} =  0.05$\n",
    "These two parameters can be used for the lognormal distribution to find: -1.65 mean of the lognormal with standard deviation\n",
    "\n",
    "\n",
    "\n",
    "\n",
    "$\\beta_{\\mu} =  [[1.47435481], [1.41511067] , [1.0707528 ], [2.39841642]]$ \n",
    "\n",
    "\n",
    "\n",
    "$\\beta_{\\sigma} = [[0.02938696], [0.02612406],  [0.00292152],  [0.01330291]]  $\n",
    "\n"
   ]
  },
  {
   "cell_type": "code",
   "execution_count": 3,
   "metadata": {},
   "outputs": [
    {
     "name": "stdout",
     "output_type": "stream",
     "text": [
      "[[2.43371435]\n",
      " [1.36983501]\n",
      " [2.20479267]\n",
      " [0.30766116]]\n",
      "[[0.01127675]\n",
      " [0.03599258]\n",
      " [0.00561194]\n",
      " [0.00134334]]\n",
      "-1.650783460888857\n",
      "0.006821238081735126\n"
     ]
    }
   ],
   "source": [
    "print(market.beta_0)\n",
    "print(market.beta_sd)\n",
    "print(market.alpha_0)\n",
    "print(market.alpha_0_sd)"
   ]
  },
  {
   "cell_type": "markdown",
   "metadata": {},
   "source": []
  },
  {
   "cell_type": "code",
   "execution_count": 4,
   "metadata": {},
   "outputs": [
    {
     "name": "stdout",
     "output_type": "stream",
     "text": [
      "     market_ids  firm_ids  market_share      price      cost        xi  \\\n",
      "0             1         1  2.187072e-02  20.108883  3.041989 -0.042173   \n",
      "1             1         2  6.575459e-06  25.265086  3.377494 -0.135383   \n",
      "2             1         3  4.504882e-12  35.197042  3.517153  0.027024   \n",
      "3             1         4  1.645797e-06  23.437392  3.278474 -0.032851   \n",
      "4             1         5  1.476001e-15  37.110564  3.487085  0.219944   \n",
      "..          ...       ...           ...        ...       ...       ...   \n",
      "995         100         6  1.411115e-06  19.746588  3.199839 -0.192426   \n",
      "996         100         7  6.310282e-18  40.632308  3.547763  0.177320   \n",
      "997         100         8  1.656707e-21  37.738410  3.477627  0.253008   \n",
      "998         100         9  6.009567e-17  40.893984  3.355681  0.394304   \n",
      "999         100        10  3.836152e-04  22.717354  3.548116 -0.438902   \n",
      "\n",
      "        char1     char2     char3     char4  \n",
      "0    4.084113  3.486695  5.444982  4.720201  \n",
      "1    5.950637  4.411340  3.100095  2.086126  \n",
      "2    4.644542  4.685754  4.369478  3.639104  \n",
      "3    4.247251  2.084392  4.481006  2.258597  \n",
      "4    3.390292  3.179146  3.923394  5.726494  \n",
      "..        ...       ...       ...       ...  \n",
      "995  2.838905  5.238451  1.146924  5.147878  \n",
      "996  4.815203  3.766091  2.394067  3.666160  \n",
      "997  2.021534  1.147281  1.564351  2.269700  \n",
      "998  3.814582  1.344514  5.960157  4.741142  \n",
      "999  4.442626  2.947819  5.680827  3.809919  \n",
      "\n",
      "[1000 rows x 10 columns]\n"
     ]
    }
   ],
   "source": [
    "df = market.generate_simulated_data()\n",
    "print(df)"
   ]
  },
  {
   "cell_type": "code",
   "execution_count": 12,
   "metadata": {},
   "outputs": [
    {
     "data": {
      "image/png": "[encoded data removed]",
      "text/plain": [
       "<Figure size 640x480 with 1 Axes>"
      ]
     },
     "metadata": {},
     "output_type": "display_data"
    }
   ],
   "source": [
    "# try the standard probit model for finding the coefficients \n",
    "# Generate some random data for the histogram\n",
    "\n",
    "\n",
    "# Create a histogram with 10 bins\n",
    "plt.hist(market.market_shares, bins=50, edgecolor='black')\n",
    "\n",
    "# Set labels and title\n",
    "plt.xlabel('Value')\n",
    "plt.ylabel('Frequency')\n",
    "plt.title('Histogram with 50 Bins')\n",
    "\n",
    "# Display the plot\n",
    "plt.show()"
   ]
  },
  {
   "cell_type": "markdown",
   "metadata": {},
   "source": [
    "Trying to estimate with the logit function: \n",
    " \n",
    "y = ln(s_0) - ln(s_n)\n"
   ]
  },
  {
   "cell_type": "code",
   "execution_count": 27,
   "metadata": {},
   "outputs": [
    {
     "name": "stdout",
     "output_type": "stream",
     "text": [
      "[2.18789425e-02 3.83716171e-03 3.25180245e-05 2.09986125e-01\n",
      " 1.82446438e-03 2.44108832e-02 1.09448483e-03 2.65594003e-03\n",
      " 1.19237795e-03 8.03713386e-02 8.76324343e-01 2.73767441e-05\n",
      " 9.21679116e-06 3.59824222e-05 1.92522083e-04 1.21662174e-02\n",
      " 1.27313573e-02 7.03782144e-01 2.06396523e-04 1.21505344e-05\n",
      " 6.61600290e-04 5.42245853e-04 1.67944420e-05 7.74971803e-04\n",
      " 3.69025838e-02 8.13198780e-06 4.05721646e-02 1.89779468e-03\n",
      " 2.50657651e-05 4.32356998e-01 3.32101733e-05 9.68463639e-02\n",
      " 8.53971988e-02 1.28869757e-01 9.62517219e-01 4.36213504e-04\n",
      " 2.06324746e-01 2.19765551e-02 9.64479278e-02 2.36172030e-01\n",
      " 2.44197323e-03 2.29450024e-05 7.89504980e-01 8.57040215e-01\n",
      " 3.81168417e-02 2.95999930e-05 4.96184850e-02 7.14253051e-02\n",
      " 4.78927067e-04 4.74556863e-04 1.49690466e-01 3.20503927e-07\n",
      " 1.03283409e-01 8.18405858e-01 2.45853869e-02 1.49442481e-01\n",
      " 8.19657024e-03 2.12197493e-02 8.73263031e-01 2.96912326e-01\n",
      " 5.27031784e-03 1.85791585e-02 1.19524488e-02 3.04535690e-01\n",
      " 6.24660910e-02 6.90271044e-04 1.67981779e-01 8.81992202e-01\n",
      " 1.23843511e-03 1.36570955e-04 6.01753365e-02 1.20198542e-02\n",
      " 9.22218242e-02 8.17340915e-02 2.24066095e-03 9.73439124e-05\n",
      " 1.33184295e-03 2.30561606e-02 4.09584387e-01 7.20484521e-05\n",
      " 7.40427604e-01 1.00363933e-01 9.34209193e-05 1.35024358e-03\n",
      " 4.97991497e-02 7.26673856e-04 3.54852788e-02 1.57758345e-03\n",
      " 2.68024302e-02 6.70608304e-01 3.18590603e-04 3.70469226e-06\n",
      " 5.17189800e-02 3.16848220e-04 9.87423179e-02 3.18470601e-01\n",
      " 4.62907632e-02 2.41264385e-05 1.32566147e-03 2.44223298e-03]\n",
      "market_ids\n",
      "1      0.021879\n",
      "2      0.003837\n",
      "3      0.000033\n",
      "4      0.209986\n",
      "5      0.001824\n",
      "         ...   \n",
      "96     0.318471\n",
      "97     0.046291\n",
      "98     0.000024\n",
      "99     0.001326\n",
      "100    0.002442\n",
      "Name: market_share, Length: 100, dtype: float64\n"
     ]
    }
   ],
   "source": [
    "reshape = np.reshape(market.market_shares, (T, n_firms))\n",
    "\n",
    "sum_market_shares = np.sum(reshape, axis=1)\n",
    "print(sum_market_shares)\n",
    "\n",
    "outside_good_share = df.groupby('market_ids')['market_share'].sum()\n",
    "print(outside_good_share)\n",
    "\n",
    "    "
   ]
  }
 ],
 "metadata": {
  "kernelspec": {
   "display_name": "Python 3",
   "language": "python",
   "name": "python3"
  },
  "language_info": {
   "codemirror_mode": {
    "name": "ipython",
    "version": 3
   },
   "file_extension": ".py",
   "mimetype": "text/x-python",
   "name": "python",
   "nbconvert_exporter": "python",
   "pygments_lexer": "ipython3",
   "version": "3.9.6"
  },
  "orig_nbformat": 4
 },
 "nbformat": 4,
 "nbformat_minor": 2
}
