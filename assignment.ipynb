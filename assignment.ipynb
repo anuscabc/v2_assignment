{
 "cells": [
  {
   "cell_type": "markdown",
   "metadata": {},
   "source": []
  },
  {
   "cell_type": "markdown",
   "metadata": {},
   "source": [
    "# Demand Estimation Exercise\n",
    "\n",
    "In this assignment, you will learn how to simulate market data and estimate simple random coefficient demand models. The assignment should serve as an introduction to the structural estimation in heterogenous products demand models.\n",
    "\n",
    "Let's first define the model.\n",
    "\n",
    "todo: Here you need to insert all the model definiton and reference to the slides\n",
    "\n",
    "\n",
    "$$ u_{ijt} = \\beta_{it}^{'} x_j + \\alpha_{it}p_{jt} + \\xi_{jt} + \\varepsilon_{ijt}$$\n",
    "\n",
    "Where: \n",
    "\n",
    "$$ \\alpha_{it} =  \\mu_{\\alpha} + \\sigma_{\\alpha} \\nu_{it}^{\\alpha} $$ \n",
    "$$ \\beta_{it} =  \\mu_{\\beta} + \\sigma_{\\beta} \\nu_{it}^{\\beta} $$ \n",
    "\n",
    "And $\\nu_{it}^{\\alpha}$ and $\\nu_{it}^{\\beta}$ are standard normally distributed. \n",
    "\n",
    "TO DO: Define all the other parameters and how they are constructed in the simulation for the students \n",
    "\n",
    "\n",
    "decision to make: \n",
    "                - should they work only in pandas or in numpy?\n",
    "\n",
    "                  - should they simulate data themselves? or just import my module?\n",
    "\n",
    "                  - should they write the GMM estimator themselves or just apply pyBLP more times until convergence? \n",
    "                   \n",
    "                  - maybe it is enough for them to write the strucural function parameters? \n",
    "\n",
    "                 \n"
   ]
  },
  {
   "cell_type": "markdown",
   "metadata": {},
   "source": [
    "### Step 1: Simulate Data\n",
    "\n"
   ]
  },
  {
   "cell_type": "code",
   "execution_count": null,
   "metadata": {},
   "outputs": [],
   "source": [
    "import market\n",
    "import numpy as np \n",
    "import pandas as pd \n",
    "import statsmodels.api as sm\n",
    "import scipy.stats as stats\n",
    "import matplotlib.pyplot as plt\n",
    "import pyblp"
   ]
  },
  {
   "cell_type": "markdown",
   "metadata": {},
   "source": [
    "The first step is to initialize the model class\n",
    "\n",
    "To do this you need to import the \"simulation\" module that was especially constructed for this course. Make sure the assignment notebook and the simulate are in the same folder if you have not prespecified a different path for the module.  (FIND A WAY FOR THE STUDENTS TO NOT RUN IT LOCAL, BUT ON THE GIT SERVER SUCH THAT THEY DO NOT NEED TO HAVE ANYTHING INSTALLED)\n",
    "\n",
    "Lets start by setting the parameters defining the market. These include the number of firms `n_firms`, number of consumers `n_cons`, number of product charactistics `n_char` and the number of time periods (or separated markets) `T`. The larger numbers you choose the longer the opimization will take. "
   ]
  },
  {
   "cell_type": "code",
   "execution_count": null,
   "metadata": {},
   "outputs": [],
   "source": [
    "# Set the number of firms and consumers, the number of characteristics and the\n",
    "# number of time steps.\n",
    "n_firms = 10\n",
    "n_cons = 1000\n",
    "n_char = 2\n",
    "T = 100\n",
    "\n",
    "# Initialize the market object\n",
    "market_object = market.MarketData(n_firms, n_cons, n_char, T)"
   ]
  },
  {
   "cell_type": "markdown",
   "metadata": {},
   "source": [
    "We have now created an _object_, which contains all the data and functions used to generate the data. The `market.py` file contains the Python code used to define this object. The simulation code makes use of the Object-Oriented Programming (OOP) paradigm. You do not need to change this code, but you can give it a look and try to understand the simulation process. \n",
    "\n",
    "We can now print the object, which will give us a summary of the main parameters of our simulation:"
   ]
  },
  {
   "cell_type": "code",
   "execution_count": null,
   "metadata": {},
   "outputs": [],
   "source": [
    "print(market_object)"
   ]
  },
  {
   "cell_type": "markdown",
   "metadata": {},
   "source": [
    "In this exercise we are going to try and estimate the parameters underlying the indirect mean utility of the consumers for buying a certain product (again reference to the slide and certain). You can easily retrive the true parameters by running the code below.\n",
    "THESE ARE THE PARAMETERS WE ARE GOING TO TRY AND ESTIMATE"
   ]
  },
  {
   "cell_type": "code",
   "execution_count": null,
   "metadata": {},
   "outputs": [],
   "source": [
    "# For the parameters underlying the distribution of the price coefficients \n",
    "print(f\"This is the mean price coefficeient {market_object.alpha_mean}\")\n",
    "print(f\"This is the standard deviation of the price coefficient {market_object.alpha_sd}\")\n",
    "\n",
    "# For the parameters underlying the distribution of the product characteristics coefficients \n",
    "print(f\"These are the means characteristics coefficeients \\n{market_object.beta_0}\")\n",
    "print(f\"These are standard deviations of the characteritics coefficients \\n {market_object.beta_sd}\")\n"
   ]
  },
  {
   "cell_type": "markdown",
   "metadata": {},
   "source": [
    "### PART 1. Data exploration\n"
   ]
  },
  {
   "cell_type": "markdown",
   "metadata": {},
   "source": [
    "Exercise 1: Look into the data characterizing you market. Print the dataframe object. Describe what you see. Is it all realistic? Which values are you likely to not have as an econometrician working on real datasets?"
   ]
  },
  {
   "cell_type": "code",
   "execution_count": null,
   "metadata": {},
   "outputs": [],
   "source": [
    "df = market_object.generate_simulated_data()\n",
    "\n",
    "# Print here the dataframe (delete answer before hand in students)\n",
    "print(df)\n",
    "\n",
    "# Describe in 100 words max what you see (as a comment in the cell or in a \n",
    "# separate markdown cell: \n",
    "# Which values are you not likely to not observe when working with real datasets?"
   ]
  },
  {
   "cell_type": "markdown",
   "metadata": {},
   "source": [
    "Exercise 2: Create a histogram with: \n",
    "\n",
    "1. The distribution of prices \n",
    "2. The distribution of market shares \n",
    "\n",
    "You should use the columns from the generated dataframe. "
   ]
  },
  {
   "cell_type": "code",
   "execution_count": null,
   "metadata": {},
   "outputs": [],
   "source": [
    "# Create a histogram\n",
    "plt.hist(df[\"prices\"], bins=50, edgecolor='black')\n",
    "\n",
    "# Set labels and title\n",
    "plt.xlabel('Value')\n",
    "plt.ylabel('Frequency')\n",
    "plt.title(' Prices Histogram')\n",
    "\n",
    "# Display the plot\n",
    "plt.show()"
   ]
  },
  {
   "cell_type": "code",
   "execution_count": null,
   "metadata": {},
   "outputs": [],
   "source": [
    "# Create a histogram\n",
    "plt.hist(df[\"shares\"], bins=50, edgecolor='black')\n",
    "\n",
    "# Set labels and title\n",
    "plt.xlabel('Value')\n",
    "plt.ylabel('Frequency')\n",
    "plt.title('Market Shares Histogram')\n",
    "\n",
    "# Display the plot\n",
    "plt.show()"
   ]
  },
  {
   "cell_type": "markdown",
   "metadata": {},
   "source": [
    "### Part 2: Simple Logit Estimation"
   ]
  },
  {
   "cell_type": "markdown",
   "metadata": {},
   "source": [
    "Exercise 1: Estimate the simple logit model disregarding consumer heterogeneity\n",
    "\n",
    "Trying to estimate with the logit function: \n",
    "\n",
    "$$ ln(s_0) - ln(s_n) =   \\beta^{'} x_j + \\alpha p_{jt}  $$\n",
    "\n",
    "Check if this estimation leads to the correct coefficients and what we can do to improve it. "
   ]
  },
  {
   "cell_type": "code",
   "execution_count": null,
   "metadata": {},
   "outputs": [],
   "source": [
    "# Maybe let the students do this in pandas because it seems to much to ask to \n",
    "# use the attributes in 1-2 weeks? \n",
    "reshape = np.reshape(market_object.market_shares, (T, n_firms))\n",
    "sum_market_shares = np.sum(reshape, axis=1)\n",
    "repeated_sum_shares = np.reshape(np.repeat(sum_market_shares, n_firms), (n_firms*T, 1))\n",
    "y  = np.log(market_object.market_shares) - np.log(repeated_sum_shares)    "
   ]
  },
  {
   "cell_type": "code",
   "execution_count": null,
   "metadata": {},
   "outputs": [],
   "source": [
    "x = df[['prices','char1', 'char2']]\n",
    "# with sklearn\n",
    "mod = sm.OLS(y, x).fit()\n",
    "print(mod.summary()) "
   ]
  },
  {
   "cell_type": "markdown",
   "metadata": {},
   "source": [
    "Exercise 2: Compare the estimates with the true estimates? What is wrong here? \n"
   ]
  },
  {
   "cell_type": "code",
   "execution_count": null,
   "metadata": {},
   "outputs": [],
   "source": [
    "print(f\"The true parameters are alpha = {market_object.alpha_mean} and beta = \\n {market_object.beta_0} \")\n",
    "\n",
    "\n",
    "\n",
    "print(f\"The estimates parameters are alpha = {mod.params[0]} and beta = \\n {mod.params[1:n_char+1]}\")"
   ]
  },
  {
   "cell_type": "code",
   "execution_count": null,
   "metadata": {},
   "outputs": [],
   "source": [
    "# Additional visualization students do not need to do this but it is good for \n",
    "# visualization\n",
    "\n",
    "fig, axes = plt.subplots(2, 1, figsize=(6, 4))\n",
    "\n",
    "for i,ax in enumerate(axes.flatten()):\n",
    "    ax.axvline(market_object.beta_0[i], label=\"true\", color=\"blue\")\n",
    "\n",
    "    # Plot (distribution of) estimated coefficient\n",
    "    mu = mod.params[i+1]\n",
    "    sigma = mod.bse[i+1]\n",
    "    x1 = np.linspace(mu - 4*sigma, mu + 4*sigma, 1000)\n",
    "    x2 = np.linspace(mu - 1.96*sigma, mu + 1.96*sigma, 1000)\n",
    "    \n",
    "    ax.axvline(mu, label=\"estimated\", color=\"red\")\n",
    "    ax.plot(x1, stats.norm.pdf(x1, mu, sigma), color=\"red\")\n",
    "    ax.fill_between(x2, stats.norm.pdf(x2, mu, sigma), color=\"red\", alpha=0.4)\n",
    "    \n",
    "    ax.set_title(f\"$\\\\beta_{i+1}$\")\n",
    "\n",
    "plt.tight_layout()\n",
    "plt.show()"
   ]
  },
  {
   "cell_type": "markdown",
   "metadata": {},
   "source": [
    "### Part 3: Estimation with the PyBLP package (without supply side problem)\n"
   ]
  },
  {
   "cell_type": "code",
   "execution_count": null,
   "metadata": {},
   "outputs": [],
   "source": [
    "X1_formulation = pyblp.Formulation('0 + prices + char1 + char2')\n",
    "X2_formulation = pyblp.Formulation('0 + prices + char1 + char2')\n",
    "product_formulations = (X1_formulation, X2_formulation)\n",
    "product_formulations"
   ]
  },
  {
   "cell_type": "code",
   "execution_count": null,
   "metadata": {},
   "outputs": [],
   "source": [
    "mc_integration = pyblp.Integration('monte_carlo', size=100, specification_options={'seed': 0})\n",
    "mc_integration"
   ]
  },
  {
   "cell_type": "code",
   "execution_count": null,
   "metadata": {},
   "outputs": [],
   "source": [
    "mc_problem = pyblp.Problem(product_formulations, df, integration=mc_integration)\n"
   ]
  },
  {
   "cell_type": "code",
   "execution_count": null,
   "metadata": {},
   "outputs": [],
   "source": [
    "bfgs = pyblp.Optimization('bfgs', {'gtol': 1e-4})\n"
   ]
  },
  {
   "cell_type": "code",
   "execution_count": null,
   "metadata": {},
   "outputs": [],
   "source": [
    "results1 = mc_problem.solve(sigma=np.ones((3, 3)), optimization=bfgs)\n",
    "\n"
   ]
  },
  {
   "cell_type": "markdown",
   "metadata": {},
   "source": [
    "### Part 4 - Here either writing linear estimation themselves or put in the supply side cost structure and disable optimal instruments"
   ]
  },
  {
   "cell_type": "code",
   "execution_count": null,
   "metadata": {},
   "outputs": [],
   "source": [
    "product_data = df\n",
    "# Setting up the formulations\n",
    "product_formulations = (pyblp.Formulation('0 + prices + char1 + char2'), pyblp.Formulation('0 + prices + char1+ char2'),pyblp.Formulation('cost'))\n",
    "\n",
    "mc_integration = pyblp.Integration('monte_carlo', size=100, specification_options={'seed': 0})\n",
    "problem = pyblp.Problem(product_formulations, product_data, integration=mc_integration)\n",
    "bfgs = pyblp.Optimization('bfgs', {'gtol': 1e-6})\n",
    "estimation = problem.solve(sigma=(np.ones((3, 3))/2),beta=[1., 1., 1.], optimization=bfgs)"
   ]
  }
 ],
 "metadata": {
  "kernelspec": {
   "display_name": "Python 3",
   "language": "python",
   "name": "python3"
  },
  "language_info": {
   "codemirror_mode": {
    "name": "ipython",
    "version": 3
   },
   "file_extension": ".py",
   "mimetype": "text/x-python",
   "name": "python",
   "nbconvert_exporter": "python",
   "pygments_lexer": "ipython3",
   "version": "3.9.6"
  },
  "orig_nbformat": 4
 },
 "nbformat": 4,
 "nbformat_minor": 2
}
