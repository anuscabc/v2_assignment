{
 "cells": [
  {
   "cell_type": "markdown",
   "metadata": {},
   "source": [
    "## Demand Estimation Exercise\n",
    "\n",
    "In this assignment, you will learn how to simulate market data and estimate simple random coefficient demand models. The assignment should serve as an introduction to the structural estimation in heterogenous product demand models.\n",
    "\n",
    "Let's first define the model.\n"
   ]
  },
  {
   "cell_type": "code",
   "execution_count": 1,
   "metadata": {},
   "outputs": [],
   "source": [
    "import simulate\n",
    "import numpy as np \n",
    "import pandas as pd \n",
    "import matplotlib.pyplot as plt"
   ]
  },
  {
   "cell_type": "code",
   "execution_count": 2,
   "metadata": {},
   "outputs": [
    {
     "name": "stdout",
     "output_type": "stream",
     "text": [
      "Market with 10 firms and 1000 consumers over 10 time periods. \n",
      " Firms sell differentiated product which have 3 product characteristics\n"
     ]
    }
   ],
   "source": [
    "market = simulate.Market_Data(10, 1000, 3, 10)\n",
    "print(market)"
   ]
  },
  {
   "cell_type": "code",
   "execution_count": 6,
   "metadata": {},
   "outputs": [
    {
     "name": "stdout",
     "output_type": "stream",
     "text": [
      "(10, 3)\n",
      "[[5.27222258 2.05193222 1.38320935]\n",
      " [4.94457399 3.73750001 4.93127431]\n",
      " [5.60023521 3.40486383 3.29776835]\n",
      " [3.99489578 3.9965939  3.52186726]\n",
      " [2.53439265 3.7067649  5.62463472]\n",
      " [5.85275401 2.97897305 4.99372636]\n",
      " [4.17544074 2.14984583 1.25603546]\n",
      " [1.14231903 1.61423876 2.10106259]\n",
      " [5.14511377 2.42745914 4.90532041]\n",
      " [3.52332906 1.69224462 4.89018276]]\n",
      "[[ 0.169921  ]\n",
      " [ 0.86102689]\n",
      " [ 0.00513994]\n",
      " [ 0.03529768]\n",
      " [ 2.86457211]\n",
      " [ 1.22727149]\n",
      " [ 0.10537246]\n",
      " [-0.16729861]\n",
      " [ 0.9387192 ]\n",
      " [-0.13748932]\n",
      " [-0.67818232]\n",
      " [ 0.76239127]\n",
      " [ 1.19493066]\n",
      " [ 1.09266934]\n",
      " [ 1.01582885]\n",
      " [-0.70639973]\n",
      " [-0.25999155]\n",
      " [ 0.82469389]\n",
      " [-0.29318707]\n",
      " [ 0.1315218 ]\n",
      " [-0.05534718]\n",
      " [-0.76808008]\n",
      " [-0.83299498]\n",
      " [ 0.5135007 ]\n",
      " [ 0.74097149]\n",
      " [ 0.32817733]\n",
      " [ 2.59366079]\n",
      " [ 0.65289221]\n",
      " [-0.0964893 ]\n",
      " [ 1.94203607]\n",
      " [-0.1235615 ]\n",
      " [ 0.02339787]\n",
      " [ 0.99477643]\n",
      " [ 0.16701093]\n",
      " [ 1.6163454 ]\n",
      " [-0.61989536]\n",
      " [-0.30696023]\n",
      " [ 1.49153619]\n",
      " [-0.81029856]\n",
      " [ 0.03034852]\n",
      " [-0.36501127]\n",
      " [ 0.33590149]\n",
      " [-0.20798233]\n",
      " [ 1.87856459]\n",
      " [ 0.74629812]\n",
      " [-0.13153952]\n",
      " [ 0.07516716]\n",
      " [ 0.611536  ]\n",
      " [ 0.62629604]\n",
      " [-0.13319392]\n",
      " [-0.94020237]\n",
      " [-0.44811229]\n",
      " [ 0.68286928]\n",
      " [ 0.16357421]\n",
      " [ 0.19285017]\n",
      " [ 0.41458223]\n",
      " [ 0.49474706]\n",
      " [ 0.75183286]\n",
      " [ 1.87603174]\n",
      " [ 0.33062075]\n",
      " [ 0.13586924]\n",
      " [-0.04287298]\n",
      " [ 0.1194233 ]\n",
      " [ 0.82332265]\n",
      " [-0.05459578]\n",
      " [-0.57090952]\n",
      " [-0.04029696]\n",
      " [ 0.63727268]\n",
      " [ 0.66289961]\n",
      " [ 0.65297083]\n",
      " [ 1.03388868]\n",
      " [ 0.58953525]\n",
      " [ 0.9426565 ]\n",
      " [-0.46990461]\n",
      " [-0.55364371]\n",
      " [-0.11129028]\n",
      " [ 0.14545114]\n",
      " [ 0.52671176]\n",
      " [ 1.51503129]\n",
      " [ 0.20457749]\n",
      " [ 0.1616902 ]\n",
      " [ 1.07882402]\n",
      " [ 0.30010833]\n",
      " [-1.04000049]\n",
      " [ 0.66350007]\n",
      " [ 0.21173629]\n",
      " [-0.17562931]\n",
      " [ 0.11777381]\n",
      " [ 0.26574734]\n",
      " [ 0.10058506]\n",
      " [ 0.17318552]\n",
      " [ 0.21200336]\n",
      " [ 1.17492647]\n",
      " [ 0.36613161]\n",
      " [ 0.35573546]\n",
      " [ 0.28555825]\n",
      " [ 0.81496002]\n",
      " [ 0.06916852]\n",
      " [ 0.69788321]\n",
      " [-0.29935852]]\n",
      "(100, 1)\n"
     ]
    }
   ],
   "source": [
    "print(market.produc_chars.shape)\n",
    "print(market.produc_chars)\n",
    "\n",
    "print(market.prices)\n",
    "print(market.prices.shape)\n",
    "\n",
    "\n",
    "\n"
   ]
  }
 ],
 "metadata": {
  "kernelspec": {
   "display_name": "Python 3",
   "language": "python",
   "name": "python3"
  },
  "language_info": {
   "codemirror_mode": {
    "name": "ipython",
    "version": 3
   },
   "file_extension": ".py",
   "mimetype": "text/x-python",
   "name": "python",
   "nbconvert_exporter": "python",
   "pygments_lexer": "ipython3",
   "version": "3.9.6"
  },
  "orig_nbformat": 4
 },
 "nbformat": 4,
 "nbformat_minor": 2
}
